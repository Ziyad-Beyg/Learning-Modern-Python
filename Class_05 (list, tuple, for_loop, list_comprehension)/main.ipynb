{
 "cells": [
  {
   "cell_type": "markdown",
   "metadata": {},
   "source": [
    "# LIST"
   ]
  },
  {
   "cell_type": "code",
   "execution_count": 3,
   "metadata": {},
   "outputs": [
    {
     "name": "stdout",
     "output_type": "stream",
     "text": [
      "['sir zia', 'muhammad qasim', 'dr noman']\n"
     ]
    }
   ],
   "source": [
    "names: list[str] = [\"sir zia\", \"muhammad qasim\", \"dr noman\"] # comma seprated values are called \"Elements\"\n",
    "\n",
    "print(names)"
   ]
  },
  {
   "cell_type": "markdown",
   "metadata": {},
   "source": [
    "# For Loop Iteration"
   ]
  },
  {
   "cell_type": "code",
   "execution_count": 5,
   "metadata": {},
   "outputs": [
    {
     "name": "stdout",
     "output_type": "stream",
     "text": [
      "sir zia\n",
      "muhammad qasim\n",
      "dr noman\n"
     ]
    }
   ],
   "source": [
    "names: list[str] = [\"sir zia\", \"muhammad qasim\", \"dr noman\"] \n",
    "\n",
    "for i in names:\n",
    "    print(i)\n",
    "    # sir zia\n",
    "    # muhammad qasim\n",
    "    # dr noman"
   ]
  },
  {
   "cell_type": "markdown",
   "metadata": {},
   "source": [
    "# Traditional Way to Iterate\n"
   ]
  },
  {
   "cell_type": "code",
   "execution_count": 7,
   "metadata": {},
   "outputs": [
    {
     "name": "stdout",
     "output_type": "stream",
     "text": [
      "sir zia\n",
      "muhammad qasim\n",
      "dr noman\n"
     ]
    }
   ],
   "source": [
    "names: list[str] = [\"sir zia\", \"muhammad qasim\", \"dr noman\"]\n",
    "\n",
    "i : int = 0\n",
    "\n",
    "while i < len(names):\n",
    "    print(names[i])\n",
    "    i += 1"
   ]
  },
  {
   "cell_type": "markdown",
   "metadata": {},
   "source": [
    "# Iteration In JavaScript\n",
    "\n",
    "```\n",
    "for(i = 0; i < names.length(); i++ ){\n",
    "    names[i]\n",
    "}\n",
    "```\n"
   ]
  },
  {
   "cell_type": "code",
   "execution_count": 9,
   "metadata": {},
   "outputs": [
    {
     "name": "stdout",
     "output_type": "stream",
     "text": [
      "Welcome Dear Teacher Sir Zia\n",
      "Welcome Dear Teacher Muhammad Qasim\n",
      "Welcome Dear Teacher Dr Noman\n"
     ]
    }
   ],
   "source": [
    "names: list[str] = [\"sir zia\", \"muhammad qasim\", \"dr noman\"]\n",
    "\n",
    "for i in names:\n",
    "    print(f'Welcome Dear Teacher {i.title()}')"
   ]
  },
  {
   "cell_type": "code",
   "execution_count": 12,
   "metadata": {},
   "outputs": [
    {
     "name": "stdout",
     "output_type": "stream",
     "text": [
      "Welcome Dear Teacher Sir Zia\n",
      "PIAIC GEN AI TEAM\n",
      "\n",
      "Welcome Dear Teacher Muhammad Qasim\n",
      "PIAIC GEN AI TEAM\n",
      "\n",
      "Welcome Dear Teacher Dr Noman\n",
      "PIAIC GEN AI TEAM\n",
      "\n",
      "Hello World!\n"
     ]
    }
   ],
   "source": [
    "names: list[str] = [\"sir zia\", \"muhammad qasim\", \"dr noman\"]\n",
    "\n",
    "for i in names:\n",
    "    print(f'Welcome Dear Teacher {i.title()}')\n",
    "    print(\"PIAIC GEN AI TEAM\\n\")\n",
    "\n",
    "print(\"Hello World!\") # Not Included in For Block"
   ]
  },
  {
   "cell_type": "markdown",
   "metadata": {},
   "source": [
    "## Iteration With Slicing"
   ]
  },
  {
   "cell_type": "code",
   "execution_count": 132,
   "metadata": {},
   "outputs": [
    {
     "name": "stdout",
     "output_type": "stream",
     "text": [
      "Welcome Dear Teacher Sir Zia\n",
      "PIAIC GEN AI TEAM\n",
      "\n",
      "Welcome Dear Teacher Muhammad Qasim\n",
      "PIAIC GEN AI TEAM\n",
      "\n"
     ]
    }
   ],
   "source": [
    "names: list[str] = [\"sir zia\", \"muhammad qasim\", \"dr noman\"]\n",
    "\n",
    "for i in names[:2]: # starting from 0, ending on index 1 with a step of 1\n",
    "    print(f'Welcome Dear Teacher {i.title()}')\n",
    "    print(\"PIAIC GEN AI TEAM\\n\")"
   ]
  },
  {
   "cell_type": "markdown",
   "metadata": {},
   "source": [
    "## Reverse Iteration With Slicing "
   ]
  },
  {
   "cell_type": "code",
   "execution_count": 133,
   "metadata": {},
   "outputs": [
    {
     "name": "stdout",
     "output_type": "stream",
     "text": [
      "Welcome Dear Teacher Muhammad Qasim\n",
      "PIAIC GEN AI TEAM\n",
      "\n",
      "Welcome Dear Teacher Dr Noman\n",
      "PIAIC GEN AI TEAM\n",
      "\n"
     ]
    }
   ],
   "source": [
    "names: list[str] = [\"sir zia\", \"muhammad qasim\", \"dr noman\"]\n",
    "\n",
    "for i in names[-2:]: # starting with -2, ending to the last index with a step of 1\n",
    "    print(f'Welcome Dear Teacher {i.title()}')\n",
    "    print(\"PIAIC GEN AI TEAM\\n\")"
   ]
  },
  {
   "cell_type": "markdown",
   "metadata": {},
   "source": [
    "## For Loop with Else Block:\n",
    " \n",
    "* the else block in code is now related to the for loop, if the logic in for loop is not satisfied then it will run else block."
   ]
  },
  {
   "cell_type": "code",
   "execution_count": 52,
   "metadata": {},
   "outputs": [
    {
     "name": "stdout",
     "output_type": "stream",
     "text": [
      "username => qasim and password => 1234\n",
      "USER AUTHORIZED!\n"
     ]
    }
   ],
   "source": [
    "data_set: list[tuple[str, int]] = [(\"qasim\", 1234),(\"zia\", 5678),(\"noman\", 13570)]\n",
    "\n",
    "username_input : str = input(\"USERNAME: \").strip()\n",
    "password_input : int = int(input(\"PASSWORD: \").strip())\n",
    "\n",
    "for user in data_set:\n",
    "    username, password = user\n",
    "    if username_input == username and password_input == password:\n",
    "        print(f\"username => {username_input} and password => {password_input}\")\n",
    "        print(\"User Authorized!\".upper())\n",
    "        break\n",
    "else: \n",
    "    print(f\"username => {username_input} and password => {password_input}\")\n",
    "    print(\"Unauthorized User!\".upper())"
   ]
  },
  {
   "cell_type": "code",
   "execution_count": 53,
   "metadata": {},
   "outputs": [
    {
     "name": "stdout",
     "output_type": "stream",
     "text": [
      "username => ziyad and password => 123456789\n",
      "UNAUTHORIZED USER!\n"
     ]
    }
   ],
   "source": [
    "data_set: list[tuple[str, int]] = [(\"qasim\", 1234),(\"zia\", 5678),(\"noman\", 13570)]\n",
    "\n",
    "username_input : str = input(\"USERNAME: \").strip()\n",
    "password_input : int = int(input(\"PASSWORD: \").strip())\n",
    "\n",
    "for user in data_set:\n",
    "    username, password = user\n",
    "    if username_input == username and password_input == password:\n",
    "        print(f\"username => {username_input} and password => {password_input}\")\n",
    "        print(\"User Authorized!\".upper())\n",
    "        break\n",
    "else: \n",
    "    print(f\"username => {username_input} and password => {password_input}\")\n",
    "    print(\"Unauthorized User!\".upper())"
   ]
  },
  {
   "cell_type": "markdown",
   "metadata": {},
   "source": [
    "## Whenever a variable is used in for loop the last iteration value remains in the variable and is accessable outside the local scope."
   ]
  },
  {
   "cell_type": "code",
   "execution_count": 51,
   "metadata": {},
   "outputs": [
    {
     "name": "stdout",
     "output_type": "stream",
     "text": [
      "Welcome Magician Alice,\n",
      "Welcome Magician Jack,\n",
      "Welcome Magician Sally,\n",
      "\n",
      "Last magician's name was Sally. \n"
     ]
    }
   ],
   "source": [
    "magicians : list[str] = [\"Alice\", \"Jack\", \"Sally\"]\n",
    "\n",
    "for magician in magicians:\n",
    "    print(f\"Welcome Magician {magician},\")\n",
    "\n",
    "print(f\"\\nLast magician's name was {magician}. \")"
   ]
  },
  {
   "cell_type": "markdown",
   "metadata": {},
   "source": [
    "# Enumerate()\n",
    "\n",
    "* `Enumerate()` is a generative function that doesn't run by default, we have to add it to an iteration.\n",
    "* it returns a list of tuple with the index and value.\n",
    "* `[(index, value), (index, value), (index, value)]`"
   ]
  },
  {
   "cell_type": "code",
   "execution_count": 1,
   "metadata": {},
   "outputs": [
    {
     "data": {
      "text/plain": [
       "<enumerate at 0x206d2d557b0>"
      ]
     },
     "execution_count": 1,
     "metadata": {},
     "output_type": "execute_result"
    }
   ],
   "source": [
    "magicians : list[str] = [\"Alice\", \"Jack\", \"Sally\"]\n",
    "\n",
    "list(enumerate(magicians))"
   ]
  },
  {
   "cell_type": "markdown",
   "metadata": {},
   "source": [
    "# Numbers With Loop\n",
    "\n",
    "* ```range(start, end, step)```"
   ]
  },
  {
   "cell_type": "code",
   "execution_count": 54,
   "metadata": {},
   "outputs": [
    {
     "data": {
      "text/plain": [
       "range(2, 10)"
      ]
     },
     "execution_count": 54,
     "metadata": {},
     "output_type": "execute_result"
    }
   ],
   "source": [
    "range(2, 10)"
   ]
  },
  {
   "cell_type": "markdown",
   "metadata": {},
   "source": [
    "* range is a generative function that can not run by default, we have to add it to an iteration."
   ]
  },
  {
   "cell_type": "code",
   "execution_count": 3,
   "metadata": {},
   "outputs": [
    {
     "data": {
      "text/plain": [
       "[2, 3, 4, 5, 6, 7, 8, 9]"
      ]
     },
     "execution_count": 3,
     "metadata": {},
     "output_type": "execute_result"
    }
   ],
   "source": [
    "#          2, n-1 \n",
    "list(range(2, 10)) \n",
    "# ending in range is exclusive or n-1, and step is set to be 1 by default. "
   ]
  },
  {
   "cell_type": "code",
   "execution_count": 6,
   "metadata": {},
   "outputs": [
    {
     "data": {
      "text/plain": [
       "[0, 1, 2, 3, 4, 5, 6, 7, 8, 9]"
      ]
     },
     "execution_count": 6,
     "metadata": {},
     "output_type": "execute_result"
    }
   ],
   "source": [
    "list(range(10))\n",
    "# range(10) => start from zero to 9 that is n-1 with a step value of 1."
   ]
  },
  {
   "cell_type": "markdown",
   "metadata": {},
   "source": [
    "## Table of 2 with range()"
   ]
  },
  {
   "cell_type": "code",
   "execution_count": 59,
   "metadata": {},
   "outputs": [
    {
     "data": {
      "text/plain": [
       "[2, 4, 6, 8, 10, 12, 14, 16, 18, 20]"
      ]
     },
     "execution_count": 59,
     "metadata": {},
     "output_type": "execute_result"
    }
   ],
   "source": [
    "list(range(2,21,2))"
   ]
  },
  {
   "cell_type": "markdown",
   "metadata": {},
   "source": [
    "## Table of two with pretty formatting using `range()` & `enumerate()`"
   ]
  },
  {
   "cell_type": "code",
   "execution_count": 8,
   "metadata": {},
   "outputs": [
    {
     "name": "stdout",
     "output_type": "stream",
     "text": [
      "2 x 1 = 2\n",
      "2 x 2 = 4\n",
      "2 x 3 = 6\n",
      "2 x 4 = 8\n",
      "2 x 5 = 10\n",
      "2 x 6 = 12\n",
      "2 x 7 = 14\n",
      "2 x 8 = 16\n",
      "2 x 9 = 18\n",
      "2 x 10 = 20\n"
     ]
    }
   ],
   "source": [
    "for i in enumerate(range(2, 21, 2)):\n",
    "    print(f\"2 x {i[0] + 1} = {i[1]}\")"
   ]
  },
  {
   "cell_type": "markdown",
   "metadata": {},
   "source": [
    "* Table of Two with Unziping of tuple."
   ]
  },
  {
   "cell_type": "code",
   "execution_count": 68,
   "metadata": {},
   "outputs": [
    {
     "name": "stdout",
     "output_type": "stream",
     "text": [
      "2 x 1 = 2\n",
      "2 x 2 = 4\n",
      "2 x 3 = 6\n",
      "2 x 4 = 8\n",
      "2 x 5 = 10\n",
      "2 x 6 = 12\n",
      "2 x 7 = 14\n",
      "2 x 8 = 16\n",
      "2 x 9 = 18\n",
      "2 x 10 = 20\n"
     ]
    }
   ],
   "source": [
    "for index, value in enumerate(range(2, 21, 2)):\n",
    "    print(f\"2 x {index + 1} = {value}\")"
   ]
  },
  {
   "cell_type": "markdown",
   "metadata": {},
   "source": [
    "## Squares List:"
   ]
  },
  {
   "cell_type": "code",
   "execution_count": 72,
   "metadata": {},
   "outputs": [
    {
     "name": "stdout",
     "output_type": "stream",
     "text": [
      "[1, 4, 9, 16, 25, 36, 49, 64, 81, 100]\n"
     ]
    }
   ],
   "source": [
    "squares: list[int] = []\n",
    "for value in range(1, 11):\n",
    "    square = value ** 2\n",
    "    squares.append(square)\n",
    "print(squares)"
   ]
  },
  {
   "cell_type": "markdown",
   "metadata": {},
   "source": [
    "## List Comprehensive:\n",
    "\n",
    "* style of writing multiple lines of code in one line\n",
    "\n",
    "`Normal Style:` <br>\n",
    "        for item in items_list: <br>\n",
    "        &nbsp; &nbsp; loop_body\n",
    "\n",
    "`Comprehensive Style:` <br> &nbsp; &nbsp;\n",
    "[loop_body for item in items_list]"
   ]
  },
  {
   "cell_type": "markdown",
   "metadata": {},
   "source": [
    "### Squares List With List Comprehension"
   ]
  },
  {
   "cell_type": "code",
   "execution_count": 96,
   "metadata": {},
   "outputs": [
    {
     "data": {
      "text/plain": [
       "[1, 4, 9, 16, 25, 36, 49, 64, 81, 100]"
      ]
     },
     "execution_count": 96,
     "metadata": {},
     "output_type": "execute_result"
    }
   ],
   "source": [
    "#      ↱ loop defination \n",
    "[i**2 for i in range(1,11)] \n",
    "# ⬑loop body     ↳ range function"
   ]
  },
  {
   "cell_type": "code",
   "execution_count": 106,
   "metadata": {},
   "outputs": [
    {
     "name": "stdout",
     "output_type": "stream",
     "text": [
      "[1, 2, 3, 4, 5, 6, 7, 8, 9, 0]\n",
      "\n",
      "Max Number in List => 9\n",
      "Min Number in List => 0\n",
      "Sum of all Number in List => 45\n"
     ]
    }
   ],
   "source": [
    "digits: list[int] = [1,2,3,4,5,6,7,8,9,0]\n",
    "\n",
    "print(f\"{digits}\\n\")\n",
    "\n",
    "print(f\"Max Number in List => {max(digits)}\")\n",
    "print(f\"Min Number in List => {min(digits)}\")\n",
    "print(f\"Sum of all Number in List => {sum(digits)}\")"
   ]
  },
  {
   "cell_type": "markdown",
   "metadata": {},
   "source": [
    "### While Slicing a list, we always perform deep copy."
   ]
  },
  {
   "cell_type": "code",
   "execution_count": 110,
   "metadata": {},
   "outputs": [
    {
     "name": "stdout",
     "output_type": "stream",
     "text": [
      "my_foods => ['Biryani', 'Daal', 'Qorma']\n",
      "my_friends_foods => ['Biryani', 'Daal', 'Qorma']\n",
      "\n",
      "my_foods => ['Biryani', 'Daal', 'Qorma']\n",
      "my_friends_foods => ['Biryani', 'Tikka', 'Qorma']\n"
     ]
    }
   ],
   "source": [
    "my_foods = [\"Biryani\", \"Daal\", \"Qorma\"]\n",
    "\n",
    "my_friends_foods = my_foods[:] # DEEP COPY\n",
    "\n",
    "print(f\"my_foods => {my_foods}\")\n",
    "print(f\"my_friends_foods => {my_friends_foods}\\n\")\n",
    "\n",
    "my_friends_foods[1] = \"Tikka\"  # it will only update one index on the friends_foods i.e deep copy\n",
    "\n",
    "print(f\"my_foods => {my_foods}\")\n",
    "print(f\"my_friends_foods => {my_friends_foods}\")"
   ]
  },
  {
   "cell_type": "markdown",
   "metadata": {},
   "source": [
    "# TUPLES\n",
    "\n",
    "* similar to const in JS\n",
    "* immutable\n",
    "* can not be changed or update"
   ]
  },
  {
   "cell_type": "code",
   "execution_count": 111,
   "metadata": {},
   "outputs": [
    {
     "name": "stdout",
     "output_type": "stream",
     "text": [
      "('ALI', 'QASIM', 'FAHEEM')\n"
     ]
    }
   ],
   "source": [
    "names : tuple[str] = (\"ALI\", \"QASIM\", \"FAHEEM\")\n",
    "\n",
    "print(names)"
   ]
  },
  {
   "cell_type": "code",
   "execution_count": 112,
   "metadata": {},
   "outputs": [
    {
     "name": "stdout",
     "output_type": "stream",
     "text": [
      "ALI\n"
     ]
    }
   ],
   "source": [
    "names : tuple[str] = (\"ALI\", \"QASIM\", \"FAHEEM\")\n",
    "\n",
    "print(names[0]) # Indexing in Tuple"
   ]
  },
  {
   "cell_type": "code",
   "execution_count": 115,
   "metadata": {},
   "outputs": [
    {
     "name": "stdout",
     "output_type": "stream",
     "text": [
      "('ALI', 'QASIM')\n"
     ]
    }
   ],
   "source": [
    "names : tuple[str] = (\"ALI\", \"QASIM\", \"FAHEEM\")\n",
    "\n",
    "print(names[:2]) # Slicing in Tuple"
   ]
  },
  {
   "cell_type": "code",
   "execution_count": 12,
   "metadata": {},
   "outputs": [
    {
     "ename": "TypeError",
     "evalue": "'tuple' object does not support item assignment",
     "output_type": "error",
     "traceback": [
      "\u001b[1;31m---------------------------------------------------------------------------\u001b[0m",
      "\u001b[1;31mTypeError\u001b[0m                                 Traceback (most recent call last)",
      "Cell \u001b[1;32mIn[12], line 3\u001b[0m\n\u001b[0;32m      1\u001b[0m names : \u001b[38;5;28mtuple\u001b[39m[\u001b[38;5;28mstr\u001b[39m] \u001b[38;5;241m=\u001b[39m (\u001b[38;5;124m\"\u001b[39m\u001b[38;5;124mALI\u001b[39m\u001b[38;5;124m\"\u001b[39m, \u001b[38;5;124m\"\u001b[39m\u001b[38;5;124mQASIM\u001b[39m\u001b[38;5;124m\"\u001b[39m, \u001b[38;5;124m\"\u001b[39m\u001b[38;5;124mFAHEEM\u001b[39m\u001b[38;5;124m\"\u001b[39m)\n\u001b[1;32m----> 3\u001b[0m \u001b[43mnames\u001b[49m\u001b[43m[\u001b[49m\u001b[38;5;241;43m0\u001b[39;49m\u001b[43m]\u001b[49m \u001b[38;5;241m=\u001b[39m \u001b[38;5;124m\"\u001b[39m\u001b[38;5;124mZIYAD\u001b[39m\u001b[38;5;124m\"\u001b[39m \u001b[38;5;66;03m# Invalid, Can not update\u001b[39;00m\n\u001b[0;32m      5\u001b[0m \u001b[38;5;28mprint\u001b[39m(names)\n",
      "\u001b[1;31mTypeError\u001b[0m: 'tuple' object does not support item assignment"
     ]
    }
   ],
   "source": [
    "names : tuple[str] = (\"ALI\", \"QASIM\", \"FAHEEM\")\n",
    "\n",
    "names[0] = \"ZIYAD\" # Invalid, Can not update\n",
    "\n",
    "print(names)"
   ]
  },
  {
   "cell_type": "markdown",
   "metadata": {},
   "source": [
    "## Tuple can not update but can be reinitialized"
   ]
  },
  {
   "cell_type": "code",
   "execution_count": 120,
   "metadata": {},
   "outputs": [
    {
     "name": "stdout",
     "output_type": "stream",
     "text": [
      "('ALI', 'QASIM', 'FAHEEM')\n",
      "('ZIYAD', 'HAMMAD', 'SALMAN')\n"
     ]
    }
   ],
   "source": [
    "names : tuple[str] = (\"ALI\", \"QASIM\", \"FAHEEM\")\n",
    "\n",
    "print(names)\n",
    "\n",
    "names: tuple[str] = (\"ZIYAD\", \"HAMMAD\", \"SALMAN\")\n",
    "\n",
    "print(names)"
   ]
  },
  {
   "cell_type": "code",
   "execution_count": 122,
   "metadata": {},
   "outputs": [
    {
     "name": "stdout",
     "output_type": "stream",
     "text": [
      "('A', [1, 2, 3, 4], True)\n"
     ]
    }
   ],
   "source": [
    "from typing import Any\n",
    "data : tuple[Any] = (\"A\", [1, 2, 3, 4], True)\n",
    "\n",
    "print(data)"
   ]
  },
  {
   "cell_type": "markdown",
   "metadata": {},
   "source": [
    "## Tuple can not update, but if it contains an object then it can be updated.\n",
    "\n",
    "`tuple itself is not changed but an element within tuple is updated!`"
   ]
  },
  {
   "cell_type": "code",
   "execution_count": 131,
   "metadata": {},
   "outputs": [
    {
     "name": "stdout",
     "output_type": "stream",
     "text": [
      "tuple => ('A', [1, 2, 3, 4], True)\n",
      "\n",
      "Element within tuple before update => [1, 2, 3, 4]\n",
      "\n",
      "Element within tuple after update => [1, 2, 3, 4, 5, 6, 7, 8, 9]\n",
      "\n",
      "tuple => ('A', [1, 2, 3, 4, 5, 6, 7, 8, 9], True)\n"
     ]
    }
   ],
   "source": [
    "from typing import Any\n",
    "\n",
    "data : tuple[Any] = (\"A\", [1, 2, 3, 4], True)\n",
    "print(f'tuple => {data}')\n",
    "\n",
    "print(f'\\nElement within tuple before update => {data[1]}')\n",
    "\n",
    "data[1].extend([5, 6, 7, 8, 9]) # list is updated, but tuples remains the same.\n",
    "print(f'\\nElement within tuple after update => {data[1]}')\n",
    "\n",
    "print(f'\\ntuple => {data}')\n",
    "\n"
   ]
  }
 ],
 "metadata": {
  "kernelspec": {
   "display_name": "python12",
   "language": "python",
   "name": "python3"
  },
  "language_info": {
   "codemirror_mode": {
    "name": "ipython",
    "version": 3
   },
   "file_extension": ".py",
   "mimetype": "text/x-python",
   "name": "python",
   "nbconvert_exporter": "python",
   "pygments_lexer": "ipython3",
   "version": "3.12.0"
  }
 },
 "nbformat": 4,
 "nbformat_minor": 2
}
