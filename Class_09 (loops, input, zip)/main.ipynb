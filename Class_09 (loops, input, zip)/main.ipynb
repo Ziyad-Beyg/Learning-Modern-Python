{
 "cells": [
  {
   "cell_type": "markdown",
   "metadata": {},
   "source": [
    "# LOOPS\n",
    "\n",
    "- while\n",
    "  - while `logic`: # logic is either true or false <br/>\n",
    "    &emsp; loop body\n",
    "- for\n",
    "\n",
    "  - for `i` in `iterable_datatype`: # i is every iterations value and iterable_datatype can be list, tuple, string, set or dictionary <br/>\n",
    "    &emsp; loop body\n",
    "\n",
    "  ### LOOP CONTROLS\n",
    "\n",
    "        * break\n",
    "        * continue\n",
    "        * pass\n",
    "\n",
    "# INPUTS\n",
    "\n",
    "- input with input function <br>\n",
    "  &emsp; input's default type is `string`\n",
    "\n",
    "- input from console (`sys.argv`) <br>\n",
    "  &emsp; input's default type is `string`\n"
   ]
  },
  {
   "cell_type": "markdown",
   "metadata": {},
   "source": [
    "### Loop works on iterative datatypes like:\n",
    "\n",
    "- list\n",
    "- dictionary\n",
    "- tuple\n",
    "- string\n"
   ]
  },
  {
   "cell_type": "code",
   "execution_count": null,
   "metadata": {},
   "outputs": [
    {
     "name": "stdout",
     "output_type": "stream",
     "text": [
      "[1, 2, 3, 4, 5, 6]\n"
     ]
    }
   ],
   "source": [
    "# list1 indexes     0  1  2  3  4  5\n",
    "list1: list[int] = [1, 2, 3, 4, 5, 6]\n",
    "\n",
    "print(list1)"
   ]
  },
  {
   "cell_type": "markdown",
   "metadata": {},
   "source": [
    "# `for Loop`\n"
   ]
  },
  {
   "cell_type": "code",
   "execution_count": null,
   "metadata": {},
   "outputs": [
    {
     "name": "stdout",
     "output_type": "stream",
     "text": [
      "-> 1\n",
      "-> 2\n",
      "-> 3\n",
      "-> 4\n",
      "-> 5\n",
      "-> 6\n"
     ]
    }
   ],
   "source": [
    "# list1 indexes     0  1  2  3  4  5\n",
    "list1: list[int] = [1, 2, 3, 4, 5, 6]\n",
    "\n",
    "for i in list1:\n",
    "    print(f\"-> {i}\")"
   ]
  },
  {
   "cell_type": "markdown",
   "metadata": {},
   "source": [
    "Iterating through a `tuple`\n"
   ]
  },
  {
   "cell_type": "code",
   "execution_count": 15,
   "metadata": {},
   "outputs": [
    {
     "name": "stdout",
     "output_type": "stream",
     "text": [
      "My Tuple Value -> 1\n",
      "My Tuple Value -> 2\n",
      "My Tuple Value -> 3\n",
      "My Tuple Value -> 4\n",
      "My Tuple Value -> 5\n",
      "My Tuple Value -> 6\n"
     ]
    }
   ],
   "source": [
    "# Typle Indexes         0  1  2  3  4  5\n",
    "my_tuple: tuple[int] = (1, 2, 3, 4, 5, 6)\n",
    "\n",
    "for i in my_tuple:\n",
    "    print(f\"My Tuple Value -> {i}\")"
   ]
  },
  {
   "cell_type": "markdown",
   "metadata": {},
   "source": [
    "Iterating through a `string`\n"
   ]
  },
  {
   "cell_type": "code",
   "execution_count": 17,
   "metadata": {},
   "outputs": [
    {
     "name": "stdout",
     "output_type": "stream",
     "text": [
      "0. P\n",
      "1. A\n",
      "2. K\n",
      "3. I\n",
      "4. S\n",
      "5. T\n",
      "6. A\n",
      "7. N\n"
     ]
    }
   ],
   "source": [
    "# str indexes 01234567\n",
    "my_country = \"PAKISTAN\"\n",
    "\n",
    "for i, j in enumerate(my_country):\n",
    "    print(f\"{i}. {j}\")"
   ]
  },
  {
   "cell_type": "markdown",
   "metadata": {},
   "source": [
    "Iterating through a `dictionary`\n"
   ]
  },
  {
   "cell_type": "code",
   "execution_count": 19,
   "metadata": {},
   "outputs": [
    {
     "name": "stdout",
     "output_type": "stream",
     "text": [
      "first_name : Mirza Ziyad\n",
      "last_name : Ahmed Baig\n"
     ]
    }
   ],
   "source": [
    "my_dict: dict[str, str] = {\"first_name\": \"Mirza Ziyad\", \"last_name\": \"Ahmed Baig\"}\n",
    "\n",
    "for k in my_dict:  # variable k will recieve the key of that iteration\n",
    "    print(f\"{k} : {my_dict[k]}\")"
   ]
  },
  {
   "cell_type": "markdown",
   "metadata": {},
   "source": [
    "Iterating through a `set`\n"
   ]
  },
  {
   "cell_type": "code",
   "execution_count": 23,
   "metadata": {},
   "outputs": [
    {
     "name": "stdout",
     "output_type": "stream",
     "text": [
      "<class 'set'>\n",
      "1\n",
      "2\n",
      "3\n",
      "4\n",
      "5\n"
     ]
    }
   ],
   "source": [
    "# set indexes       0  1  2  3  4  5  6  7  8  9  10 11 12 13 14 15 16 17 18 19 20 21 22\n",
    "my_set: set[int] = {1, 1, 1, 2, 2, 3, 2, 1, 5, 2, 4, 5, 3, 1, 2, 4, 3, 2, 1, 4, 5, 4, 5}\n",
    "\n",
    "print(type(my_set))\n",
    "for i in my_set:\n",
    "    print(\n",
    "        i\n",
    "    )  # because sets only contains unique values and eliminates any repeated value"
   ]
  },
  {
   "cell_type": "markdown",
   "metadata": {},
   "source": [
    "Type casting the `set` with `list`\n"
   ]
  },
  {
   "cell_type": "code",
   "execution_count": null,
   "metadata": {},
   "outputs": [
    {
     "name": "stdout",
     "output_type": "stream",
     "text": [
      "<class 'list'>\n",
      "Before Append => [1, 2, 3, 4, 5]\n",
      "Each Index 1\n",
      "Each Index 2\n",
      "Each Index 3\n",
      "Each Index 4\n",
      "Each Index 5\n",
      "After Append => [1, 2, 3, 4, 5, 6]\n"
     ]
    }
   ],
   "source": [
    "my_set: list[set[int]] = list(\n",
    "    {1, 1, 1, 2, 2, 3, 2, 1, 5, 2, 4, 5, 3, 1, 2, 4, 3, 2, 1, 4, 5, 4, 5}\n",
    ")\n",
    "\n",
    "print(type(my_set))\n",
    "print(f\"Before Append => {my_set}\")\n",
    "\n",
    "for i in my_set:\n",
    "    print(\n",
    "        f\"Each Index {i}\"\n",
    "    )  # becuase of being a set it repeated values are eliminated, but now it is casted into a list. so we can append into my_set\n",
    "\n",
    "my_set.append(6)\n",
    "print(f\"After Append => {my_set}\")"
   ]
  },
  {
   "cell_type": "markdown",
   "metadata": {},
   "source": [
    "# `USER INPUTS`\n"
   ]
  },
  {
   "cell_type": "code",
   "execution_count": 5,
   "metadata": {},
   "outputs": [
    {
     "name": "stdout",
     "output_type": "stream",
     "text": [
      "<class 'str'>\n",
      "User age is 24\n"
     ]
    }
   ],
   "source": [
    "user_input = input(\"enter your age!\")\n",
    "\n",
    "print(type(user_input))  # entered integer but input's default type is string\n",
    "print(f\"User age is {user_input}\")"
   ]
  },
  {
   "cell_type": "code",
   "execution_count": null,
   "metadata": {},
   "outputs": [
    {
     "name": "stdout",
     "output_type": "stream",
     "text": [
      "<class 'str'>\n",
      "User current age is 24\n"
     ]
    },
    {
     "ename": "TypeError",
     "evalue": "can only concatenate str (not \"int\") to str",
     "output_type": "error",
     "traceback": [
      "\u001b[1;31m---------------------------------------------------------------------------\u001b[0m",
      "\u001b[1;31mTypeError\u001b[0m                                 Traceback (most recent call last)",
      "Cell \u001b[1;32mIn[8], line 5\u001b[0m\n\u001b[0;32m      3\u001b[0m \u001b[38;5;28mprint\u001b[39m(\u001b[38;5;28mtype\u001b[39m(user_input))  \u001b[38;5;66;03m# entered integer but input's default type is string\u001b[39;00m\n\u001b[0;32m      4\u001b[0m \u001b[38;5;28mprint\u001b[39m(\u001b[38;5;124mf\u001b[39m\u001b[38;5;124m\"\u001b[39m\u001b[38;5;124mUser current age is \u001b[39m\u001b[38;5;132;01m{\u001b[39;00muser_input\u001b[38;5;132;01m}\u001b[39;00m\u001b[38;5;124m\"\u001b[39m)\n\u001b[1;32m----> 5\u001b[0m \u001b[38;5;28mprint\u001b[39m(\u001b[38;5;124mf\u001b[39m\u001b[38;5;124m\"\u001b[39m\u001b[38;5;124mUser age after 2 years will be \u001b[39m\u001b[38;5;132;01m{\u001b[39;00m\u001b[43muser_input\u001b[49m\u001b[38;5;250;43m \u001b[39;49m\u001b[38;5;241;43m+\u001b[39;49m\u001b[38;5;250;43m \u001b[39;49m\u001b[38;5;241;43m2\u001b[39;49m\u001b[38;5;132;01m}\u001b[39;00m\u001b[38;5;124m\"\u001b[39m) \n\u001b[0;32m      6\u001b[0m \u001b[38;5;66;03m# error because input type is string and we are adding into string which is not possible\u001b[39;00m\n",
      "\u001b[1;31mTypeError\u001b[0m: can only concatenate str (not \"int\") to str"
     ]
    }
   ],
   "source": [
    "user_input = input(\"enter your age!\")\n",
    "\n",
    "print(type(user_input))  # entered integer but input's default type is string\n",
    "print(f\"User current age is {user_input}\")\n",
    "print(f\"User age after 2 years will be {user_input + 2}\")\n",
    "# error because input type is string and we are adding into string which is not possible"
   ]
  },
  {
   "cell_type": "code",
   "execution_count": null,
   "metadata": {},
   "outputs": [
    {
     "name": "stdout",
     "output_type": "stream",
     "text": [
      "<class 'int'>\n",
      "User current age is 24\n",
      "User age after 2 years will be 26\n"
     ]
    }
   ],
   "source": [
    "user_input: int = int(input(\"enter your age!\"))\n",
    "\n",
    "print(type(user_input))  # type casted\n",
    "print(f\"User current age is {user_input}\")\n",
    "print(f\"User age after 2 years will be {user_input + 2}\")\n",
    "# no error because input type is casted into integer"
   ]
  },
  {
   "cell_type": "markdown",
   "metadata": {},
   "source": [
    "# `zip()`\n"
   ]
  },
  {
   "cell_type": "markdown",
   "metadata": {},
   "source": [
    "It will zip multiple `lists` of same length and then will return a `tuple` on each iteration with values from each `list` according to the index.\n",
    "`zip()` is a generative function.\n"
   ]
  },
  {
   "cell_type": "code",
   "execution_count": 11,
   "metadata": {},
   "outputs": [
    {
     "name": "stdout",
     "output_type": "stream",
     "text": [
      "Name: Ziyad, Age: 24, isMarried: False\n",
      "Name: Hammad, Age: 26, isMarried: False\n",
      "Name: Salman, Age: 25, isMarried: True\n"
     ]
    }
   ],
   "source": [
    "users_name: list[str] = [\"Ziyad\", \"Hammad\", \"Salman\"]\n",
    "users_age: list[int] = [24, 26, 25]\n",
    "users_status: list[bool] = [False, False, True]\n",
    "\n",
    "for name, age, status in zip(users_name, users_age, users_status):\n",
    "    print(f\"Name: {name}, Age: {age}, isMarried: {status}\")"
   ]
  },
  {
   "cell_type": "markdown",
   "metadata": {},
   "source": [
    "# `While Loop`\n"
   ]
  },
  {
   "cell_type": "code",
   "execution_count": 34,
   "metadata": {},
   "outputs": [
    {
     "name": "stdout",
     "output_type": "stream",
     "text": [
      "Current Count => 0\n",
      "Current Count => 1\n",
      "Current Count => 2\n",
      "Current Count => 3\n",
      "Current Count => 4\n",
      "Current Count => 5\n",
      "Current Count => 6\n",
      "Current Count => 7\n",
      "Current Count => 8\n",
      "Current Count => 9\n"
     ]
    }
   ],
   "source": [
    "flag: bool = True\n",
    "\n",
    "count: int = 0\n",
    "\n",
    "while flag:\n",
    "    print(f\"Current Count => {count}\")\n",
    "\n",
    "    count += 1\n",
    "    # due to the flag, while loop will be true always and run infinitely. make sure to break it at some point\n",
    "\n",
    "    if count == 10:\n",
    "        break  # used to break / come out of the loop"
   ]
  },
  {
   "cell_type": "markdown",
   "metadata": {},
   "source": [
    "Iterating through a `list`\n"
   ]
  },
  {
   "cell_type": "code",
   "execution_count": 35,
   "metadata": {},
   "outputs": [
    {
     "name": "stdout",
     "output_type": "stream",
     "text": [
      "Index : 0 and Value : 100\n",
      "Index : 1 and Value : 200\n",
      "Index : 2 and Value : 300\n"
     ]
    }
   ],
   "source": [
    "my_number: list[int] = [100, 200, 300]\n",
    "\n",
    "index: int = 0\n",
    "\n",
    "while index < len(my_number):\n",
    "    print(f\"Index : {index} and Value : {my_number[index]}\")\n",
    "    index += 1"
   ]
  },
  {
   "cell_type": "code",
   "execution_count": 20,
   "metadata": {},
   "outputs": [
    {
     "name": "stdout",
     "output_type": "stream",
     "text": [
      "write 'quit' to exit the program!\n"
     ]
    },
    {
     "data": {
      "text/plain": [
       "[{'name': 'ziyad', 'age': 24},\n",
       " {'name': 'hammad', 'age': 26},\n",
       " {'name': 'salman', 'age': 25}]"
      ]
     },
     "metadata": {},
     "output_type": "display_data"
    }
   ],
   "source": [
    "from typing import Union\n",
    "\n",
    "my_type = Union[str, int]  # custom type\n",
    "\n",
    "flag: bool = True\n",
    "users: list[dict[str, my_type]] = []\n",
    "\n",
    "print(f\"write 'quit' to exit the program!\")\n",
    "\n",
    "while flag:\n",
    "    user_name: str = input(\"Enter Your Name!\")\n",
    "    if user_name.lower() == \"quit\":\n",
    "        flag = False\n",
    "        break\n",
    "\n",
    "    user_age: str = input(\"Enter Your Age!\")\n",
    "    if user_age.lower() == \"quit\":\n",
    "        flag = False\n",
    "        break\n",
    "\n",
    "    users.append({\"name\": user_name, \"age\": int(user_age)})\n",
    "\n",
    "display(users)"
   ]
  },
  {
   "cell_type": "markdown",
   "metadata": {},
   "source": [
    "# `LOOP CONTROLS`\n"
   ]
  },
  {
   "cell_type": "code",
   "execution_count": null,
   "metadata": {},
   "outputs": [
    {
     "name": "stdout",
     "output_type": "stream",
     "text": [
      "1\n",
      "2\n",
      "3\n",
      "4\n",
      "5\n",
      "6\n"
     ]
    }
   ],
   "source": [
    "for i in range(1, 11):\n",
    "    print(i)\n",
    "    if i == 6:\n",
    "        break"
   ]
  },
  {
   "cell_type": "code",
   "execution_count": 24,
   "metadata": {},
   "outputs": [
    {
     "name": "stdout",
     "output_type": "stream",
     "text": [
      "2 x 1 = 2\n",
      "2 x 2 = 4\n",
      "2 x 3 = 6\n",
      "2 x 4 = 8\n",
      "2 x 5 = 10\n",
      "2 x 6 = 12\n",
      "2 x 7 = 14\n",
      "2 x 8 = 16\n",
      "2 x 9 = 18\n",
      "2 x 10 = 20\n"
     ]
    }
   ],
   "source": [
    "for i in range(1, 21):\n",
    "    print(f\"2 x {i} = {2 * i}\")\n",
    "    if i == 10:\n",
    "        break"
   ]
  },
  {
   "cell_type": "code",
   "execution_count": null,
   "metadata": {},
   "outputs": [
    {
     "name": "stdout",
     "output_type": "stream",
     "text": [
      "2\n",
      "4\n",
      "6\n",
      "8\n",
      "10\n"
     ]
    }
   ],
   "source": [
    "for i in range(1, 11):\n",
    "    if i % 2 != 0:\n",
    "        continue  # if true skip this iteration and continue to next iteration. EVEN ONLY\n",
    "    print(i)"
   ]
  },
  {
   "cell_type": "code",
   "execution_count": 28,
   "metadata": {},
   "outputs": [
    {
     "name": "stdout",
     "output_type": "stream",
     "text": [
      "1\n",
      "3\n",
      "5\n",
      "7\n",
      "9\n"
     ]
    }
   ],
   "source": [
    "for i in range(1, 11):\n",
    "    if i % 2 == 0:\n",
    "        continue  # if true skip this iteration and continue to next iteration. ODD ONLY\n",
    "    print(i)"
   ]
  },
  {
   "cell_type": "code",
   "execution_count": null,
   "metadata": {},
   "outputs": [
    {
     "ename": "SyntaxError",
     "evalue": "incomplete input (663933008.py, line 1)",
     "output_type": "error",
     "traceback": [
      "\u001b[1;36m  Cell \u001b[1;32mIn[29], line 1\u001b[1;36m\u001b[0m\n\u001b[1;33m    for i in range(1,101):\u001b[0m\n\u001b[1;37m                          ^\u001b[0m\n\u001b[1;31mSyntaxError\u001b[0m\u001b[1;31m:\u001b[0m incomplete input\n"
     ]
    }
   ],
   "source": [
    "for i in range(1,101): \n",
    "# error because loop body is empty/incomplete"
   ]
  },
  {
   "cell_type": "code",
   "execution_count": 31,
   "metadata": {},
   "outputs": [],
   "source": [
    "for i in range(1, 101):\n",
    "    pass  # no error, because pass operator ensures the interpreter that this body is left empty intentionally."
   ]
  },
  {
   "cell_type": "code",
   "execution_count": null,
   "metadata": {},
   "outputs": [],
   "source": [
    "def sum(num1: int, num2: int) -> int:\n",
    "    pass  # empty function body"
   ]
  },
  {
   "cell_type": "code",
   "execution_count": 35,
   "metadata": {},
   "outputs": [
    {
     "name": "stdout",
     "output_type": "stream",
     "text": [
      "pakistan\n",
      "Second\n"
     ]
    }
   ],
   "source": [
    "if True:\n",
    "    pass\n",
    "\n",
    "print(\"pakistan\")\n",
    "print(\"Second\")"
   ]
  },
  {
   "cell_type": "code",
   "execution_count": null,
   "metadata": {},
   "outputs": [
    {
     "name": "stdout",
     "output_type": "stream",
     "text": [
      "HI!\n"
     ]
    }
   ],
   "source": [
    "if True:\n",
    "    print(\"HI!\")"
   ]
  },
  {
   "cell_type": "code",
   "execution_count": 37,
   "metadata": {},
   "outputs": [],
   "source": [
    "if False:\n",
    "    print(\"HI!\")"
   ]
  },
  {
   "cell_type": "code",
   "execution_count": 38,
   "metadata": {},
   "outputs": [
    {
     "name": "stdout",
     "output_type": "stream",
     "text": [
      "15\n"
     ]
    }
   ],
   "source": [
    "print(1 + 7 + 3 + 4)"
   ]
  },
  {
   "cell_type": "code",
   "execution_count": null,
   "metadata": {},
   "outputs": [
    {
     "name": "stdout",
     "output_type": "stream",
     "text": [
      "15\n"
     ]
    }
   ],
   "source": [
    "print(1 + 7 + 3 + 4)\n",
    "# if the expression is too big you can do it like this, using backslash '\\' to improve readability"
   ]
  },
  {
   "cell_type": "code",
   "execution_count": 45,
   "metadata": {},
   "outputs": [
    {
     "name": "stdout",
     "output_type": "stream",
     "text": [
      "HELLO, ZIYAD!\n"
     ]
    }
   ],
   "source": [
    "prompt = \"\"\"If you share your name, we can personalize the messages you see.\\\n",
    "What is your first name? \"\"\"\n",
    "\n",
    "\n",
    "name = input(prompt)\n",
    "print(f\"HELLO, {name.upper()}!\")"
   ]
  },
  {
   "cell_type": "code",
   "execution_count": null,
   "metadata": {},
   "outputs": [
    {
     "data": {
      "text/plain": [
       "[2, 2, 2, 2, 4, 2, 4, 2, 4, 4]"
      ]
     },
     "execution_count": 46,
     "metadata": {},
     "output_type": "execute_result"
    }
   ],
   "source": [
    "numbers: list[int] = [\n",
    "    1,\n",
    "    1,\n",
    "    1,\n",
    "    2,\n",
    "    2,\n",
    "    3,\n",
    "    2,\n",
    "    1,\n",
    "    5,\n",
    "    2,\n",
    "    4,\n",
    "    5,\n",
    "    3,\n",
    "    1,\n",
    "    2,\n",
    "    4,\n",
    "    3,\n",
    "    2,\n",
    "    1,\n",
    "    4,\n",
    "    5,\n",
    "    4,\n",
    "    5,\n",
    "]\n",
    "\n",
    "# return all even numbers from list\n",
    "\n",
    "[i for i in numbers if i % 2 == 0]"
   ]
  },
  {
   "cell_type": "code",
   "execution_count": null,
   "metadata": {},
   "outputs": [],
   "source": [
    "numbers: list[int] = [\n",
    "    1,\n",
    "    1,\n",
    "    1,\n",
    "    2,\n",
    "    2,\n",
    "    3,\n",
    "    2,\n",
    "    1,\n",
    "    5,\n",
    "    2,\n",
    "    4,\n",
    "    5,\n",
    "    3,\n",
    "    1,\n",
    "    2,\n",
    "    4,\n",
    "    3,\n",
    "    2,\n",
    "    1,\n",
    "    4,\n",
    "    5,\n",
    "    4,\n",
    "    5,\n",
    "]\n",
    "\n",
    "# return all even numbers from list\n",
    "\n",
    "[i for i in numbers if i % 2 == 0]"
   ]
  },
  {
   "cell_type": "code",
   "execution_count": null,
   "metadata": {},
   "outputs": [
    {
     "data": {
      "text/plain": [
       "[1, 1, 1, 3, 1, 5, 5, 3, 1, 3, 1, 5, 5]"
      ]
     },
     "execution_count": 47,
     "metadata": {},
     "output_type": "execute_result"
    }
   ],
   "source": [
    "numbers: list[int] = [\n",
    "    1,\n",
    "    1,\n",
    "    1,\n",
    "    2,\n",
    "    2,\n",
    "    3,\n",
    "    2,\n",
    "    1,\n",
    "    5,\n",
    "    2,\n",
    "    4,\n",
    "    5,\n",
    "    3,\n",
    "    1,\n",
    "    2,\n",
    "    4,\n",
    "    3,\n",
    "    2,\n",
    "    1,\n",
    "    4,\n",
    "    5,\n",
    "    4,\n",
    "    5,\n",
    "]\n",
    "\n",
    "# return all even numbers from list\n",
    "\n",
    "[i for i in numbers if i % 2 != 0]"
   ]
  },
  {
   "cell_type": "code",
   "execution_count": 49,
   "metadata": {},
   "outputs": [
    {
     "name": "stdout",
     "output_type": "stream",
     "text": [
      "abc\n"
     ]
    }
   ],
   "source": [
    "a = 10\n",
    "\n",
    "while a:\n",
    "    print(\"abc\")\n",
    "    break"
   ]
  },
  {
   "cell_type": "code",
   "execution_count": 50,
   "metadata": {},
   "outputs": [
    {
     "name": "stdout",
     "output_type": "stream",
     "text": [
      "3\n",
      "2\n",
      "1\n"
     ]
    }
   ],
   "source": [
    "data: list[int] = [1, 2, 3]\n",
    "\n",
    "while data:\n",
    "    n: int = data.pop()\n",
    "    print(n)"
   ]
  },
  {
   "cell_type": "code",
   "execution_count": null,
   "metadata": {},
   "outputs": [
    {
     "name": "stdout",
     "output_type": "stream",
     "text": [
      "['dog', 'cat', 'dog', 'goldfish', 'cat', 'rabbit', 'cat']\n",
      "Cats Removed : 3\n",
      "['dog', 'dog', 'goldfish', 'rabbit']\n"
     ]
    }
   ],
   "source": [
    "pets = [\"dog\", \"cat\", \"dog\", \"goldfish\", \"cat\", \"rabbit\", \"cat\"]\n",
    "num_of_cats = 0\n",
    "\n",
    "print(pets)\n",
    "while \"cat\" in pets:\n",
    "    pets.remove(\"cat\")\n",
    "    num_of_cats += 1\n",
    "\n",
    "print(f\"Cats Removed : {num_of_cats}\")\n",
    "print(pets)"
   ]
  },
  {
   "cell_type": "code",
   "execution_count": null,
   "metadata": {},
   "outputs": [
    {
     "name": "stdout",
     "output_type": "stream",
     "text": [
      "Unconfirmed users are : ['ziyad', 'hammad', 'salman']\n",
      "\n",
      "Confirming Ziyad\n",
      "CONFIRMED...\n",
      "Confirming Hammad\n",
      "CONFIRMED...\n",
      "Confirming Salman\n",
      "CONFIRMED...\n",
      "\n",
      "confirmed users are!\n",
      "Ziyad\n",
      "Hammad\n",
      "Salman\n"
     ]
    }
   ],
   "source": [
    "unconfirmed_users: list[str] = [\"ziyad\", \"hammad\", \"salman\"]\n",
    "confirmed_users:      list[str] = []\n",
    "\n",
    "print(f\"Unconfirmed users are : {unconfirmed_users}\\n\")\n",
    "for user in unconfirmed_users:\n",
    "    print(f\"Confirming {user.title()}\")\n",
    "    print(\"CONFIRMED...\")\n",
    "    confirmed_users.append(user)\n",
    "\n",
    "print(\"\\nconfirmed users are!\")\n",
    "for c_user in confirmed_users:\n",
    "    print(f\"{c_user.title()}\")"
   ]
  }
 ],
 "metadata": {
  "kernelspec": {
   "display_name": "python12",
   "language": "python",
   "name": "python3"
  },
  "language_info": {
   "codemirror_mode": {
    "name": "ipython",
    "version": 3
   },
   "file_extension": ".py",
   "mimetype": "text/x-python",
   "name": "python",
   "nbconvert_exporter": "python",
   "pygments_lexer": "ipython3",
   "version": "3.12.0"
  }
 },
 "nbformat": 4,
 "nbformat_minor": 2
}
