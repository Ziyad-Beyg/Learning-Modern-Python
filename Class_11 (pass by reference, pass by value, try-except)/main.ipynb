{
 "cells": [
  {
   "cell_type": "markdown",
   "metadata": {},
   "source": [
    "# PASS BY VALUE, PASS BY REFERENCE"
   ]
  },
  {
   "cell_type": "markdown",
   "metadata": {},
   "source": [
    " \n",
    "In Python every thing is an Object. \n",
    "There are two major datatypes:\n",
    "1) Mutable Datatypes : One who's value can be updated.\n",
    "2) Immutable Datatypes : One who's value can not be updated.\n",
    "\n",
    "Mutable Types include => (Dictionary, List, Set)\n",
    "Immutable Types include => (Integers, Floats, Strings, and Tuples)\n",
    "\n",
    "In Python if we pass num1 variable that is immutable to num2 variable, num1's value will be passed as reference to num2 and both variable will share same memory address as the value/data is same(no need to store same data twice). But if we increased the value of num2 by 1, because num2 is immutable it will create a new object with new memory address for the data. However in mutable types we can update the reference value but in result the original object is also altered. \n",
    "\n",
    "https://www.linkedin.com/pulse/understanding-pass-by-value-vs-pass-by-reference-elhousieny-phd%E1%B4%AC%E1%B4%AE%E1%B4%B0/"
   ]
  },
  {
   "cell_type": "code",
   "execution_count": null,
   "metadata": {},
   "outputs": [
    {
     "name": "stdout",
     "output_type": "stream",
     "text": [
      "BEFORE APPEND!\n",
      "Num1 : [1, 2, 3, 4], Num2: [1, 2, 3, 4]\n",
      "Num1 Address : 2322953428096, Num2 Address: 2322953428096\n",
      "AFTER APPEND!\n",
      "Num1 : [1, 2, 3, 4, 2], Num2: [1, 2, 3, 4, 2]\n",
      "Num1 Address : 2322953428096, Num2 Address: 2322953428096\n"
     ]
    }
   ],
   "source": [
    "numbers: list[int] = [1,2,3,4]\n",
    "numbers2: list[int] = numbers\n",
    "print(\"BEFORE APPEND!\")\n",
    "print(f\"Num1 : {numbers}, Num2: {numbers2}\")\n",
    "print(f\"Num1 Address : {id(numbers)}, Num2 Address: {id(numbers2)}\")\n",
    "\n",
    "numbers2.append(2) \n",
    "# append will also alter the original object as it is mutable type\n",
    "print(\"AFTER APPEND!\")\n",
    "print(f\"Num1 : {numbers}, Num2: {numbers2}\")\n",
    "print(f\"Num1 Address : {id(numbers)}, Num2 Address: {id(numbers2)}\")"
   ]
  },
  {
   "cell_type": "code",
   "execution_count": 6,
   "metadata": {},
   "outputs": [
    {
     "name": "stdout",
     "output_type": "stream",
     "text": [
      "Before modification: 10 140718617545432\n",
      "After modification: 11 140718617545464\n"
     ]
    }
   ],
   "source": [
    "x : int = 10 # integer is an immutable type\n",
    "print(\"Before modification:\", x, id(x))\n",
    "x += 1 # whenever updated, all immutable types create new objects and allocate new memory addresses\n",
    "print(\"After modification:\", x, id(x))"
   ]
  },
  {
   "cell_type": "code",
   "execution_count": null,
   "metadata": {},
   "outputs": [
    {
     "name": "stdout",
     "output_type": "stream",
     "text": [
      "First Assignment of variable a value is 140718617545272\n",
      "\tValue of start of function is 5 with address 140718617545272\n",
      "\tnum1 value end of function is 6 with address 140718617545304\n",
      "\tEnd of program\n",
      "End of program variable value is 5 with address of a 140718617545272\n"
     ]
    }
   ],
   "source": [
    "a: int = 5\n",
    "\n",
    "print(f\"First Assignment of variable a value is {id(a)}\")\n",
    "\n",
    "\n",
    "def abc(num1: int) -> None:\n",
    "    print(f\"\\tValue of start of function is {num1} with address {id(num1)}\")\n",
    "    num1 = 6  # new object creation\n",
    "\n",
    "    print(f\"\\tnum1 value end of function is {num1} with address {id(num1)}\")  # new memory address\n",
    "    print(\"\\tEnd of program\")\n",
    "\n",
    "\n",
    "abc(a)  # pass by value immutable\n",
    "\n",
    "print(f\"End of program variable value is {a} with address of a {id(a)}\")"
   ]
  },
  {
   "cell_type": "code",
   "execution_count": 11,
   "metadata": {},
   "outputs": [
    {
     "name": "stdout",
     "output_type": "stream",
     "text": [
      "Num1 : 10, Num2: 10\n",
      "Num1 Address : 140718617545432, Num2 Address: 140718617545432\n",
      "\n",
      "Add 2 in Num2\n",
      "\n",
      "Num1 : 10, Num2: 12\n",
      "Num1 Address : 140718617545432, Num2 Address: 140718617545496\n"
     ]
    }
   ],
   "source": [
    "number: int = 10\n",
    "number2: int = number\n",
    "\n",
    "print(f\"Num1 : {number}, Num2: {number2}\")\n",
    "print(f\"Num1 Address : {id(number)}, Num2 Address: {id(number2)}\")\n",
    "\n",
    "print(\"\\nAdd 2 in Num2\\n\")\n",
    "number2 += 2 # new object created\n",
    "\n",
    "print(f\"Num1 : {number}, Num2: {number2}\")\n",
    "print(f\"Num1 Address : {id(number)}, Num2 Address: {id(number2)}\")"
   ]
  },
  {
   "cell_type": "code",
   "execution_count": null,
   "metadata": {},
   "outputs": [
    {
     "name": "stdout",
     "output_type": "stream",
     "text": [
      "Num_List : [100, 200, 300],Num_List Address: 2322953780544\n",
      "Numbers_List : [100, 200, 300],Numbers_List Address: 2322953780544\n",
      "Numbers_List : [100, 200, 300, 400],Numbers_List Address: 2322953780544\n",
      "Num_List : [100, 200, 300, 400],Num_List Address: 2322953780544\n"
     ]
    }
   ],
   "source": [
    "num_list: list[int] = [100, 200, 300]\n",
    "\n",
    "print(f\"Num_List : {num_list},Num_List Address: {id(num_list)}\")\n",
    "\n",
    "\n",
    "def pass_fn(numbers_list: list[int]) -> None:\n",
    "    print(f\"Numbers_List : {numbers_list},Numbers_List Address: {id(numbers_list)}\")\n",
    "\n",
    "    numbers_list.append(400) # does not create new object, value appended in original list resulting in list altering.\n",
    "\n",
    "    print(f\"Numbers_List : {numbers_list},Numbers_List Address: {id(numbers_list)}\")\n",
    "\n",
    "\n",
    "pass_fn(num_list)\n",
    "\n",
    "print(f\"Num_List : {num_list},Num_List Address: {id(num_list)}\")"
   ]
  },
  {
   "cell_type": "code",
   "execution_count": 16,
   "metadata": {},
   "outputs": [
    {
     "name": "stdout",
     "output_type": "stream",
     "text": [
      "Num_List : [100, 200, 300],Num_List Address: 2322952499136\n",
      "Numbers_List : [100, 200, 300],Numbers_List Address: 2322952499136\n",
      "Numbers_List : [1, 2, 3],Numbers_List Address: 2322953431616\n",
      "Numbers_List : [1, 2, 3, 400],Numbers_List Address: 2322953431616\n",
      "Num_List : [100, 200, 300],Num_List Address: 2322952499136\n"
     ]
    }
   ],
   "source": [
    "num_list: list[int] = [100, 200, 300]\n",
    "\n",
    "print(f\"Num_List : {num_list},Num_List Address: {id(num_list)}\")\n",
    "\n",
    "\n",
    "def pass_fn(numbers_list: list[int]) -> None:\n",
    "    print(f\"Numbers_List : {numbers_list},Numbers_List Address: {id(numbers_list)}\")\n",
    "\n",
    "    numbers_list: list[int] = [1, 2, 3]  # reassign list variable -> create new object\n",
    "\n",
    "    print(f\"Numbers_List : {numbers_list},Numbers_List Address: {id(numbers_list)}\")\n",
    "\n",
    "    numbers_list.append(\n",
    "        400\n",
    "    )  # created a new object, because mutable type is re-assigned. Append will not effect the original list that is num_list\n",
    "\n",
    "    print(f\"Numbers_List : {numbers_list},Numbers_List Address: {id(numbers_list)}\")\n",
    "\n",
    "\n",
    "pass_fn(num_list)\n",
    "\n",
    "print(f\"Num_List : {num_list},Num_List Address: {id(num_list)}\")"
   ]
  },
  {
   "cell_type": "code",
   "execution_count": null,
   "metadata": {},
   "outputs": [
    {
     "name": "stdout",
     "output_type": "stream",
     "text": [
      "2322953778688\n",
      "2322952436160\n"
     ]
    }
   ],
   "source": [
    "a: list[int] = [1, 2, 3, 4]  # new assigned list variable -> create new object\n",
    "b: list[int] = [1, 2, 3, 4]  # new assigned list variable -> create new object\n",
    "\n",
    "print(id(a)) # Different Memory Addresses\n",
    "print(id(b)) # Different Memory Addresses "
   ]
  },
  {
   "cell_type": "markdown",
   "metadata": {},
   "source": [
    "# TRY-EXCEPT\n",
    "\n",
    "try: <br>\n",
    "&emsp; logic<br>\n",
    "except (Error_class1, Error_class2):<br>\n",
    "&emsp; if error accured then run this block<br>\n",
    "else:<br>\n",
    "&emsp; if error not accured<br>\n",
    "finally:<br>\n",
    "&emsp; always run<br>\n"
   ]
  },
  {
   "cell_type": "markdown",
   "metadata": {},
   "source": [
    "`RUNTIME ERROR`\n",
    "<br>\n",
    "error that occurs on runtime, mostly due to users mistake\n"
   ]
  },
  {
   "cell_type": "code",
   "execution_count": null,
   "metadata": {},
   "outputs": [
    {
     "name": "stdout",
     "output_type": "stream",
     "text": [
      "Num1: 10, Num2: 2\n",
      "5.0\n"
     ]
    }
   ],
   "source": [
    "a: int = int(input(\"Enter number1:\\t\"))\n",
    "b: int = int(input(\"Enter number2:\\t\"))\n",
    "\n",
    "print(f\"Num1: {a}, Num2: {b}\")\n",
    "\n",
    "print(a / b)"
   ]
  },
  {
   "cell_type": "code",
   "execution_count": null,
   "metadata": {},
   "outputs": [
    {
     "name": "stdout",
     "output_type": "stream",
     "text": [
      "Num1: 10, Num2: 0\n"
     ]
    },
    {
     "ename": "ZeroDivisionError",
     "evalue": "division by zero",
     "output_type": "error",
     "traceback": [
      "\u001b[1;31m---------------------------------------------------------------------------\u001b[0m",
      "\u001b[1;31mZeroDivisionError\u001b[0m                         Traceback (most recent call last)",
      "Cell \u001b[1;32mIn[20], line 7\u001b[0m\n\u001b[0;32m      4\u001b[0m \u001b[38;5;28mprint\u001b[39m(\u001b[38;5;124mf\u001b[39m\u001b[38;5;124m\"\u001b[39m\u001b[38;5;124mNum1: \u001b[39m\u001b[38;5;132;01m{\u001b[39;00ma\u001b[38;5;132;01m}\u001b[39;00m\u001b[38;5;124m, Num2: \u001b[39m\u001b[38;5;132;01m{\u001b[39;00mb\u001b[38;5;132;01m}\u001b[39;00m\u001b[38;5;124m\"\u001b[39m)\n\u001b[0;32m      5\u001b[0m \u001b[38;5;66;03m# error that occurs on runtime, mostly due to users mistake\u001b[39;00m\n\u001b[1;32m----> 7\u001b[0m \u001b[38;5;28mprint\u001b[39m(\u001b[43ma\u001b[49m\u001b[43m \u001b[49m\u001b[38;5;241;43m/\u001b[39;49m\u001b[43m \u001b[49m\u001b[43mb\u001b[49m)\n",
      "\u001b[1;31mZeroDivisionError\u001b[0m: division by zero"
     ]
    }
   ],
   "source": [
    "a: int = int(input(\"Enter number1:\\t\"))\n",
    "b: int = int(input(\"Enter number2:\\t\"))\n",
    "\n",
    "print(f\"Num1: {a}, Num2: {b}\")\n",
    "\n",
    "print(a / b)\n",
    "# error, a number can not be divided by zero"
   ]
  },
  {
   "cell_type": "code",
   "execution_count": 25,
   "metadata": {},
   "outputs": [
    {
     "name": "stdout",
     "output_type": "stream",
     "text": [
      "Index Selected By User is: 0\n",
      "Name At Index 0 is: Ziyad\n"
     ]
    }
   ],
   "source": [
    "names: list[str] = [\"Ziyad\", \"Hammad\", \"Salman\"]\n",
    "\n",
    "index: int = int(input(\"Enter index number:\\t\"))\n",
    "print(f\"Index Selected By User is: {index}\")\n",
    "print(f\"Name At Index {index} is: {names[index]}\")"
   ]
  },
  {
   "cell_type": "code",
   "execution_count": null,
   "metadata": {},
   "outputs": [
    {
     "name": "stdout",
     "output_type": "stream",
     "text": [
      "Index Selected By User is: 100\n"
     ]
    },
    {
     "ename": "IndexError",
     "evalue": "list index out of range",
     "output_type": "error",
     "traceback": [
      "\u001b[1;31m---------------------------------------------------------------------------\u001b[0m",
      "\u001b[1;31mIndexError\u001b[0m                                Traceback (most recent call last)",
      "Cell \u001b[1;32mIn[26], line 5\u001b[0m\n\u001b[0;32m      3\u001b[0m index: \u001b[38;5;28mint\u001b[39m \u001b[38;5;241m=\u001b[39m \u001b[38;5;28mint\u001b[39m(\u001b[38;5;28minput\u001b[39m(\u001b[38;5;124m\"\u001b[39m\u001b[38;5;124mEnter index number:\u001b[39m\u001b[38;5;130;01m\\t\u001b[39;00m\u001b[38;5;124m\"\u001b[39m))\n\u001b[0;32m      4\u001b[0m \u001b[38;5;28mprint\u001b[39m(\u001b[38;5;124mf\u001b[39m\u001b[38;5;124m\"\u001b[39m\u001b[38;5;124mIndex Selected By User is: \u001b[39m\u001b[38;5;132;01m{\u001b[39;00mindex\u001b[38;5;132;01m}\u001b[39;00m\u001b[38;5;124m\"\u001b[39m)\n\u001b[1;32m----> 5\u001b[0m \u001b[38;5;28mprint\u001b[39m(\u001b[38;5;124mf\u001b[39m\u001b[38;5;124m\"\u001b[39m\u001b[38;5;124mName At Index \u001b[39m\u001b[38;5;132;01m{\u001b[39;00mindex\u001b[38;5;132;01m}\u001b[39;00m\u001b[38;5;124m is: \u001b[39m\u001b[38;5;132;01m{\u001b[39;00m\u001b[43mnames\u001b[49m\u001b[43m[\u001b[49m\u001b[43mindex\u001b[49m\u001b[43m]\u001b[49m\u001b[38;5;132;01m}\u001b[39;00m\u001b[38;5;124m\"\u001b[39m)\n",
      "\u001b[1;31mIndexError\u001b[0m: list index out of range"
     ]
    }
   ],
   "source": [
    "names: list[str] = [\"Ziyad\", \"Hammad\", \"Salman\"]\n",
    "\n",
    "index: int = int(input(\"Enter index number:\\t\"))\n",
    "print(f\"Index Selected By User is: {index}\")\n",
    "print(f\"Name At Index {index} is: {names[index]}\")\n",
    "# error, list index entered by user does not exist"
   ]
  },
  {
   "cell_type": "code",
   "execution_count": 29,
   "metadata": {},
   "outputs": [
    {
     "ename": "TypeError",
     "evalue": "'tuple' object does not support item assignment",
     "output_type": "error",
     "traceback": [
      "\u001b[1;31m---------------------------------------------------------------------------\u001b[0m",
      "\u001b[1;31mTypeError\u001b[0m                                 Traceback (most recent call last)",
      "Cell \u001b[1;32mIn[29], line 2\u001b[0m\n\u001b[0;32m      1\u001b[0m data: \u001b[38;5;28mtuple\u001b[39m[\u001b[38;5;28mint\u001b[39m, \u001b[38;5;28mint\u001b[39m, \u001b[38;5;28mint\u001b[39m] \u001b[38;5;241m=\u001b[39m (\u001b[38;5;241m1\u001b[39m, \u001b[38;5;241m2\u001b[39m, \u001b[38;5;241m3\u001b[39m)\n\u001b[1;32m----> 2\u001b[0m \u001b[43mdata\u001b[49m\u001b[43m[\u001b[49m\u001b[38;5;241;43m0\u001b[39;49m\u001b[43m]\u001b[49m \u001b[38;5;241m=\u001b[39m \u001b[38;5;241m2000\u001b[39m \n\u001b[0;32m      3\u001b[0m \u001b[38;5;66;03m# error, because adding item into tuple is not permissible\u001b[39;00m\n",
      "\u001b[1;31mTypeError\u001b[0m: 'tuple' object does not support item assignment"
     ]
    }
   ],
   "source": [
    "data: tuple[int, int, int] = (1, 2, 3)\n",
    "data[0] = 2000 \n",
    "# error, because adding item into tuple is not permissible"
   ]
  },
  {
   "cell_type": "code",
   "execution_count": null,
   "metadata": {},
   "outputs": [
    {
     "ename": "TypeError",
     "evalue": "can only concatenate str (not \"int\") to str",
     "output_type": "error",
     "traceback": [
      "\u001b[1;31m---------------------------------------------------------------------------\u001b[0m",
      "\u001b[1;31mTypeError\u001b[0m                                 Traceback (most recent call last)",
      "Cell \u001b[1;32mIn[28], line 1\u001b[0m\n\u001b[1;32m----> 1\u001b[0m \u001b[38;5;124;43m\"\u001b[39;49m\u001b[38;5;124;43m2\u001b[39;49m\u001b[38;5;124;43m\"\u001b[39;49m\u001b[43m \u001b[49m\u001b[38;5;241;43m+\u001b[39;49m\u001b[43m \u001b[49m\u001b[38;5;241;43m2\u001b[39;49m \n\u001b[0;32m      2\u001b[0m \u001b[38;5;66;03m# error\u001b[39;00m\n",
      "\u001b[1;31mTypeError\u001b[0m: can only concatenate str (not \"int\") to str"
     ]
    }
   ],
   "source": [
    "\"2\" + 2 \n",
    "# error, can not concatenate integer into string"
   ]
  },
  {
   "cell_type": "code",
   "execution_count": null,
   "metadata": {},
   "outputs": [
    {
     "ename": "KeyError",
     "evalue": "'last_name'",
     "output_type": "error",
     "traceback": [
      "\u001b[1;31m---------------------------------------------------------------------------\u001b[0m",
      "\u001b[1;31mKeyError\u001b[0m                                  Traceback (most recent call last)",
      "Cell \u001b[1;32mIn[31], line 3\u001b[0m\n\u001b[0;32m      1\u001b[0m data: \u001b[38;5;28mdict\u001b[39m[\u001b[38;5;28mstr\u001b[39m, \u001b[38;5;28mstr\u001b[39m] \u001b[38;5;241m=\u001b[39m {\u001b[38;5;124m\"\u001b[39m\u001b[38;5;124mfirst_name\u001b[39m\u001b[38;5;124m\"\u001b[39m: \u001b[38;5;124m\"\u001b[39m\u001b[38;5;124mMirza Ziyad\u001b[39m\u001b[38;5;124m\"\u001b[39m, \u001b[38;5;124m\"\u001b[39m\u001b[38;5;124meducation\u001b[39m\u001b[38;5;124m\"\u001b[39m: \u001b[38;5;124m\"\u001b[39m\u001b[38;5;124mBSCS\u001b[39m\u001b[38;5;124m\"\u001b[39m}\n\u001b[1;32m----> 3\u001b[0m \u001b[43mdata\u001b[49m\u001b[43m[\u001b[49m\u001b[38;5;124;43m\"\u001b[39;49m\u001b[38;5;124;43mlast_name\u001b[39;49m\u001b[38;5;124;43m\"\u001b[39;49m\u001b[43m]\u001b[49m\n\u001b[0;32m      4\u001b[0m \u001b[38;5;66;03m# error,\u001b[39;00m\n",
      "\u001b[1;31mKeyError\u001b[0m: 'last_name'"
     ]
    }
   ],
   "source": [
    "data: dict[str, str] = {\"first_name\": \"Mirza Ziyad\", \"education\": \"BSCS\"}\n",
    "\n",
    "data[\"last_name\"]\n",
    "# error, no dictionary key match to \"last_name\""
   ]
  },
  {
   "cell_type": "code",
   "execution_count": 40,
   "metadata": {},
   "outputs": [
    {
     "ename": "NameError",
     "evalue": "name 'xyz' is not defined",
     "output_type": "error",
     "traceback": [
      "\u001b[1;31m---------------------------------------------------------------------------\u001b[0m",
      "\u001b[1;31mNameError\u001b[0m                                 Traceback (most recent call last)",
      "Cell \u001b[1;32mIn[40], line 1\u001b[0m\n\u001b[1;32m----> 1\u001b[0m \u001b[38;5;28mprint\u001b[39m(\u001b[43mxyz\u001b[49m)\n\u001b[0;32m      2\u001b[0m \u001b[38;5;66;03m# error, no variable with name 'xyz' found\u001b[39;00m\n",
      "\u001b[1;31mNameError\u001b[0m: name 'xyz' is not defined"
     ]
    }
   ],
   "source": [
    "print(xyz)\n",
    "# error, no variable with name 'xyz' found"
   ]
  },
  {
   "cell_type": "code",
   "execution_count": 33,
   "metadata": {},
   "outputs": [
    {
     "ename": "FileNotFoundError",
     "evalue": "[Errno 2] No such file or directory: 'abc.txt'",
     "output_type": "error",
     "traceback": [
      "\u001b[1;31m---------------------------------------------------------------------------\u001b[0m",
      "\u001b[1;31mFileNotFoundError\u001b[0m                         Traceback (most recent call last)",
      "Cell \u001b[1;32mIn[33], line 1\u001b[0m\n\u001b[1;32m----> 1\u001b[0m \u001b[38;5;28;43mopen\u001b[39;49m\u001b[43m(\u001b[49m\u001b[38;5;124;43m\"\u001b[39;49m\u001b[38;5;124;43mabc.txt\u001b[39;49m\u001b[38;5;124;43m\"\u001b[39;49m\u001b[43m)\u001b[49m\n\u001b[0;32m      2\u001b[0m \u001b[38;5;66;03m# error, No such file to open\u001b[39;00m\n",
      "File \u001b[1;32mc:\\Users\\3 BROS COMPUTERZ\\anaconda3\\envs\\python12\\Lib\\site-packages\\IPython\\core\\interactiveshell.py:310\u001b[0m, in \u001b[0;36m_modified_open\u001b[1;34m(file, *args, **kwargs)\u001b[0m\n\u001b[0;32m    303\u001b[0m \u001b[38;5;28;01mif\u001b[39;00m file \u001b[38;5;129;01min\u001b[39;00m {\u001b[38;5;241m0\u001b[39m, \u001b[38;5;241m1\u001b[39m, \u001b[38;5;241m2\u001b[39m}:\n\u001b[0;32m    304\u001b[0m     \u001b[38;5;28;01mraise\u001b[39;00m \u001b[38;5;167;01mValueError\u001b[39;00m(\n\u001b[0;32m    305\u001b[0m         \u001b[38;5;124mf\u001b[39m\u001b[38;5;124m\"\u001b[39m\u001b[38;5;124mIPython won\u001b[39m\u001b[38;5;124m'\u001b[39m\u001b[38;5;124mt let you open fd=\u001b[39m\u001b[38;5;132;01m{\u001b[39;00mfile\u001b[38;5;132;01m}\u001b[39;00m\u001b[38;5;124m by default \u001b[39m\u001b[38;5;124m\"\u001b[39m\n\u001b[0;32m    306\u001b[0m         \u001b[38;5;124m\"\u001b[39m\u001b[38;5;124mas it is likely to crash IPython. If you know what you are doing, \u001b[39m\u001b[38;5;124m\"\u001b[39m\n\u001b[0;32m    307\u001b[0m         \u001b[38;5;124m\"\u001b[39m\u001b[38;5;124myou can use builtins\u001b[39m\u001b[38;5;124m'\u001b[39m\u001b[38;5;124m open.\u001b[39m\u001b[38;5;124m\"\u001b[39m\n\u001b[0;32m    308\u001b[0m     )\n\u001b[1;32m--> 310\u001b[0m \u001b[38;5;28;01mreturn\u001b[39;00m \u001b[43mio_open\u001b[49m\u001b[43m(\u001b[49m\u001b[43mfile\u001b[49m\u001b[43m,\u001b[49m\u001b[43m \u001b[49m\u001b[38;5;241;43m*\u001b[39;49m\u001b[43margs\u001b[49m\u001b[43m,\u001b[49m\u001b[43m \u001b[49m\u001b[38;5;241;43m*\u001b[39;49m\u001b[38;5;241;43m*\u001b[39;49m\u001b[43mkwargs\u001b[49m\u001b[43m)\u001b[49m\n",
      "\u001b[1;31mFileNotFoundError\u001b[0m: [Errno 2] No such file or directory: 'abc.txt'"
     ]
    }
   ],
   "source": [
    "open(\"abc.txt\")\n",
    "# error, No such file to open"
   ]
  },
  {
   "cell_type": "code",
   "execution_count": null,
   "metadata": {},
   "outputs": [
    {
     "name": "stdout",
     "output_type": "stream",
     "text": [
      "STATEMENTS BEFORE ERROR OCCURS!!!\n",
      "logic1\n",
      "logic2\n"
     ]
    },
    {
     "ename": "ZeroDivisionError",
     "evalue": "division by zero",
     "output_type": "error",
     "traceback": [
      "\u001b[1;31m---------------------------------------------------------------------------\u001b[0m",
      "\u001b[1;31mZeroDivisionError\u001b[0m                         Traceback (most recent call last)",
      "Cell \u001b[1;32mIn[36], line 4\u001b[0m\n\u001b[0;32m      2\u001b[0m \u001b[38;5;28mprint\u001b[39m(\u001b[38;5;124m\"\u001b[39m\u001b[38;5;124mlogic1\u001b[39m\u001b[38;5;124m\"\u001b[39m)\n\u001b[0;32m      3\u001b[0m \u001b[38;5;28mprint\u001b[39m(\u001b[38;5;124m\"\u001b[39m\u001b[38;5;124mlogic2\u001b[39m\u001b[38;5;124m\"\u001b[39m)\n\u001b[1;32m----> 4\u001b[0m \u001b[38;5;28mprint\u001b[39m(\u001b[38;5;241;43m5\u001b[39;49m\u001b[43m \u001b[49m\u001b[38;5;241;43m/\u001b[39;49m\u001b[43m \u001b[49m\u001b[38;5;241;43m0\u001b[39;49m)  \u001b[38;5;66;03m# Error\u001b[39;00m\n\u001b[0;32m      5\u001b[0m \u001b[38;5;28mprint\u001b[39m(\u001b[38;5;124m\"\u001b[39m\u001b[38;5;124mlogic4\u001b[39m\u001b[38;5;124m\"\u001b[39m)\n\u001b[0;32m      6\u001b[0m \u001b[38;5;28mprint\u001b[39m(\u001b[38;5;241m25\u001b[39m \u001b[38;5;241m/\u001b[39m \u001b[38;5;241m0\u001b[39m)  \u001b[38;5;66;03m# Error\u001b[39;00m\n",
      "\u001b[1;31mZeroDivisionError\u001b[0m: division by zero"
     ]
    }
   ],
   "source": [
    "print(\"STATEMENTS BEFORE ERROR OCCURS!!!\")\n",
    "print(\"logic1\")\n",
    "print(\"logic2\")\n",
    "print(5 / 0)  # Error\n",
    "print(\"logic4\")\n",
    "print(25 / 0) # Another Error\n",
    "print(\"logic5\")"
   ]
  },
  {
   "cell_type": "code",
   "execution_count": null,
   "metadata": {},
   "outputs": [
    {
     "name": "stdout",
     "output_type": "stream",
     "text": [
      "STATEMENTS BEFORE ERROR OCCURS!!!\n",
      "logic1\n",
      "logic2\n",
      "can not divide a number with zero\n",
      "logic4\n",
      "logic5\n"
     ]
    }
   ],
   "source": [
    "print(\"STATEMENTS BEFORE ERROR OCCURS!!!\")\n",
    "print(\"logic1\")\n",
    "print(\"logic2\")\n",
    "try: # wraps around the code that can generate an error, if there is an error it saves the app from crashing while running the exception.\n",
    "    print(5 / 0)  # Error\n",
    "except(ZeroDivisionError): # By providing an error type(ZeroDivisionError) you can bound that exception to a specific error.\n",
    "    print(\"can not divide a number with zero\") # Exception can be the backup code that you want to run whenever an error is generated\n",
    "print(\"logic4\")\n",
    "print(\"logic5\")"
   ]
  },
  {
   "cell_type": "code",
   "execution_count": null,
   "metadata": {},
   "outputs": [
    {
     "name": "stdout",
     "output_type": "stream",
     "text": [
      "logic1\n",
      "logic2\n",
      "logic4\n",
      "logic5\n"
     ]
    }
   ],
   "source": [
    "print(\"logic1\")\n",
    "print(\"logic2\")\n",
    "try:\n",
    "    print(5 / 0)  # Error\n",
    "except ZeroDivisionError:\n",
    "    pass # will skip the exception block and move to next line\n",
    "print(\"logic4\")\n",
    "print(\"logic5\")"
   ]
  },
  {
   "cell_type": "code",
   "execution_count": 46,
   "metadata": {},
   "outputs": [
    {
     "name": "stdout",
     "output_type": "stream",
     "text": [
      "logic1\n",
      "logic2\n",
      "ERROR OCCURED...\n",
      "logic4\n",
      "logic5\n"
     ]
    }
   ],
   "source": [
    "print(\"logic1\")\n",
    "print(\"logic2\")\n",
    "\n",
    "l1: list[int] = [1, 2, 3]\n",
    "\n",
    "# if an error is generated in the try block, control move to the except block without running all the code under the error line.\n",
    "try:\n",
    "    print(f\"Possible ZeroDivisionError: {5 / 0}\")  # Error\n",
    "    print(f\"Possible IndexError: {l1[100]}\")  # Another Error\n",
    "    print(f\"Possible NameError: {xyz}\")  # Another Error\n",
    "\n",
    "# except method can have multiple errorClasses as parameters. If any error that is connected to these classes occurs then the relevant except block will run\n",
    "except (ZeroDivisionError, IndexError, NameError): \n",
    "    print(\"ERROR OCCURED...\")\n",
    "print(\"logic4\")\n",
    "print(\"logic5\")"
   ]
  },
  {
   "cell_type": "code",
   "execution_count": null,
   "metadata": {},
   "outputs": [
    {
     "name": "stdout",
     "output_type": "stream",
     "text": [
      "logic1\n",
      "logic2\n",
      "Possible ZeroDivisionError: 0.5\n",
      "ERROR OCCURED...\n",
      "logic4\n",
      "logic5\n"
     ]
    }
   ],
   "source": [
    "print(\"logic1\")\n",
    "print(\"logic2\")\n",
    "\n",
    "l1: list[int] = [1, 2, 3]\n",
    "\n",
    "# if an error is generated in the try block, control move to the except block without running all the code under the error line.\n",
    "try:\n",
    "    print(f\"Possible ZeroDivisionError: {5 / 10}\")  # No Error\n",
    "    print(f\"Possible IndexError: {l1[100]}\")  # Error\n",
    "    print(f\"Possible NameError: {xyz}\")  # Another Error\n",
    "\n",
    "# except method can have multiple errorClasses as parameters. If any error that is connected to these classes occurs then the relevant except block will run\n",
    "except (ZeroDivisionError, IndexError, NameError):\n",
    "    print(\"ERROR OCCURED...\")\n",
    "print(\"logic4\")\n",
    "print(\"logic5\")"
   ]
  },
  {
   "cell_type": "code",
   "execution_count": null,
   "metadata": {},
   "outputs": [
    {
     "name": "stdout",
     "output_type": "stream",
     "text": [
      "logic1\n",
      "logic2\n",
      "Possible ZeroDivisionError: 0.5\n",
      "Possible IndexError: 2\n",
      "ERROR OCCURED...\n",
      "logic4\n",
      "logic5\n"
     ]
    }
   ],
   "source": [
    "print(\"logic1\")\n",
    "print(\"logic2\")\n",
    "\n",
    "l1: list[int] = [1, 2, 3]\n",
    "\n",
    "# if an error is generated in the try block, control move to the except block without running all the code under the error line.\n",
    "try:\n",
    "    print(f\"Possible ZeroDivisionError: {5 / 10}\")  # No Error\n",
    "    print(f\"Possible IndexError: {l1[1]}\")  # No Error\n",
    "    print(f\"Possible NameError: {xyz}\")  # Error\n",
    "\n",
    "# except method can have multiple errorClasses as parameters. If any error that is connected to these classes occurs then the relevant except block will run\n",
    "except (ZeroDivisionError, IndexError, NameError):\n",
    "    print(\"ERROR OCCURED...\")\n",
    "print(\"logic4\")\n",
    "print(\"logic5\")"
   ]
  }
 ],
 "metadata": {
  "kernelspec": {
   "display_name": "python12",
   "language": "python",
   "name": "python3"
  },
  "language_info": {
   "codemirror_mode": {
    "name": "ipython",
    "version": 3
   },
   "file_extension": ".py",
   "mimetype": "text/x-python",
   "name": "python",
   "nbconvert_exporter": "python",
   "pygments_lexer": "ipython3",
   "version": "3.12.0"
  }
 },
 "nbformat": 4,
 "nbformat_minor": 2
}
