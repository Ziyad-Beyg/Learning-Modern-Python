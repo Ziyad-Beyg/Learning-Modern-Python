{
 "cells": [
  {
   "cell_type": "markdown",
   "metadata": {},
   "source": [
    "# IF-ELIF-ELSE\n",
    "\n",
    "```\n",
    "   if logic:\n",
    "      if_block\n",
    "   elif logic:\n",
    "      elif_block\n",
    "   else:\n",
    "      else_block\n",
    "\n",
    "```\n"
   ]
  },
  {
   "cell_type": "markdown",
   "metadata": {},
   "source": [
    "# Comprehensive If-Else\n",
    "\n",
    "`if_block` `if` `if_logic` `else` `else_block`\n",
    "\n",
    "* if\n",
    "* if - else\n",
    "* if - elif - else"
   ]
  },
  {
   "cell_type": "code",
   "execution_count": 1,
   "metadata": {},
   "outputs": [
    {
     "name": "stdout",
     "output_type": "stream",
     "text": [
      "Pakistan\n"
     ]
    }
   ],
   "source": [
    "if True:\n",
    "    print(\"Pakistan\")\n",
    "else:\n",
    "    print(\"Hello World!\")"
   ]
  },
  {
   "cell_type": "code",
   "execution_count": 2,
   "metadata": {},
   "outputs": [
    {
     "name": "stdout",
     "output_type": "stream",
     "text": [
      "Hello World!\n"
     ]
    }
   ],
   "source": [
    "if False:\n",
    "    print(\"Pakistan\")\n",
    "else:\n",
    "    print(\"Hello World!\")"
   ]
  },
  {
   "cell_type": "code",
   "execution_count": 7,
   "metadata": {},
   "outputs": [
    {
     "name": "stdout",
     "output_type": "stream",
     "text": [
      "Pakistan\n"
     ]
    }
   ],
   "source": [
    "# ⬐ if_block              ⬐ else\n",
    "print(\"Pakistan\") if True else print(\"Hello World\") # comprehensive if-else\n",
    "#                 ⬑ if_with_logic       ⬑ else_block"
   ]
  },
  {
   "cell_type": "code",
   "execution_count": 8,
   "metadata": {},
   "outputs": [
    {
     "name": "stdout",
     "output_type": "stream",
     "text": [
      "Hello World\n"
     ]
    }
   ],
   "source": [
    "# ⬐ if_block               ⬐ else\n",
    "print(\"Pakistan\") if False else print(\"Hello World\") # comprehensive if-else\n",
    "#                 ⬑ if_with_logic       ⬑ else_block"
   ]
  },
  {
   "cell_type": "markdown",
   "metadata": {},
   "source": [
    "# Operators Used in `if-else`\n",
    "\n",
    "* ### Comparasion Operator\n",
    "    1) ==\n",
    "    1) !=\n",
    "    1) \\<\n",
    "    1) \\>\n",
    "    1) \\<=\n",
    "    1) \\>=\n",
    "\n",
    "* ### Logical Operator\n",
    "    1) and\n",
    "    1) or\n",
    "    1) not"
   ]
  },
  {
   "cell_type": "code",
   "execution_count": 11,
   "metadata": {},
   "outputs": [
    {
     "name": "stdout",
     "output_type": "stream",
     "text": [
      "if is True\n",
      "This is outside if scope 1\n",
      "This is outside if scope 2\n"
     ]
    }
   ],
   "source": [
    "if True:\n",
    "    print(\"if is True\") # if block is represented by indentation\n",
    "\n",
    "print(\"This is outside if scope 1\")\n",
    "print(\"This is outside if scope 2\")"
   ]
  },
  {
   "cell_type": "code",
   "execution_count": 12,
   "metadata": {},
   "outputs": [
    {
     "name": "stdout",
     "output_type": "stream",
     "text": [
      "This is outside if scope 1\n",
      "This is outside if scope 2\n"
     ]
    }
   ],
   "source": [
    "if False:\n",
    "    print(\"if is True\") # if block is represented by indentation\n",
    "\n",
    "print(\"This is outside if scope 1\")\n",
    "print(\"This is outside if scope 2\")"
   ]
  },
  {
   "cell_type": "markdown",
   "metadata": {},
   "source": [
    "## In the below mentioned code, only one of the code block will run, one that satisfies the condition first"
   ]
  },
  {
   "cell_type": "code",
   "execution_count": 13,
   "metadata": {},
   "outputs": [
    {
     "name": "stdout",
     "output_type": "stream",
     "text": [
      "IF Logic!\n"
     ]
    }
   ],
   "source": [
    "if True:\n",
    "    print(\"IF Logic!\")\n",
    "elif True:\n",
    "    print(\"ELIF Logic 1!\")\n",
    "elif True:\n",
    "    print(\"ELIF Logic 2!\")\n",
    "elif True:\n",
    "    print(\"ELIF Logic 3!\")\n",
    "else:\n",
    "    print(\"ELSE Logic!\")"
   ]
  },
  {
   "cell_type": "code",
   "execution_count": 14,
   "metadata": {},
   "outputs": [
    {
     "name": "stdout",
     "output_type": "stream",
     "text": [
      "ELIF Logic 1!\n"
     ]
    }
   ],
   "source": [
    "if False:\n",
    "    print(\"IF Logic!\")\n",
    "elif True:\n",
    "    print(\"ELIF Logic 1!\")\n",
    "elif True:\n",
    "    print(\"ELIF Logic 2!\")\n",
    "elif True:\n",
    "    print(\"ELIF Logic 3!\")\n",
    "else:\n",
    "    print(\"ELSE Logic!\")"
   ]
  },
  {
   "cell_type": "code",
   "execution_count": 15,
   "metadata": {},
   "outputs": [
    {
     "name": "stdout",
     "output_type": "stream",
     "text": [
      "ELIF Logic 2!\n"
     ]
    }
   ],
   "source": [
    "if False:\n",
    "    print(\"IF Logic!\")\n",
    "elif False:\n",
    "    print(\"ELIF Logic 1!\")\n",
    "elif True:\n",
    "    print(\"ELIF Logic 2!\")\n",
    "elif True:\n",
    "    print(\"ELIF Logic 3!\")\n",
    "else:\n",
    "    print(\"ELSE Logic!\")"
   ]
  },
  {
   "cell_type": "code",
   "execution_count": 16,
   "metadata": {},
   "outputs": [
    {
     "name": "stdout",
     "output_type": "stream",
     "text": [
      "ELIF Logic 3!\n"
     ]
    }
   ],
   "source": [
    "if False:\n",
    "    print(\"IF Logic!\")\n",
    "elif False:\n",
    "    print(\"ELIF Logic 1!\")\n",
    "elif False:\n",
    "    print(\"ELIF Logic 2!\")\n",
    "elif True:\n",
    "    print(\"ELIF Logic 3!\")\n",
    "else:\n",
    "    print(\"ELSE Logic!\")"
   ]
  },
  {
   "cell_type": "markdown",
   "metadata": {},
   "source": [
    "# If no condition satisfies than `else` block will run"
   ]
  },
  {
   "cell_type": "code",
   "execution_count": 17,
   "metadata": {},
   "outputs": [
    {
     "name": "stdout",
     "output_type": "stream",
     "text": [
      "ELSE Logic!\n"
     ]
    }
   ],
   "source": [
    "if False:\n",
    "    print(\"IF Logic!\")\n",
    "elif False:\n",
    "    print(\"ELIF Logic 1!\")\n",
    "elif False:\n",
    "    print(\"ELIF Logic 2!\")\n",
    "elif False:\n",
    "    print(\"ELIF Logic 3!\")\n",
    "else:\n",
    "    print(\"ELSE Logic!\")"
   ]
  },
  {
   "cell_type": "markdown",
   "metadata": {},
   "source": [
    "# Even if the two conditions are `true` only first will be executed"
   ]
  },
  {
   "cell_type": "code",
   "execution_count": 18,
   "metadata": {},
   "outputs": [
    {
     "name": "stdout",
     "output_type": "stream",
     "text": [
      "ELIF Logic 1!\n"
     ]
    }
   ],
   "source": [
    "if False:\n",
    "    print(\"IF Logic!\")\n",
    "elif True:\n",
    "    print(\"ELIF Logic 1!\")\n",
    "elif True:\n",
    "    print(\"ELIF Logic 2!\")\n",
    "elif False:\n",
    "    print(\"ELIF Logic 3!\")\n",
    "else:\n",
    "    print(\"ELSE Logic!\")"
   ]
  },
  {
   "cell_type": "markdown",
   "metadata": {},
   "source": [
    "# Conditions in 1 chain will run only 1 block"
   ]
  },
  {
   "cell_type": "code",
   "execution_count": 46,
   "metadata": {},
   "outputs": [
    {
     "name": "stdout",
     "output_type": "stream",
     "text": [
      "Chain 1 elif logic2\n",
      "Chain 2 final else block\n",
      "Pakistan\n"
     ]
    }
   ],
   "source": [
    "# chain1 run only one block \n",
    "if False:\n",
    "    print(\"Chain 1 True_block\")\n",
    "elif False:\n",
    "    print(\"Chain 1 elif logic1\")\n",
    "elif True:\n",
    "    print(\"Chain 1 elif logic2\")\n",
    "elif True:\n",
    "    print(\"Chain 1 elif logic3\")\n",
    "else:\n",
    "    print(\"Chain 1 final else block\")\n",
    "\n",
    "# chain2 run only one block \n",
    "if False:\n",
    "    print(\"Chain 2 True_block\")\n",
    "elif False:\n",
    "    print(\"Chain 2 elif logic1\")\n",
    "elif False:\n",
    "    print(\"Chain 2 elif logic2\")\n",
    "elif False:\n",
    "    print(\"Chain 2 elif logic3\")\n",
    "else:\n",
    "    print(\"Chain 2 final else block\")\n",
    "\n",
    "# global scope\n",
    "print(\"Pakistan\")"
   ]
  },
  {
   "cell_type": "markdown",
   "metadata": {},
   "source": [
    "# `Union` & `Optional` & `|`\n",
    "\n",
    "* `Union` lets you set the variable with data of multiple types, like either this or that.\n",
    "* `|` this also works as the Union type and let you set multiple type as per yourr usecase.\n",
    "* `Optional` lets you set the variable with data of particular type, like `str` but `None` is default in `Optional`."
   ]
  },
  {
   "cell_type": "markdown",
   "metadata": {},
   "source": [
    "### `Union`"
   ]
  },
  {
   "cell_type": "code",
   "execution_count": 32,
   "metadata": {},
   "outputs": [
    {
     "name": "stdout",
     "output_type": "stream",
     "text": [
      "type of variable name is : <class 'NoneType'>\n",
      "None\n",
      "type of variable name is : <class 'str'>\n",
      "Ziyad\n"
     ]
    }
   ],
   "source": [
    "from typing import Union\n",
    "\n",
    "name : Union[str, None]  = None # name can be either 'str' or 'none'\n",
    "\n",
    "print(f\"type of variable name is : {type(name)}\")\n",
    "print(name)\n",
    "\n",
    "name = \"Ziyad\"\n",
    "\n",
    "print(f\"type of variable name is : {type(name)}\")\n",
    "print(name)"
   ]
  },
  {
   "cell_type": "markdown",
   "metadata": {},
   "source": [
    "### `str | None`"
   ]
  },
  {
   "cell_type": "code",
   "execution_count": 31,
   "metadata": {},
   "outputs": [
    {
     "name": "stdout",
     "output_type": "stream",
     "text": [
      "type of variable age is : <class 'NoneType'>\n",
      "None\n",
      "type of variable age is : <class 'int'>\n",
      "24\n"
     ]
    }
   ],
   "source": [
    "age : int | None = None \n",
    "#         ⬑ this also works as the Union type\n",
    "\n",
    "print(f\"type of variable age is : {type(age)}\")\n",
    "print(age)\n",
    "\n",
    "age = 24\n",
    "\n",
    "print(f\"type of variable age is : {type(age)}\")\n",
    "print(age)"
   ]
  },
  {
   "cell_type": "markdown",
   "metadata": {},
   "source": [
    "### `OPTIONAL`"
   ]
  },
  {
   "cell_type": "code",
   "execution_count": 25,
   "metadata": {},
   "outputs": [
    {
     "name": "stdout",
     "output_type": "stream",
     "text": [
      "type of variable name is : <class 'NoneType'>\n",
      "None\n",
      "type of variable name is : <class 'str'>\n",
      "Ziyad\n"
     ]
    }
   ],
   "source": [
    "from typing import Optional\n",
    "\n",
    "name : Optional[str] = None # Optional holds None type by default\n",
    "\n",
    "print(f\"type of variable name is : {type(name)}\")\n",
    "print(name)\n",
    "\n",
    "name = \"Ziyad\"\n",
    "\n",
    "print(f\"type of variable name is : {type(name)}\")\n",
    "print(name)"
   ]
  },
  {
   "cell_type": "markdown",
   "metadata": {},
   "source": [
    "# TYPE ALIAS\n",
    "\n",
    "It just helps you to avoid redundency. Make this type one time and use it multiple time. Just change on one place and changes reflects everywhere."
   ]
  },
  {
   "cell_type": "code",
   "execution_count": 27,
   "metadata": {},
   "outputs": [
    {
     "name": "stdout",
     "output_type": "stream",
     "text": [
      "type of variable name is : <class 'NoneType'>\n",
      "None\n",
      "type of variable name is : <class 'str'>\n",
      "Ziyad\n"
     ]
    }
   ],
   "source": [
    "from typing import Union\n",
    "\n",
    "name_type = Union[str, None] # we have created a type alias for the Union[str, None] type\n",
    "\n",
    "name : name_type = None\n",
    "\n",
    "print(f\"type of variable name is : {type(name)}\")\n",
    "print(name)\n",
    "\n",
    "name = \"Ziyad\"\n",
    "\n",
    "print(f\"type of variable name is : {type(name)}\")\n",
    "print(name)"
   ]
  },
  {
   "cell_type": "markdown",
   "metadata": {},
   "source": [
    "# Percentage Calculator"
   ]
  },
  {
   "cell_type": "code",
   "execution_count": 43,
   "metadata": {},
   "outputs": [
    {
     "name": "stdout",
     "output_type": "stream",
     "text": [
      "Your Percentage is 88% and grade is A+\n"
     ]
    }
   ],
   "source": [
    "percentage : float = 88\n",
    "grade: str | None = None\n",
    "\n",
    "if percentage >= 80:\n",
    "    grade = \"A+\"\n",
    "elif percentage >= 70:\n",
    "    grade = \"A\"\n",
    "elif percentage >= 60:\n",
    "    grade = \"B\"\n",
    "elif percentage >= 50:\n",
    "    grade = \"C\"\n",
    "elif percentage >= 40:\n",
    "    grade = \"D\"\n",
    "elif percentage >= 33:\n",
    "    grade = \"E\"\n",
    "elif percentage < 33:\n",
    "    grade = \"Fail\"\n",
    "\n",
    "print(f\"Your Percentage is {percentage}% and grade is {grade}\")"
   ]
  },
  {
   "cell_type": "markdown",
   "metadata": {},
   "source": [
    "# Dynamic Input Percentage Calculator"
   ]
  },
  {
   "cell_type": "code",
   "execution_count": 52,
   "metadata": {},
   "outputs": [
    {
     "name": "stdout",
     "output_type": "stream",
     "text": [
      "Your Percentage is 32.9% and grade is Fail\n"
     ]
    }
   ],
   "source": [
    "from typing import Optional\n",
    "\n",
    "percentage : float = float(input(\"Enter Your percentage!\"))\n",
    "\n",
    "grade_type = Optional[str]\n",
    "\n",
    "grade = None\n",
    "\n",
    "if percentage >= 80:\n",
    "    grade = \"A+\"\n",
    "elif percentage >= 70:\n",
    "    grade = \"A\"\n",
    "elif percentage >= 60:\n",
    "    grade = \"B\"\n",
    "elif percentage >= 50:\n",
    "    grade = \"C\"\n",
    "elif percentage >= 40:\n",
    "    grade = \"D\"\n",
    "elif percentage >= 33:\n",
    "    grade = \"E\"\n",
    "elif percentage < 33:\n",
    "    grade = \"Fail\"\n",
    "\n",
    "print(f\"Your Percentage is {percentage}% and grade is {grade}\")"
   ]
  },
  {
   "cell_type": "markdown",
   "metadata": {},
   "source": [
    "# LOGICAL ERROR\n",
    "\n",
    "The compiler can detect the compile time and runtime errors, but it can not detect the logical errors"
   ]
  },
  {
   "cell_type": "code",
   "execution_count": 53,
   "metadata": {},
   "outputs": [
    {
     "name": "stdout",
     "output_type": "stream",
     "text": [
      "Your Percentage is 88.0% and grade is Fail\n"
     ]
    }
   ],
   "source": [
    "from typing import Optional\n",
    "\n",
    "percentage : float = float(input(\"Enter Your percentage!\"))\n",
    "\n",
    "grade_type = Optional[str]\n",
    "\n",
    "grade = None\n",
    "\n",
    "if percentage >= 0:  # First block of chain staisfies the condition and is executed.\n",
    "    grade = \"Fail\"\n",
    "elif percentage >= 30:\n",
    "    grade = \"E\"\n",
    "elif percentage >= 40:\n",
    "    grade = \"D\"\n",
    "elif percentage >= 50:\n",
    "    grade = \"C\"\n",
    "elif percentage >= 60:\n",
    "    grade = \"B\"\n",
    "elif percentage >= 70:\n",
    "    grade = \"A\"\n",
    "elif percentage < 80:\n",
    "    grade = \"A+\"\n",
    "\n",
    "print(f\"Your Percentage is {percentage}% and grade is {grade}\")"
   ]
  },
  {
   "cell_type": "markdown",
   "metadata": {},
   "source": [
    "# In order to prevent this we have to use logical operators"
   ]
  },
  {
   "cell_type": "code",
   "execution_count": 66,
   "metadata": {},
   "outputs": [
    {
     "name": "stdout",
     "output_type": "stream",
     "text": [
      "Your Percentage is 83.12% and grade is A+\n"
     ]
    }
   ],
   "source": [
    "from typing import Optional\n",
    "\n",
    "percentage : float = float(input(\"Enter Your percentage!\"))\n",
    "\n",
    "grade_type = Optional[str]\n",
    "\n",
    "grade = None\n",
    "\n",
    "if (percentage >= 0) and (percentage < 33):  # Logical operators added to enhance logic security\n",
    "    grade = \"Fail\"\n",
    "elif (percentage >= 30) and (percentage < 40):\n",
    "    grade = \"E\"\n",
    "elif (percentage >= 40) and (percentage < 50):\n",
    "    grade = \"D\"\n",
    "elif (percentage >= 50) and (percentage < 60):\n",
    "    grade = \"C\"\n",
    "elif (percentage >= 60) and (percentage < 70):\n",
    "    grade = \"B\"\n",
    "elif (percentage >= 70) and (percentage < 80):\n",
    "    grade = \"A\"\n",
    "elif (percentage >= 80) and (percentage < 100):\n",
    "    grade = \"A+\"\n",
    "else :\n",
    "    print(\"Invalid Percentage\")\n",
    "\n",
    "if grade != None: # only prints if percentage is in between 0 to 99\n",
    "    print(f\"Your Percentage is {format(percentage, \".2f\")}% and grade is {grade}\")"
   ]
  },
  {
   "cell_type": "markdown",
   "metadata": {},
   "source": [
    "# List of Percentages"
   ]
  },
  {
   "cell_type": "code",
   "execution_count": 67,
   "metadata": {},
   "outputs": [
    {
     "name": "stdout",
     "output_type": "stream",
     "text": [
      "percentage_list => [80, 88.3, 64.2, 32.9, 91, 55.7, 77.4]\n",
      "grade_list => ['A+', 'A+', 'B', 'Fail', 'A+', 'C', 'A']\n"
     ]
    }
   ],
   "source": [
    "from typing import Optional\n",
    "\n",
    "percentage_list : list[float] = [80, 88.3, 64.2, 32.9, 91,55.7, 77.4]\n",
    "grade_list : list[str] = []\n",
    "grade_type = Optional[str]\n",
    "\n",
    "for per in percentage_list:\n",
    "    grade = None\n",
    "    if (per >= 0) and (per < 33):  # Logical operators added to enhance logic security\n",
    "        grade = \"Fail\"\n",
    "    elif (per >= 30) and (per < 40):\n",
    "        grade = \"E\"\n",
    "    elif (per >= 40) and (per < 50):\n",
    "        grade = \"D\"\n",
    "    elif (per >= 50) and (per < 60):\n",
    "        grade = \"C\"\n",
    "    elif (per >= 60) and (per < 70):\n",
    "        grade = \"B\"\n",
    "    elif (per >= 70) and (per < 80):\n",
    "        grade = \"A\"\n",
    "    elif (per >= 80) and (per < 100):\n",
    "        grade = \"A+\"\n",
    "    else:\n",
    "        print(\"Invalid Percentage\")\n",
    "\n",
    "    if grade != None:\n",
    "        grade_list.append(grade)\n",
    "\n",
    "\n",
    "print(f\"percentage_list => {percentage_list}\")\n",
    "print(f\"grade_list => {grade_list}\")"
   ]
  },
  {
   "cell_type": "markdown",
   "metadata": {},
   "source": [
    "# `zip` method\n",
    "\n",
    "* it appends two lists into list of tuples.\n",
    "* if length of both lists are equal then all index will append into list of tuple.\n",
    "* if length of both list are not equal then it append only indexes with respect to the list with smaller length."
   ]
  },
  {
   "cell_type": "code",
   "execution_count": 72,
   "metadata": {},
   "outputs": [
    {
     "name": "stdout",
     "output_type": "stream",
     "text": [
      "<class 'list'>\n",
      "[('ali', 25), ('hammad', 18), ('ziyad', 24)]\n"
     ]
    }
   ],
   "source": [
    "student_name : list[str] = [\"ali\", \"hammad\", \"ziyad\"]\n",
    "student_age : list[int] = [25, 18, 24]\n",
    "\n",
    "print(type(list(zip(student_name, student_age))))\n",
    "print(list(zip(student_name, student_age))) # zip is a generator function and need to iterate in order to run"
   ]
  },
  {
   "cell_type": "code",
   "execution_count": 75,
   "metadata": {},
   "outputs": [
    {
     "data": {
      "text/plain": [
       "[('ali', 25), ('hammad', 18)]"
      ]
     },
     "execution_count": 75,
     "metadata": {},
     "output_type": "execute_result"
    }
   ],
   "source": [
    "student_name : list[str] = [\"ali\", \"hammad\", \"ziyad\", \"salman\"]\n",
    "student_age : list[int] = [25, 18]\n",
    "\n",
    "list(zip(student_name, student_age))  # only append two index because length is not even"
   ]
  },
  {
   "cell_type": "code",
   "execution_count": 78,
   "metadata": {},
   "outputs": [
    {
     "name": "stdout",
     "output_type": "stream",
     "text": [
      "percentage_list => [80, 88.3, 64.2, 32.9, 91, 55.7, 77.4]\n",
      "grade_list => ['A+', 'A+', 'B', 'Fail', 'A+', 'C', 'A']\n"
     ]
    },
    {
     "data": {
      "text/plain": [
       "[(80, 'A+'),\n",
       " (88.3, 'A+'),\n",
       " (64.2, 'B'),\n",
       " (32.9, 'Fail'),\n",
       " (91, 'A+'),\n",
       " (55.7, 'C'),\n",
       " (77.4, 'A')]"
      ]
     },
     "metadata": {},
     "output_type": "display_data"
    }
   ],
   "source": [
    "from typing import Optional\n",
    "\n",
    "percentage_list : list[float] = [80, 88.3, 64.2, 32.9, 91,55.7, 77.4]\n",
    "grade_list : list[str] = []\n",
    "grade_type = Optional[str]\n",
    "\n",
    "for per in percentage_list:\n",
    "    grade = None\n",
    "    if (per >= 0) and (per < 33):  # Logical operators added to enhance logic security\n",
    "        grade = \"Fail\"\n",
    "    elif (per >= 30) and (per < 40):\n",
    "        grade = \"E\"\n",
    "    elif (per >= 40) and (per < 50):\n",
    "        grade = \"D\"\n",
    "    elif (per >= 50) and (per < 60):\n",
    "        grade = \"C\"\n",
    "    elif (per >= 60) and (per < 70):\n",
    "        grade = \"B\"\n",
    "    elif (per >= 70) and (per < 80):\n",
    "        grade = \"A\"\n",
    "    elif (per >= 80) and (per < 100):\n",
    "        grade = \"A+\"\n",
    "    else:\n",
    "        print(\"Invalid Percentage\")\n",
    "\n",
    "    if grade != None:\n",
    "        grade_list.append(grade)\n",
    "\n",
    "\n",
    "print(f\"percentage_list => {percentage_list}\")\n",
    "print(f\"grade_list => {grade_list}\")\n",
    "\n",
    "students_result : list[tuple[float, str]] = list(zip(percentage_list, grade_list))\n",
    "\n",
    "display(students_result)"
   ]
  },
  {
   "cell_type": "code",
   "execution_count": 82,
   "metadata": {},
   "outputs": [
    {
     "data": {
      "text/plain": [
       "[(1, 80, 'A+'),\n",
       " (2, 88.3, 'A+'),\n",
       " (3, 64.2, 'B'),\n",
       " (4, 32.9, 'Fail'),\n",
       " (5, 91, 'A+'),\n",
       " (6, 55.7, 'C')]"
      ]
     },
     "metadata": {},
     "output_type": "display_data"
    }
   ],
   "source": [
    "percentage_list : list[float] = [80, 88.3, 64.2, 32.9, 91, 55.7, 77.4]\n",
    "grade_list : list[str] = ['A+', 'A+', 'B', 'Fail', 'A+', 'C', 'A']\n",
    "\n",
    "student_list: list[tuple[int, float, str]] = list(zip(list(range(1, len(percentage_list))), percentage_list, grade_list)) \n",
    "# ⬑ list of tuple with roll no, percentage and grade\n",
    " \n",
    "display(student_list)"
   ]
  },
  {
   "cell_type": "markdown",
   "metadata": {},
   "source": [
    "# Sorted List of tuple with roll no, percentage and grade\n",
    "\n",
    "## `sorted()`\n",
    "\n",
    "* it sorts with respect to the first element by default                 \n",
    "* we can tell it to sort with our desired element by `sorted(data_base, key=lambda x:x[1])`\n",
    "* we can also reverse the data with `sorted(data_base, key=lambda x:x[1], reverse=True)`"
   ]
  },
  {
   "cell_type": "markdown",
   "metadata": {},
   "source": [
    "### `Default Sort`"
   ]
  },
  {
   "cell_type": "code",
   "execution_count": 83,
   "metadata": {},
   "outputs": [
    {
     "data": {
      "text/plain": [
       "[(1, 80, 'A+'),\n",
       " (2, 88.3, 'A+'),\n",
       " (3, 64.2, 'B'),\n",
       " (4, 32.9, 'Fail'),\n",
       " (5, 91, 'A+'),\n",
       " (6, 55.7, 'C')]"
      ]
     },
     "metadata": {},
     "output_type": "display_data"
    },
    {
     "data": {
      "text/plain": [
       "[(1, 80, 'A+'),\n",
       " (2, 88.3, 'A+'),\n",
       " (3, 64.2, 'B'),\n",
       " (4, 32.9, 'Fail'),\n",
       " (5, 91, 'A+'),\n",
       " (6, 55.7, 'C')]"
      ]
     },
     "metadata": {},
     "output_type": "display_data"
    }
   ],
   "source": [
    "percentage_list : list[float] = [80, 88.3, 64.2, 32.9, 91, 55.7, 77.4]\n",
    "grade_list : list[str] = ['A+', 'A+', 'B', 'Fail', 'A+', 'C', 'A']\n",
    "\n",
    "student_list: list[tuple[int, float, str]] = list(zip(list(range(1, len(percentage_list))), percentage_list, grade_list)) \n",
    "display(student_list)\n",
    "display(sorted(student_list)) "
   ]
  },
  {
   "cell_type": "markdown",
   "metadata": {},
   "source": [
    "### `Sorting With Respect To Desired Element`"
   ]
  },
  {
   "cell_type": "code",
   "execution_count": 87,
   "metadata": {},
   "outputs": [
    {
     "data": {
      "text/plain": [
       "\"original list => [(1, 80, 'A+'), (2, 88.3, 'A+'), (3, 64.2, 'B'), (4, 32.9, 'Fail'), (5, 91, 'A+'), (6, 55.7, 'C')]\""
      ]
     },
     "metadata": {},
     "output_type": "display_data"
    },
    {
     "data": {
      "text/plain": [
       "\"sorting w.r.t percentage => [(4, 32.9, 'Fail'), (6, 55.7, 'C'), (3, 64.2, 'B'), (1, 80, 'A+'), (2, 88.3, 'A+'), (5, 91, 'A+')]\""
      ]
     },
     "metadata": {},
     "output_type": "display_data"
    }
   ],
   "source": [
    "percentage_list : list[float] = [80, 88.3, 64.2, 32.9, 91, 55.7, 77.4]\n",
    "grade_list : list[str] = ['A+', 'A+', 'B', 'Fail', 'A+', 'C', 'A']\n",
    "\n",
    "student_list: list[tuple[int, float, str]] = list(zip(list(range(1, len(percentage_list))), percentage_list, grade_list)) \n",
    "\n",
    "display(f\"original list => {student_list}\") \n",
    "#                                                                           ⬐ element with which sorting should be done\n",
    "display(f\"sorting w.r.t percentage => {sorted(student_list, key = lambda x:x[1])}\") \n",
    "#                                               ⬑ this data that has to be sorted"
   ]
  },
  {
   "cell_type": "markdown",
   "metadata": {},
   "source": [
    "### `Reverse Sorting` / `Descending Order`"
   ]
  },
  {
   "cell_type": "code",
   "execution_count": 90,
   "metadata": {},
   "outputs": [
    {
     "data": {
      "text/plain": [
       "\"original list => [(1, 80, 'A+'), (2, 88.3, 'A+'), (3, 64.2, 'B'), (4, 32.9, 'Fail'), (5, 91, 'A+'), (6, 55.7, 'C')]\""
      ]
     },
     "metadata": {},
     "output_type": "display_data"
    },
    {
     "data": {
      "text/plain": [
       "\"reverse sorting w.r.t percentage => [(5, 91, 'A+'), (2, 88.3, 'A+'), (1, 80, 'A+'), (3, 64.2, 'B'), (6, 55.7, 'C'), (4, 32.9, 'Fail')]\""
      ]
     },
     "metadata": {},
     "output_type": "display_data"
    }
   ],
   "source": [
    "percentage_list : list[float] = [80, 88.3, 64.2, 32.9, 91, 55.7, 77.4]\n",
    "grade_list : list[str] = ['A+', 'A+', 'B', 'Fail', 'A+', 'C', 'A']\n",
    "\n",
    "student_list: list[tuple[int, float, str]] = list(zip(list(range(1, len(percentage_list))), percentage_list, grade_list)) \n",
    "\n",
    "display(f\"original list => {student_list}\") \n",
    "#                                                                           ⬐ element with which sorting should be done\n",
    "display(f\"reverse sorting w.r.t percentage => {sorted(student_list, key = lambda x:x[1], reverse=True)}\") \n",
    "#                                               ⬑ this data that has to be sorted           ⬑ reverse sorting / descending order"
   ]
  },
  {
   "cell_type": "markdown",
   "metadata": {},
   "source": [
    "# Comprehensive If-Else with List Comprehension"
   ]
  },
  {
   "cell_type": "code",
   "execution_count": 95,
   "metadata": {},
   "outputs": [
    {
     "name": "stdout",
     "output_type": "stream",
     "text": [
      "Suzuki is not present in cars_list\n",
      "Suzuki is not present in cars_list\n",
      "Suzuki is not present in cars_list\n"
     ]
    },
    {
     "data": {
      "text/plain": [
       "[None, None, None]"
      ]
     },
     "execution_count": 95,
     "metadata": {},
     "output_type": "execute_result"
    }
   ],
   "source": [
    "cars : list[str] = [\"audi\", \"bmw\", \"toyota\"]\n",
    "\n",
    "input_car = input(\"Enter your car manufacturer!\")\n",
    "\n",
    "# ⬐ if_block                                                                     ⬐ else\n",
    "[print(f\"{input_car.title()} is present in cars_list\") if input_car.lower() == i else print(f\"{input_car.title()} is not present in cars_list\") for i in cars]\n",
    "#                                                        ⬑ if_with_logic                ⬑ else_block                                           ⬑ for_loop_logic"
   ]
  },
  {
   "cell_type": "code",
   "execution_count": null,
   "metadata": {},
   "outputs": [],
   "source": []
  }
 ],
 "metadata": {
  "kernelspec": {
   "display_name": "python12",
   "language": "python",
   "name": "python3"
  },
  "language_info": {
   "codemirror_mode": {
    "name": "ipython",
    "version": 3
   },
   "file_extension": ".py",
   "mimetype": "text/x-python",
   "name": "python",
   "nbconvert_exporter": "python",
   "pygments_lexer": "ipython3",
   "version": "3.12.0"
  }
 },
 "nbformat": 4,
 "nbformat_minor": 2
}
