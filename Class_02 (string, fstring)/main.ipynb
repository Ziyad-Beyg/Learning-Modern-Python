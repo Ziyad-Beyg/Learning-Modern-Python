{
 "cells": [
  {
   "cell_type": "markdown",
   "metadata": {},
   "source": [
    "# str => String Datatype in Python\n"
   ]
  },
  {
   "cell_type": "code",
   "execution_count": 1,
   "metadata": {},
   "outputs": [
    {
     "data": {
      "text/plain": [
       "'Mirza Ziyad Ahmed Baig'"
      ]
     },
     "metadata": {},
     "output_type": "display_data"
    }
   ],
   "source": [
    "name : str = \"Mirza Ziyad Ahmed Baig\"\n",
    "display(name)"
   ]
  },
  {
   "cell_type": "code",
   "execution_count": 2,
   "metadata": {},
   "outputs": [
    {
     "data": {
      "text/plain": [
       "'Mirza Ziyad Ahmed Baig'"
      ]
     },
     "metadata": {},
     "output_type": "display_data"
    }
   ],
   "source": [
    "name : str = 'Mirza Ziyad Ahmed Baig'\n",
    "display(name)"
   ]
  },
  {
   "cell_type": "markdown",
   "metadata": {},
   "source": [
    "# Boundary error of ' '.\n"
   ]
  },
  {
   "cell_type": "code",
   "execution_count": 7,
   "metadata": {},
   "outputs": [
    {
     "ename": "SyntaxError",
     "evalue": "unterminated string literal (detected at line 1) (2087396366.py, line 1)",
     "output_type": "error",
     "traceback": [
      "\u001b[1;36m  Cell \u001b[1;32mIn[7], line 1\u001b[1;36m\u001b[0m\n\u001b[1;33m    message : str = 'Hi, I am Ziyad & my father's name is Imran'\u001b[0m\n\u001b[1;37m                                                               ^\u001b[0m\n\u001b[1;31mSyntaxError\u001b[0m\u001b[1;31m:\u001b[0m unterminated string literal (detected at line 1)\n"
     ]
    }
   ],
   "source": [
    "message : str = 'Hi, I am Ziyad & my father's name is Imran'\n",
    "display(message)"
   ]
  },
  {
   "cell_type": "markdown",
   "metadata": {},
   "source": [
    "# Solutions\n"
   ]
  },
  {
   "cell_type": "markdown",
   "metadata": {},
   "source": [
    "- using Alternative inverted commas i.e \" father's \"\n"
   ]
  },
  {
   "cell_type": "code",
   "execution_count": 8,
   "metadata": {},
   "outputs": [
    {
     "data": {
      "text/plain": [
       "\"Hi, I am Ziyad & my father's name is Imran\""
      ]
     },
     "metadata": {},
     "output_type": "display_data"
    }
   ],
   "source": [
    "message : str = \"Hi, I am Ziyad & my father's name is Imran\"\n",
    "display(message)"
   ]
  },
  {
   "cell_type": "markdown",
   "metadata": {},
   "source": [
    "- By placing \\ before any special character to convert it into simple character.\n"
   ]
  },
  {
   "cell_type": "code",
   "execution_count": 9,
   "metadata": {},
   "outputs": [
    {
     "data": {
      "text/plain": [
       "\"Hi, I am Ziyad & my father's name is Imran\""
      ]
     },
     "metadata": {},
     "output_type": "display_data"
    }
   ],
   "source": [
    "message : str = 'Hi, I am Ziyad & my father\\'s name is Imran'\n",
    "display(message)"
   ]
  },
  {
   "cell_type": "markdown",
   "metadata": {},
   "source": [
    "# Escape Sequences\n"
   ]
  },
  {
   "cell_type": "markdown",
   "metadata": {},
   "source": [
    "- \"\\\\\" Line Continue (let us change our line when the code get too long in a single line)\n"
   ]
  },
  {
   "cell_type": "code",
   "execution_count": 21,
   "metadata": {},
   "outputs": [
    {
     "data": {
      "text/plain": [
       "17"
      ]
     },
     "metadata": {},
     "output_type": "display_data"
    }
   ],
   "source": [
    "display(7 +\\\n",
    "        2 +\\\n",
    "        8)"
   ]
  },
  {
   "cell_type": "markdown",
   "metadata": {},
   "source": [
    "- \"\\n\" New Line (go to next line)\n"
   ]
  },
  {
   "cell_type": "code",
   "execution_count": 23,
   "metadata": {},
   "outputs": [
    {
     "name": "stdout",
     "output_type": "stream",
     "text": [
      "Hi, \n",
      "How \n",
      "are \n",
      "you?\n"
     ]
    }
   ],
   "source": [
    "print(\"\\nHi, \\nHow \\nare \\nyou\\n?\")"
   ]
  },
  {
   "cell_type": "markdown",
   "metadata": {},
   "source": [
    "- \"\\t\" Tab Space (enter an indentation)\n"
   ]
  },
  {
   "cell_type": "code",
   "execution_count": 24,
   "metadata": {},
   "outputs": [
    {
     "name": "stdout",
     "output_type": "stream",
     "text": [
      "\tHi, \tHow \tare \tyou\t?\n"
     ]
    }
   ],
   "source": [
    "print(\"\\tHi, \\tHow \\tare \\tyou\\t?\")"
   ]
  },
  {
   "cell_type": "markdown",
   "metadata": {},
   "source": [
    "- \"\\b\" Back Space (remove previous element)\n"
   ]
  },
  {
   "cell_type": "code",
   "execution_count": 26,
   "metadata": {},
   "outputs": [
    {
     "name": "stdout",
     "output_type": "stream",
     "text": [
      "Hi,Howareyo?\n"
     ]
    }
   ],
   "source": [
    "print(\"Hi, \\bHow \\bare \\byou\\b?\")"
   ]
  },
  {
   "cell_type": "markdown",
   "metadata": {},
   "source": [
    "# String Concatenation\n"
   ]
  },
  {
   "cell_type": "code",
   "execution_count": 10,
   "metadata": {},
   "outputs": [
    {
     "data": {
      "text/plain": [
       "'abc'"
      ]
     },
     "execution_count": 10,
     "metadata": {},
     "output_type": "execute_result"
    }
   ],
   "source": [
    "\"a\" + \"b\" + \"c\""
   ]
  },
  {
   "cell_type": "code",
   "execution_count": 14,
   "metadata": {},
   "outputs": [
    {
     "data": {
      "text/plain": [
       "'H2O'"
      ]
     },
     "execution_count": 14,
     "metadata": {},
     "output_type": "execute_result"
    }
   ],
   "source": [
    "\"H\" + \"2\" + \"O\""
   ]
  },
  {
   "cell_type": "markdown",
   "metadata": {},
   "source": [
    "# This error occurs because we were concatenating string with integer that is the age\n"
   ]
  },
  {
   "cell_type": "code",
   "execution_count": 27,
   "metadata": {},
   "outputs": [
    {
     "ename": "TypeError",
     "evalue": "can only concatenate str (not \"int\") to str",
     "output_type": "error",
     "traceback": [
      "\u001b[1;31m---------------------------------------------------------------------------\u001b[0m",
      "\u001b[1;31mTypeError\u001b[0m                                 Traceback (most recent call last)",
      "Cell \u001b[1;32mIn[27], line 6\u001b[0m\n\u001b[0;32m      3\u001b[0m age : \u001b[38;5;28mint\u001b[39m \u001b[38;5;241m=\u001b[39m \u001b[38;5;241m24\u001b[39m\n\u001b[0;32m      4\u001b[0m education : \u001b[38;5;28mstr\u001b[39m \u001b[38;5;241m=\u001b[39m \u001b[38;5;124m\"\u001b[39m\u001b[38;5;124mBachelor\u001b[39m\u001b[38;5;124m'\u001b[39m\u001b[38;5;124ms in Computer Science\u001b[39m\u001b[38;5;124m\"\u001b[39m\n\u001b[1;32m----> 6\u001b[0m student_card : \u001b[38;5;28mstr\u001b[39m \u001b[38;5;241m=\u001b[39m \u001b[38;5;124;43m\"\u001b[39;49m\u001b[38;5;124;43mPIAIC STUDENT CARD\u001b[39;49m\u001b[38;5;130;43;01m\\n\u001b[39;49;00m\u001b[38;5;124;43mStudent Name: \u001b[39;49m\u001b[38;5;124;43m\"\u001b[39;49m\u001b[43m \u001b[49m\u001b[38;5;241;43m+\u001b[39;49m\u001b[43m \u001b[49m\u001b[43mname\u001b[49m\u001b[43m \u001b[49m\u001b[38;5;241;43m+\u001b[39;49m\u001b[43m \u001b[49m\u001b[38;5;124;43m\"\u001b[39;49m\u001b[38;5;130;43;01m\\n\u001b[39;49;00m\u001b[38;5;124;43mFather Name: \u001b[39;49m\u001b[38;5;124;43m\"\u001b[39;49m\u001b[43m \u001b[49m\u001b[38;5;241;43m+\u001b[39;49m\u001b[43m \u001b[49m\u001b[43mfather_name\u001b[49m\u001b[43m \u001b[49m\u001b[38;5;241;43m+\u001b[39;49m\u001b[43m \u001b[49m\u001b[38;5;124;43m\"\u001b[39;49m\u001b[38;5;130;43;01m\\n\u001b[39;49;00m\u001b[38;5;124;43mAge: \u001b[39;49m\u001b[38;5;124;43m\"\u001b[39;49m\u001b[43m \u001b[49m\u001b[38;5;241;43m+\u001b[39;49m\u001b[43m \u001b[49m\u001b[43mage\u001b[49m \u001b[38;5;241m+\u001b[39m \u001b[38;5;124m\"\u001b[39m\u001b[38;5;130;01m\\n\u001b[39;00m\u001b[38;5;124mEducation: \u001b[39m\u001b[38;5;124m\"\u001b[39m \u001b[38;5;241m+\u001b[39m education\n\u001b[0;32m      7\u001b[0m \u001b[38;5;28mprint\u001b[39m(student_card)\n",
      "\u001b[1;31mTypeError\u001b[0m: can only concatenate str (not \"int\") to str"
     ]
    }
   ],
   "source": [
    "name : str = \"Ziyad Baig\"\n",
    "father_name : str = \"Imran Baig\"\n",
    "age : int = 24\n",
    "education : str = \"Bachelor's in Computer Science\"\n",
    "\n",
    "student_card : str = \"PIAIC STUDENT CARD\\nStudent Name: \" + name + \"\\nFather Name: \" + father_name + \"\\nAge: \" + age + \"\\nEducation: \" + education\n",
    "print(student_card)"
   ]
  },
  {
   "cell_type": "markdown",
   "metadata": {},
   "source": [
    "# Solutions\n"
   ]
  },
  {
   "cell_type": "markdown",
   "metadata": {},
   "source": [
    "- By type casting integer into string\n"
   ]
  },
  {
   "cell_type": "code",
   "execution_count": 20,
   "metadata": {},
   "outputs": [
    {
     "name": "stdout",
     "output_type": "stream",
     "text": [
      "PIAIC STUDENT CARD\n",
      "Student Name: Ziyad Baig\n",
      "Father Name: Imran Baig\n",
      "Age: 24\n",
      "Education: Bachelor's in Computer Science\n"
     ]
    }
   ],
   "source": [
    "name : str = \"Ziyad Baig\"\n",
    "father_name : str = \"Imran Baig\"\n",
    "age : int = 24\n",
    "education : str = \"Bachelor's in Computer Science\"\n",
    "\n",
    "student_card : str = \"PIAIC STUDENT CARD\\nStudent Name: \" + name + \"\\nFather Name: \" + father_name + \"\\nAge: \" + str(age) + \"\\nEducation: \" + education\n",
    "print(student_card)"
   ]
  },
  {
   "cell_type": "code",
   "execution_count": 29,
   "metadata": {},
   "outputs": [
    {
     "name": "stdout",
     "output_type": "stream",
     "text": [
      "PIAIC STUDENT CARD\n",
      "Student Name: Ziyad Baig\n",
      "Father Name: Imran Baig\n",
      "Age: 24\n",
      "Education: Bachelor's in Computer Science\n"
     ]
    }
   ],
   "source": [
    "name : str = \"Ziyad Baig\"\n",
    "father_name : str = \"Imran Baig\"\n",
    "age : int = 24\n",
    "education : str = \"Bachelor's in Computer Science\"\n",
    "\n",
    "student_card : str = \"PIAIC STUDENT CARD\\n\\\n",
    "Student Name: \" + name + \"\\n\\\n",
    "Father Name: \" + father_name + \"\\n\\\n",
    "Age: \" + str(age) + \"\\n\\\n",
    "Education: \" + education\n",
    "print(student_card)"
   ]
  },
  {
   "cell_type": "markdown",
   "metadata": {},
   "source": [
    "# Define Multiline String \"\"\" \"\"\", ''' '''\n"
   ]
  },
  {
   "cell_type": "code",
   "execution_count": 36,
   "metadata": {},
   "outputs": [
    {
     "name": "stdout",
     "output_type": "stream",
     "text": [
      "\n",
      "    PIAIC STUDENT CARD\n",
      "\n",
      "Student Name: ***** ****\n",
      "Father Name: ***** ****\n",
      "Age: **\n",
      "Education: ******* ** ******** ****** \n",
      "\n"
     ]
    }
   ],
   "source": [
    "name : str = \"Ziyad Baig\"\n",
    "father_name : str = \"Imran Baig\"\n",
    "age : int = 24\n",
    "education : str = \"Bachelor's in Computer Science\"\n",
    "\n",
    "student_card : str = \"\"\"\n",
    "    PIAIC STUDENT CARD\n",
    "\n",
    "Student Name: ***** ****\n",
    "Father Name: ***** ****\n",
    "Age: **\n",
    "Education: ******* ** ******** ****** \n",
    "\"\"\"\n",
    "print(student_card)"
   ]
  },
  {
   "cell_type": "markdown",
   "metadata": {},
   "source": [
    "# F-String in Python (adds dynamic values into string)\n"
   ]
  },
  {
   "cell_type": "markdown",
   "metadata": {},
   "source": [
    "- f\"\"\" \"\"\"\n"
   ]
  },
  {
   "cell_type": "code",
   "execution_count": 37,
   "metadata": {},
   "outputs": [
    {
     "name": "stdout",
     "output_type": "stream",
     "text": [
      "\n",
      "    PIAIC STUDENT CARD\n",
      "\n",
      "Student Name: Ziyad Baig\n",
      "Father Name: Imran Baig\n",
      "Age: 24\n",
      "Education: Bachelor's in Computer Science  \n",
      "\n"
     ]
    }
   ],
   "source": [
    "name : str = \"Ziyad Baig\"\n",
    "father_name : str = \"Imran Baig\"\n",
    "age : int = 24\n",
    "education : str = \"Bachelor's in Computer Science\"\n",
    "\n",
    "student_card : str = f\"\"\"\n",
    "    PIAIC STUDENT CARD\n",
    "\n",
    "Student Name: {name}\n",
    "Father Name: {father_name}\n",
    "Age: {age}\n",
    "Education: {education}  \n",
    "\"\"\"\n",
    "print(student_card)"
   ]
  },
  {
   "cell_type": "markdown",
   "metadata": {},
   "source": [
    "- f''' '''\n"
   ]
  },
  {
   "cell_type": "code",
   "execution_count": 38,
   "metadata": {},
   "outputs": [
    {
     "name": "stdout",
     "output_type": "stream",
     "text": [
      "\n",
      "    PIAIC STUDENT CARD\n",
      "\n",
      "Student Name: Ziyad Baig\n",
      "Father Name: Imran Baig\n",
      "Age: 24\n",
      "Education: Bachelor's in Computer Science  \n",
      "\n"
     ]
    }
   ],
   "source": [
    "name : str = \"Ziyad Baig\"\n",
    "father_name : str = \"Imran Baig\"\n",
    "age : int = 24\n",
    "education : str = \"Bachelor's in Computer Science\"\n",
    "\n",
    "student_card : str = f'''\n",
    "    PIAIC STUDENT CARD\n",
    "\n",
    "Student Name: {name}\n",
    "Father Name: {father_name}\n",
    "Age: {age}\n",
    "Education: {education}  \n",
    "'''\n",
    "print(student_card)"
   ]
  },
  {
   "cell_type": "markdown",
   "metadata": {},
   "source": [
    "# Template Literals are not allowed in Python\n"
   ]
  },
  {
   "cell_type": "code",
   "execution_count": 40,
   "metadata": {},
   "outputs": [
    {
     "ename": "SyntaxError",
     "evalue": "invalid syntax (1576788170.py, line 6)",
     "output_type": "error",
     "traceback": [
      "\u001b[1;36m  Cell \u001b[1;32mIn[40], line 6\u001b[1;36m\u001b[0m\n\u001b[1;33m    student_card : str = `\u001b[0m\n\u001b[1;37m                         ^\u001b[0m\n\u001b[1;31mSyntaxError\u001b[0m\u001b[1;31m:\u001b[0m invalid syntax\n"
     ]
    }
   ],
   "source": [
    "name : str = \"Ziyad Baig\"\n",
    "father_name : str = \"Imran Baig\"\n",
    "age : int = 24\n",
    "education : str = \"Bachelor's in Computer Science\"\n",
    "\n",
    "student_card : str = `\n",
    "PIAIC STUDENT CARD\n",
    "Student Name: {name}\n",
    "Father Name: {father_name}\n",
    "Age: {age}\n",
    "Education: {education}  \n",
    "`\n",
    "print(student_card)"
   ]
  },
  {
   "cell_type": "markdown",
   "metadata": {},
   "source": [
    "# F-String and Jinja Style\n"
   ]
  },
  {
   "cell_type": "markdown",
   "metadata": {},
   "source": [
    "- F-string:\n"
   ]
  },
  {
   "cell_type": "code",
   "execution_count": 43,
   "metadata": {},
   "outputs": [
    {
     "name": "stdout",
     "output_type": "stream",
     "text": [
      "\n",
      "student name Ziyad Baig\n",
      "\n"
     ]
    }
   ],
   "source": [
    "print(f\"\"\"\n",
    "student name {name}\n",
    "\"\"\")\n"
   ]
  },
  {
   "cell_type": "markdown",
   "metadata": {},
   "source": [
    "- Jinja Style:\n"
   ]
  },
  {
   "cell_type": "code",
   "execution_count": 45,
   "metadata": {},
   "outputs": [
    {
     "data": {
      "text/plain": [
       "'\\nstudent name {{name}}\\n'"
      ]
     },
     "execution_count": 45,
     "metadata": {},
     "output_type": "execute_result"
    }
   ],
   "source": [
    "# Jinja Style (It's more used with HTML)\n",
    "\"\"\"\n",
    "student name {{name}}\n",
    "\"\"\""
   ]
  },
  {
   "cell_type": "markdown",
   "metadata": {},
   "source": [
    "# Format Strings\n"
   ]
  },
  {
   "cell_type": "markdown",
   "metadata": {},
   "source": [
    "- %s for string & %d for integer\n"
   ]
  },
  {
   "cell_type": "code",
   "execution_count": 46,
   "metadata": {},
   "outputs": [
    {
     "name": "stdout",
     "output_type": "stream",
     "text": [
      "\n",
      "    PIAIC STUDENT CARD\n",
      "\n",
      "Student Name: Ziyad Baig\n",
      "Father Name: Imran Baig\n",
      "Age: 24 \n",
      "Education: Bachelor's in Computer Science \n",
      "\n"
     ]
    }
   ],
   "source": [
    "name : str = \"Ziyad Baig\"\n",
    "father_name : str = \"Imran Baig\"\n",
    "age : int = 24\n",
    "education : str = \"Bachelor's in Computer Science\"\n",
    "\n",
    "student_card : str = f\"\"\"\n",
    "    PIAIC STUDENT CARD\n",
    "\n",
    "Student Name: %s\n",
    "Father Name: %s\n",
    "Age: %d \n",
    "Education: %s \n",
    "\"\"\" % (name, father_name, age, education)\n",
    "print(student_card)"
   ]
  },
  {
   "cell_type": "markdown",
   "metadata": {},
   "source": [
    "# .format() Method\n"
   ]
  },
  {
   "cell_type": "markdown",
   "metadata": {},
   "source": [
    "- Example 1:\n"
   ]
  },
  {
   "cell_type": "code",
   "execution_count": 125,
   "metadata": {},
   "outputs": [
    {
     "name": "stdout",
     "output_type": "stream",
     "text": [
      "Value of a = 5 and Value of b = 8\n",
      "Value of c = 13\n"
     ]
    }
   ],
   "source": [
    "a : int = 5\n",
    "b : int = 8\n",
    "\n",
    "message: str = \"Value of a = {} and Value of b = {}\".format(a,b)\n",
    "c : str = \"Value of c = {}\".format(a+b)\n",
    "print(message)\n",
    "print(c)"
   ]
  },
  {
   "cell_type": "markdown",
   "metadata": {},
   "source": [
    "- Example 2: (This example shows that order of arguments matters in .format() method)\n"
   ]
  },
  {
   "cell_type": "code",
   "execution_count": 49,
   "metadata": {},
   "outputs": [
    {
     "name": "stdout",
     "output_type": "stream",
     "text": [
      "\n",
      "    PIAIC STUDENT CARD\n",
      "\n",
      "Student Name: Imran Baig\n",
      "Father Name: Ziyad Baig\n",
      "Age: Bachelor's in Computer Science\n",
      "Education: 24  \n",
      "\n"
     ]
    }
   ],
   "source": [
    "name : str = \"Ziyad Baig\"\n",
    "father_name : str = \"Imran Baig\"\n",
    "age : int = 24\n",
    "education : str = \"Bachelor's in Computer Science\"\n",
    "\n",
    "student_card : str = \"\"\"\n",
    "    PIAIC STUDENT CARD\n",
    "\n",
    "Student Name: {}\n",
    "Father Name: {}\n",
    "Age: {}\n",
    "Education: {}  \n",
    "\"\"\".format(father_name, name, education, age)\n",
    "print(student_card)"
   ]
  },
  {
   "cell_type": "markdown",
   "metadata": {},
   "source": [
    "- Example 3: (We can input the index numbers in the desired dynamic string position)\n"
   ]
  },
  {
   "cell_type": "code",
   "execution_count": 50,
   "metadata": {},
   "outputs": [
    {
     "name": "stdout",
     "output_type": "stream",
     "text": [
      "\n",
      "    PIAIC STUDENT CARD\n",
      "\n",
      "Student Name: Ziyad Baig\n",
      "Father Name: Imran Baig\n",
      "Age: 24\n",
      "Education: Bachelor's in Computer Science  \n",
      "\n"
     ]
    }
   ],
   "source": [
    "name : str = \"Ziyad Baig\"\n",
    "father_name : str = \"Imran Baig\"\n",
    "age : int = 24\n",
    "education : str = \"Bachelor's in Computer Science\"\n",
    "\n",
    "student_card : str = \"\"\"\n",
    "    PIAIC STUDENT CARD\n",
    "\n",
    "Student Name: {1}\n",
    "Father Name: {0}\n",
    "Age: {3}\n",
    "Education: {2}  \n",
    "\"\"\".format(father_name, name, education, age)\n",
    "#             0           1       2       3\n",
    "print(student_card)"
   ]
  },
  {
   "cell_type": "markdown",
   "metadata": {},
   "source": [
    "- Example 4: (We can also assign arguments into variables and then use them)\n"
   ]
  },
  {
   "cell_type": "code",
   "execution_count": 51,
   "metadata": {},
   "outputs": [
    {
     "name": "stdout",
     "output_type": "stream",
     "text": [
      "\n",
      "    PIAIC STUDENT CARD\n",
      "\n",
      "Student Name: Ziyad Baig\n",
      "Father Name: Imran Baig\n",
      "Age: 24\n",
      "Education: Bachelor's in Computer Science\n",
      "\n"
     ]
    }
   ],
   "source": [
    "name : str = \"Ziyad Baig\"\n",
    "father_name : str = \"Imran Baig\"\n",
    "age : int = 24\n",
    "education : str = \"Bachelor's in Computer Science\"\n",
    "\n",
    "student_card : str = \"\"\"\n",
    "    PIAIC STUDENT CARD\n",
    "\n",
    "Student Name: {b}\n",
    "Father Name: {a}\n",
    "Age: {d}\n",
    "Education: {c}\n",
    "\"\"\".format(a=father_name, b=name, c=education, d=age)\n",
    "print(student_card)"
   ]
  },
  {
   "cell_type": "markdown",
   "metadata": {},
   "source": [
    "# Two Recommended F-String Methods\n"
   ]
  },
  {
   "cell_type": "markdown",
   "metadata": {},
   "source": [
    "- Method 1:\n"
   ]
  },
  {
   "cell_type": "code",
   "execution_count": 52,
   "metadata": {},
   "outputs": [
    {
     "name": "stdout",
     "output_type": "stream",
     "text": [
      "\n",
      "    PIAIC STUDENT CARD\n",
      "\n",
      "Student Name: Ziyad Baig\n",
      "Father Name: Imran Baig\n",
      "Age: 24\n",
      "Education: Bachelor's in Computer Science  \n",
      "\n"
     ]
    }
   ],
   "source": [
    "name : str = \"Ziyad Baig\"\n",
    "father_name : str = \"Imran Baig\"\n",
    "age : int = 24\n",
    "education : str = \"Bachelor's in Computer Science\"\n",
    "\n",
    "student_card : str = f\"\"\"\n",
    "    PIAIC STUDENT CARD\n",
    "\n",
    "Student Name: {name}\n",
    "Father Name: {father_name}\n",
    "Age: {age}\n",
    "Education: {education}  \n",
    "\"\"\"\n",
    "print(student_card)"
   ]
  },
  {
   "cell_type": "markdown",
   "metadata": {},
   "source": [
    "- Method 2:\n"
   ]
  },
  {
   "cell_type": "code",
   "execution_count": 57,
   "metadata": {},
   "outputs": [
    {
     "name": "stdout",
     "output_type": "stream",
     "text": [
      "PIAIC STUDENT CARD\n",
      "Student Name:  Ziyad Baig\n",
      "Father Name:  Imran Baig\n",
      "Age:  24\n",
      "Education:  Bachelor's in Computer Science\n"
     ]
    }
   ],
   "source": [
    "student_card : str = \"\"\"\n",
    "name : str = \"Ziyad Baig\"\n",
    "father_name : str = \"Imran Baig\"\n",
    "age : int = 24\n",
    "education : str = \"Bachelor's in Computer Science\"\n",
    "\n",
    "print(\"PIAIC STUDENT CARD\")\n",
    "print(\"Student Name: \", name)\n",
    "print(\"Father Name: \", father_name)\n",
    "print(\"Age: \", age)\n",
    "print(\"Education: \", education)\n",
    "\n",
    "\"\"\"\n",
    "\n",
    "exec(student_card)"
   ]
  },
  {
   "cell_type": "markdown",
   "metadata": {},
   "source": [
    "# Exploring String Methods and Attributes"
   ]
  },
  {
   "cell_type": "markdown",
   "metadata": {},
   "source": [
    "- In Pre-Defined, Global function we have:\n",
    "    - print()\n",
    "    - type()\n",
    "    - id()\n",
    "    - len()\n",
    "    - dir()"
   ]
  },
  {
   "cell_type": "code",
   "execution_count": 62,
   "metadata": {},
   "outputs": [
    {
     "name": "stdout",
     "output_type": "stream",
     "text": [
      "Pakistan Zindabad!\n",
      "<class 'str'>\n",
      "1858968886960\n",
      "18\n",
      "['__add__', '__class__', '__contains__', '__delattr__', '__dir__', '__doc__', '__eq__', '__format__', '__ge__', '__getattribute__', '__getitem__', '__getnewargs__', '__getstate__', '__gt__', '__hash__', '__init__', '__init_subclass__', '__iter__', '__le__', '__len__', '__lt__', '__mod__', '__mul__', '__ne__', '__new__', '__reduce__', '__reduce_ex__', '__repr__', '__rmod__', '__rmul__', '__setattr__', '__sizeof__', '__str__', '__subclasshook__', 'capitalize', 'casefold', 'center', 'count', 'encode', 'endswith', 'expandtabs', 'find', 'format', 'format_map', 'index', 'isalnum', 'isalpha', 'isascii', 'isdecimal', 'isdigit', 'isidentifier', 'islower', 'isnumeric', 'isprintable', 'isspace', 'istitle', 'isupper', 'join', 'ljust', 'lower', 'lstrip', 'maketrans', 'partition', 'removeprefix', 'removesuffix', 'replace', 'rfind', 'rindex', 'rjust', 'rpartition', 'rsplit', 'rstrip', 'split', 'splitlines', 'startswith', 'strip', 'swapcase', 'title', 'translate', 'upper', 'zfill']\n"
     ]
    }
   ],
   "source": [
    "long_string : str = \"Pakistan Zindabad!\"\n",
    "\n",
    "print(long_string)          # print the result of an expression or variable\n",
    "print(type(long_string))    # returns the datatype of that variable\n",
    "print(id(long_string))      # return physical address of that data\n",
    "print(len(long_string))     # calculates length of a string or list or tuple\n",
    "print(dir(long_string))     # all available methods and attributes of a datatype"
   ]
  },
  {
   "cell_type": "markdown",
   "metadata": {},
   "source": [
    "# All String Methods: "
   ]
  },
  {
   "cell_type": "code",
   "execution_count": 65,
   "metadata": {},
   "outputs": [
    {
     "data": {
      "text/plain": [
       "47"
      ]
     },
     "metadata": {},
     "output_type": "display_data"
    },
    {
     "data": {
      "text/plain": [
       "['capitalize',\n",
       " 'casefold',\n",
       " 'center',\n",
       " 'count',\n",
       " 'encode',\n",
       " 'endswith',\n",
       " 'expandtabs',\n",
       " 'find',\n",
       " 'format',\n",
       " 'format_map',\n",
       " 'index',\n",
       " 'isalnum',\n",
       " 'isalpha',\n",
       " 'isascii',\n",
       " 'isdecimal',\n",
       " 'isdigit',\n",
       " 'isidentifier',\n",
       " 'islower',\n",
       " 'isnumeric',\n",
       " 'isprintable',\n",
       " 'isspace',\n",
       " 'istitle',\n",
       " 'isupper',\n",
       " 'join',\n",
       " 'ljust',\n",
       " 'lower',\n",
       " 'lstrip',\n",
       " 'maketrans',\n",
       " 'partition',\n",
       " 'removeprefix',\n",
       " 'removesuffix',\n",
       " 'replace',\n",
       " 'rfind',\n",
       " 'rindex',\n",
       " 'rjust',\n",
       " 'rpartition',\n",
       " 'rsplit',\n",
       " 'rstrip',\n",
       " 'split',\n",
       " 'splitlines',\n",
       " 'startswith',\n",
       " 'strip',\n",
       " 'swapcase',\n",
       " 'title',\n",
       " 'translate',\n",
       " 'upper',\n",
       " 'zfill']"
      ]
     },
     "metadata": {},
     "output_type": "display_data"
    }
   ],
   "source": [
    "country : str = \"Pakistan\"\n",
    "display(len([i for i in dir(country) if \"__\" not in i]))\n",
    "display([i for i in dir(country) if \"__\" not in i])"
   ]
  },
  {
   "cell_type": "markdown",
   "metadata": {},
   "source": [
    "# .capitalize() => Converts the first character to upper case"
   ]
  },
  {
   "cell_type": "code",
   "execution_count": 66,
   "metadata": {},
   "outputs": [
    {
     "name": "stdout",
     "output_type": "stream",
     "text": [
      "Python is fun!\n"
     ]
    }
   ],
   "source": [
    "# Upper case the first letter in this sentence:\n",
    "\n",
    "txt : str = \"python is FUN!\"\n",
    "\n",
    "print (txt.capitalize())"
   ]
  },
  {
   "cell_type": "markdown",
   "metadata": {},
   "source": [
    "# .casefold() => Converts string into lower case "
   ]
  },
  {
   "cell_type": "code",
   "execution_count": 68,
   "metadata": {},
   "outputs": [
    {
     "name": "stdout",
     "output_type": "stream",
     "text": [
      "hello, and welcome to my world!\n"
     ]
    }
   ],
   "source": [
    "# Make the string lower case:\n",
    "\n",
    "txt : str = \"Hello, And Welcome To My World!\"\n",
    "\n",
    "print(txt.casefold())"
   ]
  },
  {
   "cell_type": "markdown",
   "metadata": {},
   "source": [
    "# .center() => Returns a centered string"
   ]
  },
  {
   "cell_type": "code",
   "execution_count": 74,
   "metadata": {},
   "outputs": [
    {
     "name": "stdout",
     "output_type": "stream",
     "text": [
      "                      banana                      \n"
     ]
    }
   ],
   "source": [
    "# Print the word \"banana\", taking up the space of 50 characters, with \"banana\" in the middle\n",
    "\n",
    "txt : str = \"banana\"\n",
    "\n",
    "print(txt.center(50))"
   ]
  },
  {
   "cell_type": "markdown",
   "metadata": {},
   "source": [
    "# .count() => Returns the number of times a specified value occurs in a string"
   ]
  },
  {
   "cell_type": "code",
   "execution_count": 76,
   "metadata": {},
   "outputs": [
    {
     "name": "stdout",
     "output_type": "stream",
     "text": [
      "2\n"
     ]
    }
   ],
   "source": [
    "# Return the number of times the value \"apple\" appears in the string:\n",
    "\n",
    "txt : str = \"I love apples, apple are my favorite fruit\"\n",
    "\n",
    "print(txt.count(\"apple\"))"
   ]
  },
  {
   "cell_type": "markdown",
   "metadata": {},
   "source": [
    "# .encode() => Returns an encoded version of the string"
   ]
  },
  {
   "cell_type": "code",
   "execution_count": 77,
   "metadata": {},
   "outputs": [
    {
     "name": "stdout",
     "output_type": "stream",
     "text": [
      "b'My name is St\\xc3\\xa5le'\n"
     ]
    }
   ],
   "source": [
    "# UTF-8 encode the string:\n",
    "\n",
    "txt : str = \"My name is Ståle\"\n",
    "\n",
    "print(txt.encode())"
   ]
  },
  {
   "cell_type": "markdown",
   "metadata": {},
   "source": [
    "# .endswith() => Returns true if the string ends with the specified value"
   ]
  },
  {
   "cell_type": "code",
   "execution_count": 78,
   "metadata": {},
   "outputs": [
    {
     "name": "stdout",
     "output_type": "stream",
     "text": [
      "True\n"
     ]
    }
   ],
   "source": [
    "# Check if the string ends with a punctuation sign (.):\n",
    "\n",
    "txt : str = \"Hello, welcome to my world.\"\n",
    "\n",
    "print(txt.endswith(\".\"))\n"
   ]
  },
  {
   "cell_type": "markdown",
   "metadata": {},
   "source": [
    "# .expandtabs() => Sets the tab size of the string\n"
   ]
  },
  {
   "cell_type": "code",
   "execution_count": 80,
   "metadata": {},
   "outputs": [
    {
     "name": "stdout",
     "output_type": "stream",
     "text": [
      "H   e   l   l   o\n"
     ]
    }
   ],
   "source": [
    "# Set the tab size to 4 whitespaces:\n",
    "\n",
    "txt : str = \"H\\te\\tl\\tl\\to\"\n",
    "\n",
    "print(txt.expandtabs(4))"
   ]
  },
  {
   "cell_type": "markdown",
   "metadata": {},
   "source": [
    "# .find() => Searches the string for a specified value and returns the position of where it was found"
   ]
  },
  {
   "cell_type": "code",
   "execution_count": 82,
   "metadata": {},
   "outputs": [
    {
     "name": "stdout",
     "output_type": "stream",
     "text": [
      "7\n"
     ]
    }
   ],
   "source": [
    "# At what index in the text is the word \"welcome\"?:\n",
    "\n",
    "txt : str = \"Hello, welcome to my world.\"\n",
    "\n",
    "print(txt.find(\"welcome\"))"
   ]
  },
  {
   "cell_type": "markdown",
   "metadata": {},
   "source": [
    "# .format() => Formats specified values in a string\n"
   ]
  },
  {
   "cell_type": "code",
   "execution_count": 84,
   "metadata": {},
   "outputs": [
    {
     "name": "stdout",
     "output_type": "stream",
     "text": [
      "For only 49.12 dollars!\n"
     ]
    }
   ],
   "source": [
    "#Insert the price inside the placeholder, the price should be in fixed point, two-decimal format:\n",
    "\n",
    "txt : str = \"For only {price:.2f} dollars!\"\n",
    "\n",
    "print(txt.format(price = 49.123123123))"
   ]
  },
  {
   "cell_type": "markdown",
   "metadata": {},
   "source": [
    "# .format_map() => Formats specified values in a string\n"
   ]
  },
  {
   "cell_type": "code",
   "execution_count": 126,
   "metadata": {},
   "outputs": [
    {
     "name": "stdout",
     "output_type": "stream",
     "text": [
      "John's last name is Wick\n"
     ]
    }
   ],
   "source": [
    "# Returns key’s values of the input dictionary.\n",
    "\n",
    "person : dict[str, str] = {'first_name':'John', 'last_name':'Wick'} \n",
    "  \n",
    "print(\"{first_name}'s last name is {last_name}\".format_map(person))"
   ]
  },
  {
   "cell_type": "markdown",
   "metadata": {},
   "source": [
    "# .index() => Searches the string for a specified value and returns the position of where it was found\n"
   ]
  },
  {
   "cell_type": "code",
   "execution_count": 86,
   "metadata": {},
   "outputs": [
    {
     "name": "stdout",
     "output_type": "stream",
     "text": [
      "7\n"
     ]
    }
   ],
   "source": [
    "# At what index in the text is the word \"welcome\"?:\n",
    "\n",
    "txt : str = \"Hello, welcome to my world.\"\n",
    "\n",
    "print(txt.index(\"welcome\"))"
   ]
  },
  {
   "cell_type": "markdown",
   "metadata": {},
   "source": [
    "# .isalnum() =>\tReturns True if all characters in the string are alphanumeric\n"
   ]
  },
  {
   "cell_type": "code",
   "execution_count": 87,
   "metadata": {},
   "outputs": [
    {
     "name": "stdout",
     "output_type": "stream",
     "text": [
      "True\n"
     ]
    }
   ],
   "source": [
    "# Check if all the characters in the text are alphanumeric:\n",
    "\n",
    "txt : str = \"Company12\"\n",
    "\n",
    "print(txt.isalnum())"
   ]
  },
  {
   "cell_type": "markdown",
   "metadata": {},
   "source": [
    "# .isalpha() =>\tReturns True if all characters in the string are in the alphabet\n"
   ]
  },
  {
   "cell_type": "code",
   "execution_count": 90,
   "metadata": {},
   "outputs": [
    {
     "name": "stdout",
     "output_type": "stream",
     "text": [
      "True\n"
     ]
    }
   ],
   "source": [
    "# Check if all the characters in the text are letters:\n",
    "\n",
    "txt : str = \"CompanyX\"\n",
    "\n",
    "print(txt.isalpha())"
   ]
  },
  {
   "cell_type": "markdown",
   "metadata": {},
   "source": [
    "# .isascii() =>\tReturns True if all characters in the string are ascii characters\n"
   ]
  },
  {
   "cell_type": "code",
   "execution_count": 91,
   "metadata": {},
   "outputs": [
    {
     "name": "stdout",
     "output_type": "stream",
     "text": [
      "True\n"
     ]
    }
   ],
   "source": [
    "# Check if all the characters in the text are ascii characters:\n",
    "\n",
    "txt : str = \"Company123\"\n",
    "\n",
    "print(txt.isascii())"
   ]
  },
  {
   "cell_type": "markdown",
   "metadata": {},
   "source": [
    "# .isdecimal() =>\tReturns True if all characters in the string are decimals\n"
   ]
  },
  {
   "cell_type": "code",
   "execution_count": 92,
   "metadata": {},
   "outputs": [
    {
     "name": "stdout",
     "output_type": "stream",
     "text": [
      "True\n"
     ]
    }
   ],
   "source": [
    "# Check if all the characters in a string are decimals (0-9):\n",
    "\n",
    "txt : str = \"1234\"\n",
    "\n",
    "print(txt.isdecimal())\n"
   ]
  },
  {
   "cell_type": "markdown",
   "metadata": {},
   "source": [
    "# .isdigit() =>\tReturns True if all characters in the string are digits\n"
   ]
  },
  {
   "cell_type": "code",
   "execution_count": 93,
   "metadata": {},
   "outputs": [
    {
     "name": "stdout",
     "output_type": "stream",
     "text": [
      "True\n"
     ]
    }
   ],
   "source": [
    "# Check if all the characters in the text are digits:\n",
    "\n",
    "txt : str = \"50800\"\n",
    "\n",
    "print(txt.isdigit())"
   ]
  },
  {
   "cell_type": "markdown",
   "metadata": {},
   "source": [
    "# .isidentifier() => \tReturns True if the string is an identifier\n"
   ]
  },
  {
   "cell_type": "code",
   "execution_count": 94,
   "metadata": {},
   "outputs": [
    {
     "name": "stdout",
     "output_type": "stream",
     "text": [
      "True\n"
     ]
    }
   ],
   "source": [
    "# Check if the string is a valid identifier:\n",
    "\n",
    "txt : str = \"Demo\"\n",
    "\n",
    "print(txt.isidentifier())"
   ]
  },
  {
   "cell_type": "markdown",
   "metadata": {},
   "source": [
    "# .islower() =>\tReturns True if all characters in the string are lower case\n"
   ]
  },
  {
   "cell_type": "code",
   "execution_count": 95,
   "metadata": {},
   "outputs": [
    {
     "name": "stdout",
     "output_type": "stream",
     "text": [
      "True\n"
     ]
    }
   ],
   "source": [
    "# Check if all the characters in the text are in lower case:\n",
    "\n",
    "txt : str = \"hello world!\"\n",
    "\n",
    "print(txt.islower())"
   ]
  },
  {
   "cell_type": "markdown",
   "metadata": {},
   "source": [
    "# .isnumeric() =>\tReturns True if all characters in the string are numeric\n"
   ]
  },
  {
   "cell_type": "code",
   "execution_count": 96,
   "metadata": {},
   "outputs": [
    {
     "name": "stdout",
     "output_type": "stream",
     "text": [
      "True\n"
     ]
    }
   ],
   "source": [
    "# Check if all the characters in the text are numeric:\n",
    "\n",
    "txt : str = \"565543\"\n",
    "\n",
    "print(txt.isnumeric())"
   ]
  },
  {
   "cell_type": "markdown",
   "metadata": {},
   "source": [
    "# .isprintable() => \tReturns True if all characters in the string are printable\n"
   ]
  },
  {
   "cell_type": "code",
   "execution_count": 97,
   "metadata": {},
   "outputs": [
    {
     "name": "stdout",
     "output_type": "stream",
     "text": [
      "True\n"
     ]
    }
   ],
   "source": [
    "# Check if all the characters in the text are printable:\n",
    "\n",
    "txt : str = \"Hello! Are you #1?\" \n",
    "\n",
    "print(txt.isprintable())"
   ]
  },
  {
   "cell_type": "markdown",
   "metadata": {},
   "source": [
    "# .isspace() =>\tReturns True if all characters in the string are whitespaces\n"
   ]
  },
  {
   "cell_type": "code",
   "execution_count": 98,
   "metadata": {},
   "outputs": [
    {
     "name": "stdout",
     "output_type": "stream",
     "text": [
      "True\n"
     ]
    }
   ],
   "source": [
    "# Check if all the characters in the text are whitespaces:\n",
    "\n",
    "txt : str = \"   \"\n",
    "\n",
    "print(txt.isspace())"
   ]
  },
  {
   "cell_type": "markdown",
   "metadata": {},
   "source": [
    "# .istitle() =>\tReturns True if the string follows the rules of a title\n"
   ]
  },
  {
   "cell_type": "code",
   "execution_count": 100,
   "metadata": {},
   "outputs": [
    {
     "name": "stdout",
     "output_type": "stream",
     "text": [
      "True\n"
     ]
    }
   ],
   "source": [
    "# Check if each word start with an upper case letter:\n",
    "\n",
    "txt : str = \"Hello, And Welcome To My World!\"\n",
    "\n",
    "print(txt.istitle())"
   ]
  },
  {
   "cell_type": "markdown",
   "metadata": {},
   "source": [
    "# .isupper() =>\tReturns True if all characters in the string are upper case\n"
   ]
  },
  {
   "cell_type": "code",
   "execution_count": 101,
   "metadata": {},
   "outputs": [
    {
     "name": "stdout",
     "output_type": "stream",
     "text": [
      "True\n"
     ]
    }
   ],
   "source": [
    "# Check if all the characters in the text are in upper case:\n",
    "\n",
    "txt : str = \"THIS IS NOW!\"\n",
    "\n",
    "print(txt.isupper())"
   ]
  },
  {
   "cell_type": "markdown",
   "metadata": {},
   "source": [
    "# .join() =>\tJoins the elements of an iterable to the end of the string\n"
   ]
  },
  {
   "cell_type": "code",
   "execution_count": 102,
   "metadata": {},
   "outputs": [
    {
     "name": "stdout",
     "output_type": "stream",
     "text": [
      "John#Peter#Vicky\n"
     ]
    }
   ],
   "source": [
    "# Join all items in a tuple into a string, using a hash character as separator:\n",
    "\n",
    "myTuple : tuple[str, str, str] = (\"John\", \"Peter\", \"Vicky\")\n",
    "\n",
    "print(\"#\".join(myTuple))"
   ]
  },
  {
   "cell_type": "markdown",
   "metadata": {},
   "source": [
    "# .ljust() =>\tReturns a left justified version of the string\n"
   ]
  },
  {
   "cell_type": "code",
   "execution_count": 103,
   "metadata": {},
   "outputs": [
    {
     "name": "stdout",
     "output_type": "stream",
     "text": [
      "banana               is my favorite fruit.\n"
     ]
    }
   ],
   "source": [
    "# Return a 20 characters long, left justified version of the word \"banana\":\n",
    "\n",
    "txt : str = \"banana\"\n",
    "\n",
    "print(txt.ljust(20), \"is my favorite fruit.\")"
   ]
  },
  {
   "cell_type": "markdown",
   "metadata": {},
   "source": [
    "# .lower() =>\tConverts a string into lower case\n"
   ]
  },
  {
   "cell_type": "code",
   "execution_count": 104,
   "metadata": {},
   "outputs": [
    {
     "name": "stdout",
     "output_type": "stream",
     "text": [
      "hello my friends\n"
     ]
    }
   ],
   "source": [
    "# Lower case the string:\n",
    "\n",
    "txt : str = \"Hello my FRIENDS\"\n",
    "\n",
    "print(txt.lower())"
   ]
  },
  {
   "cell_type": "markdown",
   "metadata": {},
   "source": [
    "# .lstrip() =>\tReturns a left trim version of the string\n"
   ]
  },
  {
   "cell_type": "code",
   "execution_count": 105,
   "metadata": {},
   "outputs": [
    {
     "name": "stdout",
     "output_type": "stream",
     "text": [
      "of all fruits banana      is my favorite\n"
     ]
    }
   ],
   "source": [
    "# Remove spaces to the left of the string:\n",
    "\n",
    "txt : str = \"     banana     \"\n",
    "\n",
    "print(\"of all fruits\", txt.lstrip(), \"is my favorite\")"
   ]
  },
  {
   "cell_type": "markdown",
   "metadata": {},
   "source": [
    "# .maketrans() =>\tReturns a translation table to be used in translations\n"
   ]
  },
  {
   "cell_type": "code",
   "execution_count": 107,
   "metadata": {},
   "outputs": [
    {
     "name": "stdout",
     "output_type": "stream",
     "text": [
      "Hello Pam!\n"
     ]
    }
   ],
   "source": [
    "# Create a mapping table, and use it in the translate() method to replace any \"S\" characters with a \"P\" character:\n",
    "\n",
    "txt : str = \"Hello Sam!\"\n",
    "\n",
    "print(txt.translate(str.maketrans(\"S\", \"P\")))"
   ]
  },
  {
   "cell_type": "markdown",
   "metadata": {},
   "source": [
    "# .partition() =>\tReturns a tuple where the string is parted into three parts\n"
   ]
  },
  {
   "cell_type": "code",
   "execution_count": 108,
   "metadata": {},
   "outputs": [
    {
     "name": "stdout",
     "output_type": "stream",
     "text": [
      "('I could eat ', 'bananas', ' all day')\n"
     ]
    }
   ],
   "source": [
    "# Search for the word \"bananas\", and return a tuple with three elements:\n",
    "\n",
    "# 1 - everything before the \"match\"\n",
    "# 2 - the \"match\"\n",
    "# 3 - everything after the \"match\"\n",
    "\n",
    "txt : str = \"I could eat bananas all day\"\n",
    "\n",
    "print(txt.partition(\"bananas\"))"
   ]
  },
  {
   "cell_type": "markdown",
   "metadata": {},
   "source": [
    "# .replace() =>\tReturns a string where a specified value is replaced with a specified value\n"
   ]
  },
  {
   "cell_type": "code",
   "execution_count": 109,
   "metadata": {},
   "outputs": [
    {
     "name": "stdout",
     "output_type": "stream",
     "text": [
      "I like apples\n"
     ]
    }
   ],
   "source": [
    "#Replace the word \"bananas\":\n",
    "\n",
    "txt : str = \"I like bananas\"\n",
    "\n",
    "print(txt.replace(\"bananas\", \"apples\"))"
   ]
  },
  {
   "cell_type": "markdown",
   "metadata": {},
   "source": [
    "# .rfind() =>\tSearches the string for a specified value and returns the last position of where it was found\n"
   ]
  },
  {
   "cell_type": "code",
   "execution_count": 110,
   "metadata": {},
   "outputs": [
    {
     "name": "stdout",
     "output_type": "stream",
     "text": [
      "12\n"
     ]
    }
   ],
   "source": [
    "# At what index in the text is the last occurrence of the string \"casa\"?:\n",
    "\n",
    "txt : str = \"Mi casa, su casa.\"\n",
    "\n",
    "print(txt.rfind(\"casa\"))"
   ]
  },
  {
   "cell_type": "markdown",
   "metadata": {},
   "source": [
    "# .rindex() =>\tSearches the string for a specified value and returns the last position of where it was found\n"
   ]
  },
  {
   "cell_type": "code",
   "execution_count": 111,
   "metadata": {},
   "outputs": [
    {
     "name": "stdout",
     "output_type": "stream",
     "text": [
      "12\n"
     ]
    }
   ],
   "source": [
    "# At what index in the text is the last occurrence of the string \"casa\"?:\n",
    "\n",
    "txt : str = \"Mi casa, su casa.\" \n",
    "\n",
    "print(txt.rindex(\"casa\"))"
   ]
  },
  {
   "cell_type": "markdown",
   "metadata": {},
   "source": [
    "# .rjust() =>\tReturns a right justified version of the string\n"
   ]
  },
  {
   "cell_type": "code",
   "execution_count": 112,
   "metadata": {},
   "outputs": [
    {
     "name": "stdout",
     "output_type": "stream",
     "text": [
      "              banana is my favorite fruit.\n"
     ]
    }
   ],
   "source": [
    "# Return a 20 characters long, right justified version of the word \"banana\":\n",
    "\n",
    "txt : str = \"banana\"\n",
    "\n",
    "print(txt.rjust(20), \"is my favorite fruit.\")"
   ]
  },
  {
   "cell_type": "markdown",
   "metadata": {},
   "source": [
    "# .rpartition() =>\tReturns a tuple where the string is parted into three parts\n"
   ]
  },
  {
   "cell_type": "code",
   "execution_count": 113,
   "metadata": {},
   "outputs": [
    {
     "name": "stdout",
     "output_type": "stream",
     "text": [
      "('I could eat bananas all day, ', 'bananas', ' are my favorite fruit')\n"
     ]
    }
   ],
   "source": [
    "# Search for the last occurrence of the word \"bananas\", and return a tuple with three elements:\n",
    "\n",
    "# 1 - everything before the \"match\"\n",
    "# 2 - the \"match\"\n",
    "# 3 - everything after the \"match\"\n",
    "\n",
    "txt : str = \"I could eat bananas all day, bananas are my favorite fruit\"\n",
    "\n",
    "print(txt.rpartition(\"bananas\"))"
   ]
  },
  {
   "cell_type": "markdown",
   "metadata": {},
   "source": [
    "# .rsplit() =>\tSplits the string at the specified separator, and returns a list\n"
   ]
  },
  {
   "cell_type": "code",
   "execution_count": 114,
   "metadata": {},
   "outputs": [
    {
     "name": "stdout",
     "output_type": "stream",
     "text": [
      "['apple', 'banana', 'cherry']\n"
     ]
    }
   ],
   "source": [
    "# Split a string into a list, using comma, followed by a space (, ) as the separator:\n",
    "\n",
    "txt : str = \"apple, banana, cherry\"\n",
    "\n",
    "print(txt.rsplit(\", \"))"
   ]
  },
  {
   "cell_type": "markdown",
   "metadata": {},
   "source": [
    "# .rstrip() =>\tReturns a right trim version of the string\n"
   ]
  },
  {
   "cell_type": "code",
   "execution_count": 115,
   "metadata": {},
   "outputs": [
    {
     "name": "stdout",
     "output_type": "stream",
     "text": [
      "of all fruits      banana is my favorite\n"
     ]
    }
   ],
   "source": [
    "# Remove any white spaces at the end of the string:\n",
    "\n",
    "txt : str = \"     banana     \"\n",
    "\n",
    "print(\"of all fruits\", txt.rstrip(), \"is my favorite\")"
   ]
  },
  {
   "cell_type": "markdown",
   "metadata": {},
   "source": [
    "# .split() =>\tSplits the string at the specified separator, and returns a list\n"
   ]
  },
  {
   "cell_type": "code",
   "execution_count": 116,
   "metadata": {},
   "outputs": [
    {
     "name": "stdout",
     "output_type": "stream",
     "text": [
      "['welcome', 'to', 'the', 'jungle']\n"
     ]
    }
   ],
   "source": [
    "# Split a string into a list where each word is a list item:\n",
    "\n",
    "txt : str = \"welcome to the jungle\"\n",
    "\n",
    "print(txt.split())"
   ]
  },
  {
   "cell_type": "markdown",
   "metadata": {},
   "source": [
    "# .splitlines() =>\tSplits the string at line breaks and returns a list\n"
   ]
  },
  {
   "cell_type": "code",
   "execution_count": 117,
   "metadata": {},
   "outputs": [
    {
     "name": "stdout",
     "output_type": "stream",
     "text": [
      "['Thank you for the music', 'Welcome to the jungle']\n"
     ]
    }
   ],
   "source": [
    "# Split a string into a list where each line is a list item:\n",
    "\n",
    "txt : str = \"Thank you for the music\\nWelcome to the jungle\"\n",
    "\n",
    "print(txt.splitlines())"
   ]
  },
  {
   "cell_type": "markdown",
   "metadata": {},
   "source": [
    "# .startswith() =>\tReturns true if the string starts with the specified value\n"
   ]
  },
  {
   "cell_type": "code",
   "execution_count": 118,
   "metadata": {},
   "outputs": [
    {
     "name": "stdout",
     "output_type": "stream",
     "text": [
      "True\n"
     ]
    }
   ],
   "source": [
    "# Check if the string starts with \"Hello\":\n",
    "\n",
    "txt : str = \"Hello, welcome to my world.\"\n",
    "\n",
    "print(txt.startswith(\"Hello\"))"
   ]
  },
  {
   "cell_type": "markdown",
   "metadata": {},
   "source": [
    "# .strip() =>\tReturns a trimmed version of the string\n"
   ]
  },
  {
   "cell_type": "code",
   "execution_count": 119,
   "metadata": {},
   "outputs": [
    {
     "name": "stdout",
     "output_type": "stream",
     "text": [
      "of all fruits banana is my favorite\n"
     ]
    }
   ],
   "source": [
    "# Remove spaces at the beginning and at the end of the string:\n",
    "\n",
    "txt : str = \"     banana     \"\n",
    "\n",
    "print(\"of all fruits\", txt.strip(), \"is my favorite\")"
   ]
  },
  {
   "cell_type": "markdown",
   "metadata": {},
   "source": [
    "# .swapcase() =>\tSwaps cases, lower case becomes upper case and vice versa\n"
   ]
  },
  {
   "cell_type": "code",
   "execution_count": 120,
   "metadata": {},
   "outputs": [
    {
     "name": "stdout",
     "output_type": "stream",
     "text": [
      "hELLO mY nAME iS peter\n"
     ]
    }
   ],
   "source": [
    "# Make the lower case letters upper case and the upper case letters lower case:\n",
    "\n",
    "txt : str = \"Hello My Name Is PETER\"\n",
    "\n",
    "print(txt.swapcase())"
   ]
  },
  {
   "cell_type": "markdown",
   "metadata": {},
   "source": [
    "# .title() =>\tConverts the first character of each word to upper case\n"
   ]
  },
  {
   "cell_type": "code",
   "execution_count": 121,
   "metadata": {},
   "outputs": [
    {
     "name": "stdout",
     "output_type": "stream",
     "text": [
      "Welcome To My World\n"
     ]
    }
   ],
   "source": [
    "# Make the first letter in each word upper case:\n",
    "\n",
    "txt : str = \"Welcome to my world\"\n",
    "\n",
    "print(txt.title())"
   ]
  },
  {
   "cell_type": "markdown",
   "metadata": {},
   "source": [
    "# .translate() =>\tReturns a translated string\n"
   ]
  },
  {
   "cell_type": "code",
   "execution_count": 122,
   "metadata": {},
   "outputs": [
    {
     "name": "stdout",
     "output_type": "stream",
     "text": [
      "Hello Pam!\n"
     ]
    }
   ],
   "source": [
    "#Replace any \"S\" characters with a \"P\" character:\n",
    "\n",
    "#use a dictionary with ascii codes to replace 83 (S) with 80 (P):\n",
    "mydict : dict[int] = {83:  80}\n",
    "txt : str = \"Hello Sam!\"\n",
    "print(txt.translate(mydict))"
   ]
  },
  {
   "cell_type": "markdown",
   "metadata": {},
   "source": [
    "# .upper() =>\tConverts a string into upper case.\n"
   ]
  },
  {
   "cell_type": "code",
   "execution_count": 123,
   "metadata": {},
   "outputs": [
    {
     "name": "stdout",
     "output_type": "stream",
     "text": [
      "HELLO MY FRIENDS\n"
     ]
    }
   ],
   "source": [
    "# Upper case the string:\n",
    "\n",
    "txt : str = \"Hello my friends\"\n",
    "\n",
    "print(txt.upper())"
   ]
  },
  {
   "cell_type": "markdown",
   "metadata": {},
   "source": [
    "# .zfill() =>\tFills the string with a specified number of 0 values at the beginning"
   ]
  },
  {
   "cell_type": "code",
   "execution_count": 124,
   "metadata": {},
   "outputs": [
    {
     "name": "stdout",
     "output_type": "stream",
     "text": [
      "0000000050\n"
     ]
    }
   ],
   "source": [
    "# Fill the string with zeros until it is 10 characters long:\n",
    "\n",
    "txt : str = \"50\"\n",
    "\n",
    "print(txt.zfill(10))"
   ]
  }
 ],
 "metadata": {
  "kernelspec": {
   "display_name": "python12",
   "language": "python",
   "name": "python3"
  },
  "language_info": {
   "codemirror_mode": {
    "name": "ipython",
    "version": 3
   },
   "file_extension": ".py",
   "mimetype": "text/x-python",
   "name": "python",
   "nbconvert_exporter": "python",
   "pygments_lexer": "ipython3",
   "version": "3.12.0"
  }
 },
 "nbformat": 4,
 "nbformat_minor": 2
}
