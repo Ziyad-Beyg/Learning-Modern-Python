{
 "cells": [
  {
   "cell_type": "markdown",
   "metadata": {},
   "source": [
    "# Intall Pandas "
   ]
  },
  {
   "cell_type": "code",
   "execution_count": 2,
   "metadata": {},
   "outputs": [
    {
     "name": "stdout",
     "output_type": "stream",
     "text": [
      "Requirement already satisfied: pandas in c:\\users\\3 bros computerz\\anaconda3\\envs\\python12\\lib\\site-packages (2.1.3)\n",
      "Requirement already satisfied: numpy<2,>=1.26.0 in c:\\users\\3 bros computerz\\anaconda3\\envs\\python12\\lib\\site-packages (from pandas) (1.26.2)\n",
      "Requirement already satisfied: python-dateutil>=2.8.2 in c:\\users\\3 bros computerz\\anaconda3\\envs\\python12\\lib\\site-packages (from pandas) (2.8.2)\n",
      "Requirement already satisfied: pytz>=2020.1 in c:\\users\\3 bros computerz\\anaconda3\\envs\\python12\\lib\\site-packages (from pandas) (2023.3.post1)\n",
      "Requirement already satisfied: tzdata>=2022.1 in c:\\users\\3 bros computerz\\anaconda3\\envs\\python12\\lib\\site-packages (from pandas) (2023.3)\n",
      "Requirement already satisfied: six>=1.5 in c:\\users\\3 bros computerz\\anaconda3\\envs\\python12\\lib\\site-packages (from python-dateutil>=2.8.2->pandas) (1.16.0)\n"
     ]
    }
   ],
   "source": [
    "# !pip install pandas"
   ]
  },
  {
   "cell_type": "markdown",
   "metadata": {},
   "source": [
    "# Install \"lxml\" dependency"
   ]
  },
  {
   "cell_type": "code",
   "execution_count": 4,
   "metadata": {},
   "outputs": [
    {
     "name": "stdout",
     "output_type": "stream",
     "text": [
      "Retrieving notices: ...working... done\n",
      "Collecting package metadata (current_repodata.json): ...working... done\n",
      "Solving environment: ...working... done\n",
      "\n",
      "## Package Plan ##\n",
      "\n",
      "  environment location: C:\\Users\\3 BROS COMPUTERZ\\anaconda3\\envs\\python12\n",
      "\n",
      "  added / updated specs:\n",
      "    - lxml\n",
      "\n",
      "\n",
      "The following packages will be downloaded:\n",
      "\n",
      "    package                    |            build\n",
      "    ---------------------------|-----------------\n",
      "    ca-certificates-2023.12.12 |       haa95532_0         127 KB\n",
      "    libiconv-1.16              |       h2bbff1b_2         651 KB\n",
      "    libxml2-2.10.4             |       h0ad7f3c_1         2.8 MB\n",
      "    libxslt-1.1.37             |       h2bbff1b_1         447 KB\n",
      "    lxml-4.9.3                 |  py312h09808a7_0         1.0 MB\n",
      "    ------------------------------------------------------------\n",
      "                                           Total:         5.0 MB\n",
      "\n",
      "The following NEW packages will be INSTALLED:\n",
      "\n",
      "  libiconv           pkgs/main/win-64::libiconv-1.16-h2bbff1b_2 \n",
      "  libxml2            pkgs/main/win-64::libxml2-2.10.4-h0ad7f3c_1 \n",
      "  libxslt            pkgs/main/win-64::libxslt-1.1.37-h2bbff1b_1 \n",
      "  lxml               pkgs/main/win-64::lxml-4.9.3-py312h09808a7_0 \n",
      "\n",
      "The following packages will be UPDATED:\n",
      "\n",
      "  ca-certificates                     2023.08.22-haa95532_0 --> 2023.12.12-haa95532_0 \n",
      "\n",
      "\n",
      "\n",
      "Downloading and Extracting Packages\n",
      "\n",
      "libxml2-2.10.4       | 2.8 MB    |            |   0% \n",
      "\n",
      "libxslt-1.1.37       | 447 KB    |            |   0% \u001b[A\n",
      "\n",
      "\n",
      "libiconv-1.16        | 651 KB    |            |   0% \u001b[A\u001b[A\n",
      "\n",
      "\n",
      "\n",
      "lxml-4.9.3           | 1.0 MB    |            |   0% \u001b[A\u001b[A\u001b[A\n",
      "\n",
      "\n",
      "\n",
      "\n",
      "ca-certificates-2023 | 127 KB    |            |   0% \u001b[A\u001b[A\u001b[A\u001b[A\n",
      "\n",
      "\n",
      "\n",
      "\n",
      "ca-certificates-2023 | 127 KB    | #2         |  13% \u001b[A\u001b[A\u001b[A\u001b[A\n",
      "libxml2-2.10.4       | 2.8 MB    |            |   1% \n",
      "\n",
      "\n",
      "libiconv-1.16        | 651 KB    | 2          |   2% \u001b[A\u001b[A\n",
      "\n",
      "\n",
      "\n",
      "\n",
      "ca-certificates-2023 | 127 KB    | #######5   |  76% \u001b[A\u001b[A\u001b[A\u001b[A\n",
      "\n",
      "libxslt-1.1.37       | 447 KB    | 3          |   4% \u001b[A\n",
      "libxml2-2.10.4       | 2.8 MB    | 4          |   4% \n",
      "\n",
      "\n",
      "libiconv-1.16        | 651 KB    | #9         |  20% \u001b[A\u001b[A\n",
      "\n",
      "libxslt-1.1.37       | 447 KB    | ##8        |  29% \u001b[A\n",
      "\n",
      "\n",
      "\n",
      "\n",
      "ca-certificates-2023 | 127 KB    | ########## | 100% \u001b[A\u001b[A\u001b[A\u001b[A\n",
      "libxml2-2.10.4       | 2.8 MB    | 8          |   8% \n",
      "\n",
      "\n",
      "libiconv-1.16        | 651 KB    | ###6       |  37% \u001b[A\u001b[A\n",
      "\n",
      "\n",
      "\n",
      "lxml-4.9.3           | 1.0 MB    | 1          |   2% \u001b[A\u001b[A\u001b[A\n",
      "\n",
      "libxslt-1.1.37       | 447 KB    | #####7     |  57% \u001b[A\n",
      "\n",
      "\n",
      "libiconv-1.16        | 651 KB    | #####4     |  54% \u001b[A\u001b[A\n",
      "\n",
      "\n",
      "\n",
      "lxml-4.9.3           | 1.0 MB    | 9          |   9% \u001b[A\u001b[A\u001b[A\n",
      "\n",
      "\n",
      "libiconv-1.16        | 651 KB    | ######6    |  66% \u001b[A\u001b[A\n",
      "\n",
      "\n",
      "\n",
      "lxml-4.9.3           | 1.0 MB    | #5         |  16% \u001b[A\u001b[A\u001b[A\n",
      "\n",
      "libxslt-1.1.37       | 447 KB    | ########## | 100% \u001b[A\n",
      "\n",
      "libxslt-1.1.37       | 447 KB    | ########## | 100% \u001b[A\n",
      "libxml2-2.10.4       | 2.8 MB    | #2         |  13% \n",
      "\n",
      "\n",
      "\n",
      "lxml-4.9.3           | 1.0 MB    | ##1        |  22% \u001b[A\u001b[A\u001b[A\n",
      "\n",
      "\n",
      "libiconv-1.16        | 651 KB    | ########## | 100% \u001b[A\u001b[A\n",
      "\n",
      "\n",
      "libiconv-1.16        | 651 KB    | ########## | 100% \u001b[A\u001b[A\n",
      "libxml2-2.10.4       | 2.8 MB    | ##2        |  23% \n",
      "\n",
      "\n",
      "\n",
      "lxml-4.9.3           | 1.0 MB    | ###8       |  39% \u001b[A\u001b[A\u001b[A\n",
      "libxml2-2.10.4       | 2.8 MB    | ###        |  31% \n",
      "\n",
      "\n",
      "\n",
      "lxml-4.9.3           | 1.0 MB    | ####8      |  48% \u001b[A\u001b[A\u001b[A\n",
      "\n",
      "\n",
      "\n",
      "lxml-4.9.3           | 1.0 MB    | #####6     |  56% \u001b[A\u001b[A\u001b[A\n",
      "libxml2-2.10.4       | 2.8 MB    | ###5       |  36% \n",
      "\n",
      "\n",
      "\n",
      "lxml-4.9.3           | 1.0 MB    | ######3    |  64% \u001b[A\u001b[A\u001b[A\n",
      "libxml2-2.10.4       | 2.8 MB    | #####8     |  59% \n",
      "\n",
      "\n",
      "\n",
      "lxml-4.9.3           | 1.0 MB    | #######    |  70% \u001b[A\u001b[A\u001b[A\n",
      "libxml2-2.10.4       | 2.8 MB    | ######4    |  64% \n",
      "\n",
      "\n",
      "\n",
      "lxml-4.9.3           | 1.0 MB    | #######6   |  76% \u001b[A\u001b[A\u001b[A\n",
      "\n",
      "\n",
      "\n",
      "lxml-4.9.3           | 1.0 MB    | ########4  |  84% \u001b[A\u001b[A\u001b[A\n",
      "libxml2-2.10.4       | 2.8 MB    | ######9    |  69% \n",
      "libxml2-2.10.4       | 2.8 MB    | #########  |  91% \n",
      "libxml2-2.10.4       | 2.8 MB    | #########9 | 100% \n",
      "\n",
      "\n",
      "\n",
      "lxml-4.9.3           | 1.0 MB    | ########## | 100% \u001b[A\u001b[A\u001b[A\n",
      "\n",
      "\n",
      "\n",
      "lxml-4.9.3           | 1.0 MB    | ########## | 100% \u001b[A\u001b[A\u001b[A\n",
      "libxml2-2.10.4       | 2.8 MB    | ########## | 100% \n",
      "                                                     \n",
      "\n",
      "\n",
      "                                                     \u001b[A\n",
      "\n",
      "\n",
      "                                                     \u001b[A\u001b[A\n",
      "\n",
      "\n",
      "\n",
      "                                                     \u001b[A\u001b[A\u001b[A\n",
      "\n",
      "\n",
      "\n",
      "\n",
      "                                                     \u001b[A\u001b[A\u001b[A\u001b[A\n",
      "\n",
      "Preparing transaction: ...working... done\n",
      "Verifying transaction: ...working... done\n",
      "Executing transaction: ...working... done\n"
     ]
    },
    {
     "name": "stderr",
     "output_type": "stream",
     "text": [
      "\n",
      "\n",
      "==> WARNING: A newer version of conda exists. <==\n",
      "  current version: 23.7.4\n",
      "  latest version: 23.11.0\n",
      "\n",
      "Please update conda by running\n",
      "\n",
      "    $ conda update -n base -c defaults conda\n",
      "\n",
      "Or to minimize the number of packages updated during conda update use\n",
      "\n",
      "     conda install conda=23.11.0\n",
      "\n",
      "\n"
     ]
    }
   ],
   "source": [
    "# !conda install lxml -y"
   ]
  },
  {
   "cell_type": "markdown",
   "metadata": {},
   "source": [
    "# This code will extract all the table tags into a list of pandas dataframe from the mentioned URL"
   ]
  },
  {
   "cell_type": "code",
   "execution_count": 77,
   "metadata": {},
   "outputs": [],
   "source": [
    "import pandas as pd\n",
    "\n",
    "tables = pd.read_html(\"https://www.w3schools.com/python/python_operators.asp\")"
   ]
  },
  {
   "cell_type": "markdown",
   "metadata": {},
   "source": [
    "\n",
    "# Python divides the operators in the following groups:\n",
    "\n",
    "1. Arithmetic operators\n",
    "1. Assignment operators\n",
    "1. Comparison operators\n",
    "1. Logical operators\n",
    "1. Identity operators\n",
    "1. Membership operators\n",
    "1. Bitwise operators\n",
    "\n"
   ]
  },
  {
   "cell_type": "markdown",
   "metadata": {},
   "source": [
    "# Arithmetic Operators"
   ]
  },
  {
   "cell_type": "code",
   "execution_count": 15,
   "metadata": {},
   "outputs": [
    {
     "data": {
      "text/html": [
       "<div>\n",
       "<style scoped>\n",
       "    .dataframe tbody tr th:only-of-type {\n",
       "        vertical-align: middle;\n",
       "    }\n",
       "\n",
       "    .dataframe tbody tr th {\n",
       "        vertical-align: top;\n",
       "    }\n",
       "\n",
       "    .dataframe thead th {\n",
       "        text-align: right;\n",
       "    }\n",
       "</style>\n",
       "<table border=\"1\" class=\"dataframe\">\n",
       "  <thead>\n",
       "    <tr style=\"text-align: right;\">\n",
       "      <th></th>\n",
       "      <th>Operator</th>\n",
       "      <th>Name</th>\n",
       "      <th>Example</th>\n",
       "      <th>Try it</th>\n",
       "    </tr>\n",
       "  </thead>\n",
       "  <tbody>\n",
       "    <tr>\n",
       "      <th>0</th>\n",
       "      <td>+</td>\n",
       "      <td>Addition</td>\n",
       "      <td>x + y</td>\n",
       "      <td>Try it »</td>\n",
       "    </tr>\n",
       "    <tr>\n",
       "      <th>1</th>\n",
       "      <td>-</td>\n",
       "      <td>Subtraction</td>\n",
       "      <td>x - y</td>\n",
       "      <td>Try it »</td>\n",
       "    </tr>\n",
       "    <tr>\n",
       "      <th>2</th>\n",
       "      <td>*</td>\n",
       "      <td>Multiplication</td>\n",
       "      <td>x * y</td>\n",
       "      <td>Try it »</td>\n",
       "    </tr>\n",
       "    <tr>\n",
       "      <th>3</th>\n",
       "      <td>/</td>\n",
       "      <td>Division</td>\n",
       "      <td>x / y</td>\n",
       "      <td>Try it »</td>\n",
       "    </tr>\n",
       "    <tr>\n",
       "      <th>4</th>\n",
       "      <td>%</td>\n",
       "      <td>Modulus</td>\n",
       "      <td>x % y</td>\n",
       "      <td>Try it »</td>\n",
       "    </tr>\n",
       "    <tr>\n",
       "      <th>5</th>\n",
       "      <td>**</td>\n",
       "      <td>Exponentiation</td>\n",
       "      <td>x ** y</td>\n",
       "      <td>Try it »</td>\n",
       "    </tr>\n",
       "    <tr>\n",
       "      <th>6</th>\n",
       "      <td>//</td>\n",
       "      <td>Floor division</td>\n",
       "      <td>x // y</td>\n",
       "      <td>Try it »</td>\n",
       "    </tr>\n",
       "  </tbody>\n",
       "</table>\n",
       "</div>"
      ],
      "text/plain": [
       "  Operator            Name Example    Try it\n",
       "0        +        Addition   x + y  Try it »\n",
       "1        -     Subtraction   x - y  Try it »\n",
       "2        *  Multiplication   x * y  Try it »\n",
       "3        /        Division   x / y  Try it »\n",
       "4        %         Modulus   x % y  Try it »\n",
       "5       **  Exponentiation  x ** y  Try it »\n",
       "6       //  Floor division  x // y  Try it »"
      ]
     },
     "execution_count": 15,
     "metadata": {},
     "output_type": "execute_result"
    }
   ],
   "source": [
    "tables[0]"
   ]
  },
  {
   "cell_type": "code",
   "execution_count": 67,
   "metadata": {},
   "outputs": [],
   "source": [
    "num1 : int = 5\n",
    "num2 : int = 8"
   ]
  },
  {
   "cell_type": "markdown",
   "metadata": {},
   "source": [
    "- Addition"
   ]
  },
  {
   "cell_type": "code",
   "execution_count": 68,
   "metadata": {},
   "outputs": [
    {
     "name": "stdout",
     "output_type": "stream",
     "text": [
      "5 + 8 = 13\n"
     ]
    }
   ],
   "source": [
    "addition : int = num1 + num2 \n",
    "\n",
    "print(f\"5 + 8 = {addition}\") # 13"
   ]
  },
  {
   "cell_type": "markdown",
   "metadata": {},
   "source": [
    "- Subtraction"
   ]
  },
  {
   "cell_type": "code",
   "execution_count": 69,
   "metadata": {},
   "outputs": [
    {
     "name": "stdout",
     "output_type": "stream",
     "text": [
      "5 - 8 = -3\n"
     ]
    }
   ],
   "source": [
    "subtraction : int = num1 - num2\n",
    "\n",
    "print(f\"5 - 8 = {subtraction}\") # -3"
   ]
  },
  {
   "cell_type": "markdown",
   "metadata": {},
   "source": [
    "- Multiplication"
   ]
  },
  {
   "cell_type": "code",
   "execution_count": 70,
   "metadata": {},
   "outputs": [
    {
     "name": "stdout",
     "output_type": "stream",
     "text": [
      "5 * 8 = 40\n"
     ]
    }
   ],
   "source": [
    "multiplication : int = num1 * num2\n",
    "\n",
    "print(f\"5 * 8 = {multiplication}\") # 40"
   ]
  },
  {
   "cell_type": "markdown",
   "metadata": {},
   "source": [
    "- Division"
   ]
  },
  {
   "cell_type": "code",
   "execution_count": 71,
   "metadata": {},
   "outputs": [
    {
     "name": "stdout",
     "output_type": "stream",
     "text": [
      "5 / 8 = 0.625\n"
     ]
    }
   ],
   "source": [
    "division : float = num1 / num2\n",
    "\n",
    "print(f\"5 / 8 = {division}\") # 0.625"
   ]
  },
  {
   "cell_type": "markdown",
   "metadata": {},
   "source": [
    "- Modulus (return the remainder of the division)"
   ]
  },
  {
   "cell_type": "code",
   "execution_count": 72,
   "metadata": {},
   "outputs": [
    {
     "name": "stdout",
     "output_type": "stream",
     "text": [
      "5 % 8 = 5\n"
     ]
    }
   ],
   "source": [
    "modulus : int = num1 % num2\n",
    "\n",
    "print(f\"5 % 8 = {modulus}\")"
   ]
  },
  {
   "cell_type": "markdown",
   "metadata": {},
   "source": [
    "- Exponentiation"
   ]
  },
  {
   "cell_type": "code",
   "execution_count": 73,
   "metadata": {},
   "outputs": [
    {
     "name": "stdout",
     "output_type": "stream",
     "text": [
      "5 * 5 * 5 * 5 * 5 * 5 * 5 * 5 = 390625\n"
     ]
    }
   ],
   "source": [
    "exponent : int = num1 ** num2\n",
    "\n",
    "print(f\"5 * 5 * 5 * 5 * 5 * 5 * 5 * 5 = {exponent}\")\n",
    "#       1   2   3   4   5   6   7   8"
   ]
  },
  {
   "cell_type": "markdown",
   "metadata": {},
   "source": [
    "- Floor division (will round the float to its nearest small whole number)"
   ]
  },
  {
   "cell_type": "code",
   "execution_count": 75,
   "metadata": {},
   "outputs": [
    {
     "name": "stdout",
     "output_type": "stream",
     "text": [
      "14.8 // 3 = 4.0\n"
     ]
    }
   ],
   "source": [
    "num1 : int = 14.8\n",
    "num2 : int = 3\n",
    "\n",
    "floor_division_ : float = num1 // num2\n",
    "\n",
    "print(f\"14.8 // 3 = {floor_division_}\")"
   ]
  },
  {
   "cell_type": "markdown",
   "metadata": {},
   "source": [
    "# Assignment Operators"
   ]
  },
  {
   "cell_type": "code",
   "execution_count": 78,
   "metadata": {},
   "outputs": [
    {
     "data": {
      "text/html": [
       "<div>\n",
       "<style scoped>\n",
       "    .dataframe tbody tr th:only-of-type {\n",
       "        vertical-align: middle;\n",
       "    }\n",
       "\n",
       "    .dataframe tbody tr th {\n",
       "        vertical-align: top;\n",
       "    }\n",
       "\n",
       "    .dataframe thead th {\n",
       "        text-align: right;\n",
       "    }\n",
       "</style>\n",
       "<table border=\"1\" class=\"dataframe\">\n",
       "  <thead>\n",
       "    <tr style=\"text-align: right;\">\n",
       "      <th></th>\n",
       "      <th>Operator</th>\n",
       "      <th>Example</th>\n",
       "      <th>Same As</th>\n",
       "      <th>Try it</th>\n",
       "    </tr>\n",
       "  </thead>\n",
       "  <tbody>\n",
       "    <tr>\n",
       "      <th>0</th>\n",
       "      <td>=</td>\n",
       "      <td>x = 5</td>\n",
       "      <td>x = 5</td>\n",
       "      <td>Try it »</td>\n",
       "    </tr>\n",
       "    <tr>\n",
       "      <th>1</th>\n",
       "      <td>+=</td>\n",
       "      <td>x += 3</td>\n",
       "      <td>x = x + 3</td>\n",
       "      <td>Try it »</td>\n",
       "    </tr>\n",
       "    <tr>\n",
       "      <th>2</th>\n",
       "      <td>-=</td>\n",
       "      <td>x -= 3</td>\n",
       "      <td>x = x - 3</td>\n",
       "      <td>Try it »</td>\n",
       "    </tr>\n",
       "    <tr>\n",
       "      <th>3</th>\n",
       "      <td>*=</td>\n",
       "      <td>x *= 3</td>\n",
       "      <td>x = x * 3</td>\n",
       "      <td>Try it »</td>\n",
       "    </tr>\n",
       "    <tr>\n",
       "      <th>4</th>\n",
       "      <td>/=</td>\n",
       "      <td>x /= 3</td>\n",
       "      <td>x = x / 3</td>\n",
       "      <td>Try it »</td>\n",
       "    </tr>\n",
       "    <tr>\n",
       "      <th>5</th>\n",
       "      <td>%=</td>\n",
       "      <td>x %= 3</td>\n",
       "      <td>x = x % 3</td>\n",
       "      <td>Try it »</td>\n",
       "    </tr>\n",
       "    <tr>\n",
       "      <th>6</th>\n",
       "      <td>//=</td>\n",
       "      <td>x //= 3</td>\n",
       "      <td>x = x // 3</td>\n",
       "      <td>Try it »</td>\n",
       "    </tr>\n",
       "    <tr>\n",
       "      <th>7</th>\n",
       "      <td>**=</td>\n",
       "      <td>x **= 3</td>\n",
       "      <td>x = x ** 3</td>\n",
       "      <td>Try it »</td>\n",
       "    </tr>\n",
       "    <tr>\n",
       "      <th>8</th>\n",
       "      <td>&amp;=</td>\n",
       "      <td>x &amp;= 3</td>\n",
       "      <td>x = x &amp; 3</td>\n",
       "      <td>Try it »</td>\n",
       "    </tr>\n",
       "    <tr>\n",
       "      <th>9</th>\n",
       "      <td>|=</td>\n",
       "      <td>x |= 3</td>\n",
       "      <td>x = x | 3</td>\n",
       "      <td>Try it »</td>\n",
       "    </tr>\n",
       "    <tr>\n",
       "      <th>10</th>\n",
       "      <td>^=</td>\n",
       "      <td>x ^= 3</td>\n",
       "      <td>x = x ^ 3</td>\n",
       "      <td>Try it »</td>\n",
       "    </tr>\n",
       "    <tr>\n",
       "      <th>11</th>\n",
       "      <td>&gt;&gt;=</td>\n",
       "      <td>x &gt;&gt;= 3</td>\n",
       "      <td>x = x &gt;&gt; 3</td>\n",
       "      <td>Try it »</td>\n",
       "    </tr>\n",
       "    <tr>\n",
       "      <th>12</th>\n",
       "      <td>&lt;&lt;=</td>\n",
       "      <td>x &lt;&lt;= 3</td>\n",
       "      <td>x = x &lt;&lt; 3</td>\n",
       "      <td>Try it »</td>\n",
       "    </tr>\n",
       "  </tbody>\n",
       "</table>\n",
       "</div>"
      ],
      "text/plain": [
       "   Operator  Example     Same As    Try it\n",
       "0         =    x = 5       x = 5  Try it »\n",
       "1        +=   x += 3   x = x + 3  Try it »\n",
       "2        -=   x -= 3   x = x - 3  Try it »\n",
       "3        *=   x *= 3   x = x * 3  Try it »\n",
       "4        /=   x /= 3   x = x / 3  Try it »\n",
       "5        %=   x %= 3   x = x % 3  Try it »\n",
       "6       //=  x //= 3  x = x // 3  Try it »\n",
       "7       **=  x **= 3  x = x ** 3  Try it »\n",
       "8        &=   x &= 3   x = x & 3  Try it »\n",
       "9        |=   x |= 3   x = x | 3  Try it »\n",
       "10       ^=   x ^= 3   x = x ^ 3  Try it »\n",
       "11      >>=  x >>= 3  x = x >> 3  Try it »\n",
       "12      <<=  x <<= 3  x = x << 3  Try it »"
      ]
     },
     "execution_count": 78,
     "metadata": {},
     "output_type": "execute_result"
    }
   ],
   "source": [
    "tables[1]"
   ]
  },
  {
   "cell_type": "markdown",
   "metadata": {},
   "source": [
    "- ="
   ]
  },
  {
   "cell_type": "code",
   "execution_count": 83,
   "metadata": {},
   "outputs": [
    {
     "name": "stdout",
     "output_type": "stream",
     "text": [
      "2 4\n"
     ]
    }
   ],
   "source": [
    "a : int = 2\n",
    "b : int = 4\n",
    "\n",
    "print(a, b )"
   ]
  },
  {
   "cell_type": "markdown",
   "metadata": {},
   "source": [
    "- +="
   ]
  },
  {
   "cell_type": "code",
   "execution_count": 101,
   "metadata": {},
   "outputs": [
    {
     "name": "stdout",
     "output_type": "stream",
     "text": [
      "number = number + 3 => 15\n"
     ]
    }
   ],
   "source": [
    "number : int = 12\n",
    "\n",
    "number += 3\n",
    "\n",
    "#                12↴\n",
    "print(f\"number = number + 3 => {number}\")"
   ]
  },
  {
   "cell_type": "markdown",
   "metadata": {},
   "source": [
    "- -="
   ]
  },
  {
   "cell_type": "code",
   "execution_count": 88,
   "metadata": {},
   "outputs": [
    {
     "name": "stdout",
     "output_type": "stream",
     "text": [
      "number = number - 3 => 9\n"
     ]
    }
   ],
   "source": [
    "number : int = 12\n",
    "\n",
    "number -= 3\n",
    "\n",
    "#                12↴\n",
    "print(f\"number = number - 3 => {number}\")"
   ]
  },
  {
   "cell_type": "markdown",
   "metadata": {},
   "source": [
    "- *="
   ]
  },
  {
   "cell_type": "code",
   "execution_count": 89,
   "metadata": {},
   "outputs": [
    {
     "name": "stdout",
     "output_type": "stream",
     "text": [
      "number = number * 3 => 36\n"
     ]
    }
   ],
   "source": [
    "number : int = 12\n",
    "\n",
    "number *= 3\n",
    "\n",
    "print(f\"number = number * 3 => {number}\")"
   ]
  },
  {
   "cell_type": "markdown",
   "metadata": {},
   "source": [
    "- /="
   ]
  },
  {
   "cell_type": "code",
   "execution_count": 99,
   "metadata": {},
   "outputs": [
    {
     "name": "stdout",
     "output_type": "stream",
     "text": [
      "12 = 12 / 3 => 4.0\n"
     ]
    }
   ],
   "source": [
    "number : float = 12\n",
    "\n",
    "number /= 3\n",
    "\n",
    "#                12↴\n",
    "print(f\"number = number / 3 => {number}\")"
   ]
  },
  {
   "cell_type": "markdown",
   "metadata": {},
   "source": [
    "- %="
   ]
  },
  {
   "cell_type": "code",
   "execution_count": 100,
   "metadata": {},
   "outputs": [
    {
     "name": "stdout",
     "output_type": "stream",
     "text": [
      "number = 12 % 3 => 0\n"
     ]
    }
   ],
   "source": [
    "number : int = 12\n",
    "\n",
    "number %= 3\n",
    "\n",
    "#                12↴\n",
    "print(f\"number = number % 3 => {number}\")"
   ]
  },
  {
   "cell_type": "markdown",
   "metadata": {},
   "source": [
    "- **="
   ]
  },
  {
   "cell_type": "code",
   "execution_count": 102,
   "metadata": {},
   "outputs": [
    {
     "name": "stdout",
     "output_type": "stream",
     "text": [
      "number = number ** 3 => 1728\n"
     ]
    }
   ],
   "source": [
    "number : int = 12\n",
    "\n",
    "number **= 3\n",
    "\n",
    "#                12↴\n",
    "print(f\"number = number ** 3 => {number}\")"
   ]
  },
  {
   "cell_type": "markdown",
   "metadata": {},
   "source": [
    "- //="
   ]
  },
  {
   "cell_type": "code",
   "execution_count": 104,
   "metadata": {},
   "outputs": [
    {
     "name": "stdout",
     "output_type": "stream",
     "text": [
      "number = number // 5 => 2.0\n"
     ]
    }
   ],
   "source": [
    "number : int = 12.6\n",
    "\n",
    "number //= 5\n",
    "\n",
    "#              12.6↴\n",
    "print(f\"number = number // 5 => {number}\")"
   ]
  },
  {
   "cell_type": "markdown",
   "metadata": {},
   "source": [
    "# Comparision Operators"
   ]
  },
  {
   "cell_type": "code",
   "execution_count": 105,
   "metadata": {},
   "outputs": [
    {
     "data": {
      "text/html": [
       "<div>\n",
       "<style scoped>\n",
       "    .dataframe tbody tr th:only-of-type {\n",
       "        vertical-align: middle;\n",
       "    }\n",
       "\n",
       "    .dataframe tbody tr th {\n",
       "        vertical-align: top;\n",
       "    }\n",
       "\n",
       "    .dataframe thead th {\n",
       "        text-align: right;\n",
       "    }\n",
       "</style>\n",
       "<table border=\"1\" class=\"dataframe\">\n",
       "  <thead>\n",
       "    <tr style=\"text-align: right;\">\n",
       "      <th></th>\n",
       "      <th>Operator</th>\n",
       "      <th>Name</th>\n",
       "      <th>Example</th>\n",
       "      <th>Try it</th>\n",
       "    </tr>\n",
       "  </thead>\n",
       "  <tbody>\n",
       "    <tr>\n",
       "      <th>0</th>\n",
       "      <td>==</td>\n",
       "      <td>Equal</td>\n",
       "      <td>x == y</td>\n",
       "      <td>Try it »</td>\n",
       "    </tr>\n",
       "    <tr>\n",
       "      <th>1</th>\n",
       "      <td>!=</td>\n",
       "      <td>Not equal</td>\n",
       "      <td>x != y</td>\n",
       "      <td>Try it »</td>\n",
       "    </tr>\n",
       "    <tr>\n",
       "      <th>2</th>\n",
       "      <td>&gt;</td>\n",
       "      <td>Greater than</td>\n",
       "      <td>x &gt; y</td>\n",
       "      <td>Try it »</td>\n",
       "    </tr>\n",
       "    <tr>\n",
       "      <th>3</th>\n",
       "      <td>&lt;</td>\n",
       "      <td>Less than</td>\n",
       "      <td>x &lt; y</td>\n",
       "      <td>Try it »</td>\n",
       "    </tr>\n",
       "    <tr>\n",
       "      <th>4</th>\n",
       "      <td>&gt;=</td>\n",
       "      <td>Greater than or equal to</td>\n",
       "      <td>x &gt;= y</td>\n",
       "      <td>Try it »</td>\n",
       "    </tr>\n",
       "    <tr>\n",
       "      <th>5</th>\n",
       "      <td>&lt;=</td>\n",
       "      <td>Less than or equal to</td>\n",
       "      <td>x &lt;= y</td>\n",
       "      <td>Try it »</td>\n",
       "    </tr>\n",
       "  </tbody>\n",
       "</table>\n",
       "</div>"
      ],
      "text/plain": [
       "  Operator                      Name Example    Try it\n",
       "0       ==                     Equal  x == y  Try it »\n",
       "1       !=                 Not equal  x != y  Try it »\n",
       "2        >              Greater than   x > y  Try it »\n",
       "3        <                 Less than   x < y  Try it »\n",
       "4       >=  Greater than or equal to  x >= y  Try it »\n",
       "5       <=     Less than or equal to  x <= y  Try it »"
      ]
     },
     "execution_count": 105,
     "metadata": {},
     "output_type": "execute_result"
    }
   ],
   "source": [
    "tables[2]"
   ]
  },
  {
   "cell_type": "markdown",
   "metadata": {},
   "source": [
    "- =="
   ]
  },
  {
   "cell_type": "code",
   "execution_count": 106,
   "metadata": {},
   "outputs": [
    {
     "name": "stdout",
     "output_type": "stream",
     "text": [
      "False\n"
     ]
    }
   ],
   "source": [
    "a : int = 7\n",
    "b : int = 10\n",
    "\n",
    "print( a == b )\n",
    "# a == b\n",
    "# 7 == 10\n",
    "# False"
   ]
  },
  {
   "cell_type": "code",
   "execution_count": 107,
   "metadata": {},
   "outputs": [
    {
     "name": "stdout",
     "output_type": "stream",
     "text": [
      "True\n"
     ]
    }
   ],
   "source": [
    "a : int = 7\n",
    "b : int = 7\n",
    "\n",
    "print( a == b )\n",
    "# a == b\n",
    "# 7 == 7\n",
    "# True"
   ]
  },
  {
   "cell_type": "code",
   "execution_count": 109,
   "metadata": {},
   "outputs": [
    {
     "name": "stdout",
     "output_type": "stream",
     "text": [
      "False\n"
     ]
    }
   ],
   "source": [
    "a : int = 7\n",
    "b : str = '7'\n",
    "\n",
    "print(a == b)\n",
    "# a == b\n",
    "# 7 == '7'\n",
    "# False"
   ]
  },
  {
   "cell_type": "markdown",
   "metadata": {},
   "source": [
    "- !="
   ]
  },
  {
   "cell_type": "code",
   "execution_count": 111,
   "metadata": {},
   "outputs": [
    {
     "name": "stdout",
     "output_type": "stream",
     "text": [
      "False\n"
     ]
    }
   ],
   "source": [
    "a : int = 7\n",
    "b : int = 7\n",
    "\n",
    "print( a != b )\n",
    "# a != b\n",
    "# 7 != 7\n",
    "# False"
   ]
  },
  {
   "cell_type": "markdown",
   "metadata": {},
   "source": [
    "- \\>"
   ]
  },
  {
   "cell_type": "code",
   "execution_count": 112,
   "metadata": {},
   "outputs": [
    {
     "name": "stdout",
     "output_type": "stream",
     "text": [
      "False\n"
     ]
    }
   ],
   "source": [
    "a : int = 7\n",
    "b : int = 8\n",
    "\n",
    "print(a > b)\n",
    "# a > b\n",
    "# 7 > 8\n",
    "# False"
   ]
  },
  {
   "cell_type": "code",
   "execution_count": 113,
   "metadata": {},
   "outputs": [
    {
     "name": "stdout",
     "output_type": "stream",
     "text": [
      "False\n"
     ]
    }
   ],
   "source": [
    "a : int = 7\n",
    "b : int = 7\n",
    "\n",
    "print(a > b)\n",
    "# a > b\n",
    "# 7 > 7\n",
    "# False"
   ]
  },
  {
   "cell_type": "code",
   "execution_count": 115,
   "metadata": {},
   "outputs": [
    {
     "name": "stdout",
     "output_type": "stream",
     "text": [
      "True\n"
     ]
    }
   ],
   "source": [
    "a : int = 10\n",
    "b : int = 8\n",
    "\n",
    "print(a > b)\n",
    "# a > b\n",
    "# 10 > 8\n",
    "# True"
   ]
  },
  {
   "cell_type": "markdown",
   "metadata": {},
   "source": [
    "- <"
   ]
  },
  {
   "cell_type": "code",
   "execution_count": 116,
   "metadata": {},
   "outputs": [
    {
     "name": "stdout",
     "output_type": "stream",
     "text": [
      "False\n"
     ]
    }
   ],
   "source": [
    "a : int = 10\n",
    "b : int = 8\n",
    "\n",
    "print(a < b)\n",
    "# a < b\n",
    "# 10 < 8\n",
    "# False"
   ]
  },
  {
   "cell_type": "markdown",
   "metadata": {},
   "source": [
    "- \\>="
   ]
  },
  {
   "cell_type": "code",
   "execution_count": 118,
   "metadata": {},
   "outputs": [
    {
     "name": "stdout",
     "output_type": "stream",
     "text": [
      "False\n"
     ]
    }
   ],
   "source": [
    "a : int = 2\n",
    "b : int = 7\n",
    "\n",
    "print(a >= b)\n",
    "# a >= b\n",
    "# 2 >= 7\n",
    "# False"
   ]
  },
  {
   "cell_type": "code",
   "execution_count": 119,
   "metadata": {},
   "outputs": [
    {
     "name": "stdout",
     "output_type": "stream",
     "text": [
      "True\n"
     ]
    }
   ],
   "source": [
    "a : int = 7\n",
    "b : int = 7\n",
    "\n",
    "print(a >= b)\n",
    "# a >= b\n",
    "# 7 >= 7\n",
    "# True"
   ]
  },
  {
   "cell_type": "code",
   "execution_count": 124,
   "metadata": {},
   "outputs": [
    {
     "ename": "SyntaxError",
     "evalue": "invalid syntax (862556376.py, line 5)",
     "output_type": "error",
     "traceback": [
      "\u001b[1;36m  Cell \u001b[1;32mIn[124], line 5\u001b[1;36m\u001b[0m\n\u001b[1;33m    print(a => b)\u001b[0m\n\u001b[1;37m             ^\u001b[0m\n\u001b[1;31mSyntaxError\u001b[0m\u001b[1;31m:\u001b[0m invalid syntax\n"
     ]
    }
   ],
   "source": [
    "a : int = 7\n",
    "b : int = 7\n",
    "\n",
    "#        ⬐invalid syntax\n",
    "print(a => b) "
   ]
  },
  {
   "cell_type": "markdown",
   "metadata": {},
   "source": [
    "- <="
   ]
  },
  {
   "cell_type": "code",
   "execution_count": 121,
   "metadata": {},
   "outputs": [
    {
     "name": "stdout",
     "output_type": "stream",
     "text": [
      "True\n"
     ]
    }
   ],
   "source": [
    "a : int = 7\n",
    "b : int = 7\n",
    "\n",
    "print(a <= b)\n",
    "# a <= b\n",
    "# 7 <= 7\n",
    "# True"
   ]
  },
  {
   "cell_type": "markdown",
   "metadata": {},
   "source": [
    "# ASCII CODE\n",
    "\n",
    "A = 65,\n",
    "B = 66, ..... , \n",
    "Z = 90.\n",
    "\n",
    "a = 97,\n",
    "b = 98, ..... ,\n",
    "z = 122.\n",
    "\n",
    "0 = 48,\n",
    "1 = 49, ..... ,\n",
    "9 = 57.\n",
    "\n"
   ]
  },
  {
   "cell_type": "markdown",
   "metadata": {},
   "source": [
    "# ord('A') => it returns the ASCII code of that character"
   ]
  },
  {
   "cell_type": "code",
   "execution_count": 130,
   "metadata": {},
   "outputs": [
    {
     "name": "stdout",
     "output_type": "stream",
     "text": [
      "ASCII Character of 'A' => 65\n",
      "ASCII Character of '*' => 42\n",
      "ASCII Character of '2' => 50\n",
      "ASCII Character of '⬐' => 11024\n"
     ]
    }
   ],
   "source": [
    "print(f\"ASCII Character of 'A' => {ord('A')}\")\n",
    "print(f\"ASCII Character of '*' => {ord('*')}\")\n",
    "print(f\"ASCII Character of '2' => {ord('2')}\")\n",
    "print(f\"ASCII Character of '⬐' => {ord('⬐')}\")"
   ]
  },
  {
   "cell_type": "markdown",
   "metadata": {},
   "source": [
    "# chr(65) => it returns the character of that ASCII CODE"
   ]
  },
  {
   "cell_type": "code",
   "execution_count": 131,
   "metadata": {},
   "outputs": [
    {
     "name": "stdout",
     "output_type": "stream",
     "text": [
      "Character for ASCII Code of 65 => A\n",
      "Character for ASCII Code of 42 => *\n",
      "Character for ASCII Code of 50 => 2\n",
      "Character for ASCII Code of 11024 => ⬐\n"
     ]
    }
   ],
   "source": [
    "print(f\"Character for ASCII Code of 65 => {chr(65)}\")\n",
    "print(f\"Character for ASCII Code of 42 => {chr(42)}\")\n",
    "print(f\"Character for ASCII Code of 50 => {chr(50)}\")\n",
    "print(f\"Character for ASCII Code of 11024 => {chr(11024)}\")"
   ]
  },
  {
   "cell_type": "markdown",
   "metadata": {},
   "source": [
    "# Convert the character into ASCII and then compare"
   ]
  },
  {
   "cell_type": "code",
   "execution_count": 132,
   "metadata": {},
   "outputs": [
    {
     "name": "stdout",
     "output_type": "stream",
     "text": [
      "True\n"
     ]
    }
   ],
   "source": [
    "a : str = 'A'\n",
    "b : str = 'B'\n",
    "\n",
    "print(b >= a)\n",
    "# b >= a\n",
    "# 'B' >= 'A'\n",
    "# 66 >= 65"
   ]
  },
  {
   "cell_type": "code",
   "execution_count": 133,
   "metadata": {},
   "outputs": [
    {
     "name": "stdout",
     "output_type": "stream",
     "text": [
      "True\n"
     ]
    }
   ],
   "source": [
    "\n",
    "\n",
    "a : str = 'A'\n",
    "b : str = 'a' \n",
    "\n",
    "print(b >= a)\n",
    "# b >= a\n",
    "# 'a' >= 'A'\n",
    "# 97 >= 65"
   ]
  },
  {
   "cell_type": "markdown",
   "metadata": {},
   "source": [
    "# Logical Operators"
   ]
  },
  {
   "cell_type": "code",
   "execution_count": 135,
   "metadata": {},
   "outputs": [
    {
     "data": {
      "text/html": [
       "<div>\n",
       "<style scoped>\n",
       "    .dataframe tbody tr th:only-of-type {\n",
       "        vertical-align: middle;\n",
       "    }\n",
       "\n",
       "    .dataframe tbody tr th {\n",
       "        vertical-align: top;\n",
       "    }\n",
       "\n",
       "    .dataframe thead th {\n",
       "        text-align: right;\n",
       "    }\n",
       "</style>\n",
       "<table border=\"1\" class=\"dataframe\">\n",
       "  <thead>\n",
       "    <tr style=\"text-align: right;\">\n",
       "      <th></th>\n",
       "      <th>Operator</th>\n",
       "      <th>Description</th>\n",
       "      <th>Example</th>\n",
       "      <th>Try it</th>\n",
       "    </tr>\n",
       "  </thead>\n",
       "  <tbody>\n",
       "    <tr>\n",
       "      <th>0</th>\n",
       "      <td>and</td>\n",
       "      <td>Returns True if both statements are true</td>\n",
       "      <td>x &lt; 5 and x &lt; 10</td>\n",
       "      <td>Try it »</td>\n",
       "    </tr>\n",
       "    <tr>\n",
       "      <th>1</th>\n",
       "      <td>or</td>\n",
       "      <td>Returns True if one of the statements is true</td>\n",
       "      <td>x &lt; 5 or x &lt; 4</td>\n",
       "      <td>Try it »</td>\n",
       "    </tr>\n",
       "    <tr>\n",
       "      <th>2</th>\n",
       "      <td>not</td>\n",
       "      <td>Reverse the result, returns False if the resul...</td>\n",
       "      <td>not(x &lt; 5 and x &lt; 10)</td>\n",
       "      <td>Try it »</td>\n",
       "    </tr>\n",
       "  </tbody>\n",
       "</table>\n",
       "</div>"
      ],
      "text/plain": [
       "  Operator                                        Description  \\\n",
       "0      and           Returns True if both statements are true   \n",
       "1       or      Returns True if one of the statements is true   \n",
       "2      not  Reverse the result, returns False if the resul...   \n",
       "\n",
       "                 Example    Try it  \n",
       "0       x < 5 and x < 10  Try it »  \n",
       "1         x < 5 or x < 4  Try it »  \n",
       "2  not(x < 5 and x < 10)  Try it »  "
      ]
     },
     "execution_count": 135,
     "metadata": {},
     "output_type": "execute_result"
    }
   ],
   "source": [
    "tables[3]"
   ]
  },
  {
   "cell_type": "markdown",
   "metadata": {},
   "source": [
    "- and (لازمی) => (all conditions must be TRUE, in order to retrun TRUE )"
   ]
  },
  {
   "cell_type": "code",
   "execution_count": 137,
   "metadata": {},
   "outputs": [
    {
     "data": {
      "text/plain": [
       "True"
      ]
     },
     "execution_count": 137,
     "metadata": {},
     "output_type": "execute_result"
    }
   ],
   "source": [
    "#1        2        3        4\n",
    "True and True and True and True  "
   ]
  },
  {
   "cell_type": "code",
   "execution_count": 138,
   "metadata": {},
   "outputs": [
    {
     "name": "stdout",
     "output_type": "stream",
     "text": [
      "True\n",
      "False\n",
      "False\n"
     ]
    }
   ],
   "source": [
    "#       1        2        3        4\n",
    "print(True and True and True and True)\n",
    "print(True and True and False and True)\n",
    "print(False and False and False and True)"
   ]
  },
  {
   "cell_type": "markdown",
   "metadata": {},
   "source": [
    "- or (optional) => (any one condition must be TRUE, in order to retrun TRUE )"
   ]
  },
  {
   "cell_type": "code",
   "execution_count": 139,
   "metadata": {},
   "outputs": [
    {
     "name": "stdout",
     "output_type": "stream",
     "text": [
      "True\n",
      "True\n",
      "True\n",
      "False\n"
     ]
    }
   ],
   "source": [
    "#       1       2       3      4\n",
    "print(True or True or True or True)\n",
    "print(True or True or False or True)\n",
    "print(False or False or False or True)\n",
    "print(False or False or False or False)"
   ]
  },
  {
   "cell_type": "markdown",
   "metadata": {},
   "source": [
    "- not (invert) => (if it's TRUE, return FALSE or if it's FALSE, return TRUE)"
   ]
  },
  {
   "cell_type": "code",
   "execution_count": 140,
   "metadata": {},
   "outputs": [
    {
     "data": {
      "text/plain": [
       "False"
      ]
     },
     "execution_count": 140,
     "metadata": {},
     "output_type": "execute_result"
    }
   ],
   "source": [
    "not True"
   ]
  },
  {
   "cell_type": "code",
   "execution_count": 142,
   "metadata": {},
   "outputs": [
    {
     "name": "stdout",
     "output_type": "stream",
     "text": [
      "False\n"
     ]
    }
   ],
   "source": [
    "name : str = \"Qasim\"\n",
    "print(not name == \"Qasim\")\n",
    "# not name == \"Qasim\"\n",
    "# not \"Qasim\" == \"Qasim\"\n",
    "# not True\n",
    "# False"
   ]
  },
  {
   "cell_type": "code",
   "execution_count": 143,
   "metadata": {},
   "outputs": [
    {
     "name": "stdout",
     "output_type": "stream",
     "text": [
      "False\n"
     ]
    }
   ],
   "source": [
    "name : str = \"Qasim\"\n",
    "print(name != \"Qasim\")\n",
    "# name != \"Qasim\"\n",
    "# \"Qasim\" != \"Qasim\"\n",
    "# False"
   ]
  },
  {
   "cell_type": "markdown",
   "metadata": {},
   "source": [
    "# Identity Operators"
   ]
  },
  {
   "cell_type": "code",
   "execution_count": 144,
   "metadata": {},
   "outputs": [
    {
     "data": {
      "text/html": [
       "<div>\n",
       "<style scoped>\n",
       "    .dataframe tbody tr th:only-of-type {\n",
       "        vertical-align: middle;\n",
       "    }\n",
       "\n",
       "    .dataframe tbody tr th {\n",
       "        vertical-align: top;\n",
       "    }\n",
       "\n",
       "    .dataframe thead th {\n",
       "        text-align: right;\n",
       "    }\n",
       "</style>\n",
       "<table border=\"1\" class=\"dataframe\">\n",
       "  <thead>\n",
       "    <tr style=\"text-align: right;\">\n",
       "      <th></th>\n",
       "      <th>Operator</th>\n",
       "      <th>Description</th>\n",
       "      <th>Example</th>\n",
       "      <th>Try it</th>\n",
       "    </tr>\n",
       "  </thead>\n",
       "  <tbody>\n",
       "    <tr>\n",
       "      <th>0</th>\n",
       "      <td>is</td>\n",
       "      <td>Returns True if both variables are the same ob...</td>\n",
       "      <td>x is y</td>\n",
       "      <td>Try it »</td>\n",
       "    </tr>\n",
       "    <tr>\n",
       "      <th>1</th>\n",
       "      <td>is not</td>\n",
       "      <td>Returns True if both variables are not the sam...</td>\n",
       "      <td>x is not y</td>\n",
       "      <td>Try it »</td>\n",
       "    </tr>\n",
       "  </tbody>\n",
       "</table>\n",
       "</div>"
      ],
      "text/plain": [
       "  Operator                                        Description     Example  \\\n",
       "0       is  Returns True if both variables are the same ob...      x is y   \n",
       "1   is not  Returns True if both variables are not the sam...  x is not y   \n",
       "\n",
       "     Try it  \n",
       "0  Try it »  \n",
       "1  Try it »  "
      ]
     },
     "execution_count": 144,
     "metadata": {},
     "output_type": "execute_result"
    }
   ],
   "source": [
    "tables[4]"
   ]
  },
  {
   "cell_type": "markdown",
   "metadata": {},
   "source": [
    "- is (Returns True if both variables are the same objects => shallow copy)"
   ]
  },
  {
   "cell_type": "code",
   "execution_count": 146,
   "metadata": {},
   "outputs": [
    {
     "name": "stdout",
     "output_type": "stream",
     "text": [
      "140730093736200\n",
      "140730093736200\n"
     ]
    },
    {
     "data": {
      "text/plain": [
       "True"
      ]
     },
     "execution_count": 146,
     "metadata": {},
     "output_type": "execute_result"
    }
   ],
   "source": [
    "x : str = 'abc'\n",
    "z : str = 'abc'\n",
    "\n",
    "print(id(x)) # physical address of character 'x' in memory\n",
    "print(id(z)) # physical address of character 'y' in memory\n",
    "\n",
    "x is z"
   ]
  },
  {
   "cell_type": "code",
   "execution_count": 147,
   "metadata": {},
   "outputs": [
    {
     "name": "stdout",
     "output_type": "stream",
     "text": [
      "140730093736200\n",
      "1945274554512\n"
     ]
    },
    {
     "data": {
      "text/plain": [
       "False"
      ]
     },
     "execution_count": 147,
     "metadata": {},
     "output_type": "execute_result"
    }
   ],
   "source": [
    "i : str = 'abc'\n",
    "j : str = 'xyz'\n",
    "\n",
    "print(id(i)) # physical address of character 'i' in memory\n",
    "print(id(j)) # physical address of character 'j' in memory\n",
    "\n",
    "i is j"
   ]
  },
  {
   "cell_type": "markdown",
   "metadata": {},
   "source": [
    "- is not (Returns True if both variables are not the same object)"
   ]
  },
  {
   "cell_type": "code",
   "execution_count": 149,
   "metadata": {},
   "outputs": [
    {
     "name": "stdout",
     "output_type": "stream",
     "text": [
      "140730093736200\n",
      "140730093736200\n"
     ]
    },
    {
     "data": {
      "text/plain": [
       "False"
      ]
     },
     "execution_count": 149,
     "metadata": {},
     "output_type": "execute_result"
    }
   ],
   "source": [
    "x : str = 'abc'\n",
    "z : str = 'abc'\n",
    "\n",
    "print(id(x)) # physical address of character 'x' in memory\n",
    "print(id(z)) # physical address of character 'y' in memory\n",
    "\n",
    "x is not z"
   ]
  },
  {
   "cell_type": "code",
   "execution_count": 150,
   "metadata": {},
   "outputs": [
    {
     "name": "stdout",
     "output_type": "stream",
     "text": [
      "140730093736200\n",
      "1945274554512\n"
     ]
    },
    {
     "data": {
      "text/plain": [
       "True"
      ]
     },
     "execution_count": 150,
     "metadata": {},
     "output_type": "execute_result"
    }
   ],
   "source": [
    "i : str = 'abc'\n",
    "j : str = 'xyz'\n",
    "\n",
    "print(id(i)) # physical address of character 'i' in memory\n",
    "print(id(j)) # physical address of character 'j' in memory\n",
    "\n",
    "i is not j"
   ]
  },
  {
   "cell_type": "markdown",
   "metadata": {},
   "source": [
    "# Membership Operators"
   ]
  },
  {
   "cell_type": "code",
   "execution_count": 151,
   "metadata": {},
   "outputs": [
    {
     "data": {
      "text/html": [
       "<div>\n",
       "<style scoped>\n",
       "    .dataframe tbody tr th:only-of-type {\n",
       "        vertical-align: middle;\n",
       "    }\n",
       "\n",
       "    .dataframe tbody tr th {\n",
       "        vertical-align: top;\n",
       "    }\n",
       "\n",
       "    .dataframe thead th {\n",
       "        text-align: right;\n",
       "    }\n",
       "</style>\n",
       "<table border=\"1\" class=\"dataframe\">\n",
       "  <thead>\n",
       "    <tr style=\"text-align: right;\">\n",
       "      <th></th>\n",
       "      <th>Operator</th>\n",
       "      <th>Description</th>\n",
       "      <th>Example</th>\n",
       "      <th>Try it</th>\n",
       "    </tr>\n",
       "  </thead>\n",
       "  <tbody>\n",
       "    <tr>\n",
       "      <th>0</th>\n",
       "      <td>in</td>\n",
       "      <td>Returns True if a sequence with the specified ...</td>\n",
       "      <td>x in y</td>\n",
       "      <td>Try it »</td>\n",
       "    </tr>\n",
       "    <tr>\n",
       "      <th>1</th>\n",
       "      <td>not in</td>\n",
       "      <td>Returns True if a sequence with the specified ...</td>\n",
       "      <td>x not in y</td>\n",
       "      <td>Try it »</td>\n",
       "    </tr>\n",
       "  </tbody>\n",
       "</table>\n",
       "</div>"
      ],
      "text/plain": [
       "  Operator                                        Description     Example  \\\n",
       "0       in  Returns True if a sequence with the specified ...      x in y   \n",
       "1   not in  Returns True if a sequence with the specified ...  x not in y   \n",
       "\n",
       "     Try it  \n",
       "0  Try it »  \n",
       "1  Try it »  "
      ]
     },
     "execution_count": 151,
     "metadata": {},
     "output_type": "execute_result"
    }
   ],
   "source": [
    "tables[5]"
   ]
  },
  {
   "cell_type": "markdown",
   "metadata": {},
   "source": [
    "- in (Returns True if a sequence with the specified value is present in the object.)"
   ]
  },
  {
   "cell_type": "code",
   "execution_count": 3,
   "metadata": {},
   "outputs": [
    {
     "name": "stdout",
     "output_type": "stream",
     "text": [
      "['A', 'B', 'C', 'D', 'E', 'F', 'G', 'H', 'I', 'J', 'K', 'L', 'M', 'N', 'O', 'P', 'Q', 'R', 'S', 'T', 'U', 'V', 'W', 'X', 'Y', 'Z']\n"
     ]
    },
    {
     "data": {
      "text/plain": [
       "True"
      ]
     },
     "execution_count": 3,
     "metadata": {},
     "output_type": "execute_result"
    }
   ],
   "source": [
    "names: list[str] = [chr(i) for i in range(65,91)] \n",
    "print(names)\n",
    "\"D\" in names"
   ]
  },
  {
   "cell_type": "code",
   "execution_count": 158,
   "metadata": {},
   "outputs": [
    {
     "name": "stdout",
     "output_type": "stream",
     "text": [
      "['A', 'B', 'C', 'D', 'E', 'F', 'G', 'H', 'I', 'J', 'K', 'L', 'M', 'N', 'O', 'P', 'Q', 'R', 'S', 'T', 'U', 'V', 'W', 'X', 'Y', 'Z']\n"
     ]
    },
    {
     "data": {
      "text/plain": [
       "False"
      ]
     },
     "execution_count": 158,
     "metadata": {},
     "output_type": "execute_result"
    }
   ],
   "source": [
    "names: list[str] = [chr(i) for i in range(65,91)]\n",
    "\n",
    "print(names)\n",
    "\"Pakistan\" in names"
   ]
  },
  {
   "cell_type": "code",
   "execution_count": 167,
   "metadata": {},
   "outputs": [
    {
     "name": "stdout",
     "output_type": "stream",
     "text": [
      "User List : ['ziyad', 'hammad', 'salman']\n",
      "User Name = ziyad\n",
      "Present in User List : True\n"
     ]
    }
   ],
   "source": [
    "names : list[str] = ['ziyad','hammad', 'salman']\n",
    "print(f\"User List : {names}\")\n",
    "\n",
    "uinput : str = input(\"Enter your name\")\n",
    "print(f\"User Name = {uinput}\")\n",
    "\n",
    "print(f\"Present in User List : {uinput in names}\")"
   ]
  },
  {
   "cell_type": "markdown",
   "metadata": {},
   "source": [
    "- not in (Returns True if a sequence with the specified value is not present in the object.)"
   ]
  },
  {
   "cell_type": "code",
   "execution_count": 160,
   "metadata": {},
   "outputs": [
    {
     "name": "stdout",
     "output_type": "stream",
     "text": [
      "['A', 'B', 'C', 'D', 'E', 'F', 'G', 'H', 'I', 'J', 'K', 'L', 'M', 'N', 'O', 'P', 'Q', 'R', 'S', 'T', 'U', 'V', 'W', 'X', 'Y', 'Z']\n"
     ]
    },
    {
     "data": {
      "text/plain": [
       "False"
      ]
     },
     "execution_count": 160,
     "metadata": {},
     "output_type": "execute_result"
    }
   ],
   "source": [
    "names: list[str] = [chr(i) for i in range(65,91)]\n",
    "\n",
    "print(names)\n",
    "\"D\" not in names"
   ]
  },
  {
   "cell_type": "code",
   "execution_count": 168,
   "metadata": {},
   "outputs": [
    {
     "name": "stdout",
     "output_type": "stream",
     "text": [
      "User List : ['ziyad', 'hammad', 'salman']\n",
      "User Name = maaz\n",
      "Present in User List : True\n"
     ]
    }
   ],
   "source": [
    "names : list[str] = ['ziyad','hammad', 'salman']\n",
    "print(f\"User List : {names}\")\n",
    "\n",
    "uinput : str = input(\"Enter your name\")\n",
    "print(f\"User Name = {uinput}\")\n",
    "\n",
    "print(f\"Present in User List : {uinput not in names}\")"
   ]
  },
  {
   "cell_type": "markdown",
   "metadata": {},
   "source": [
    "# PEMDAS\n",
    "\n",
    " - P => Parentheses\n",
    " - E => Exponents\n",
    " - M => Multiplication\n",
    " - D => Division\n",
    " - A => Addition\n",
    " - S => Subtraction"
   ]
  },
  {
   "cell_type": "markdown",
   "metadata": {},
   "source": [
    "# 3 + 2 - 2 * 4 / 2 + 2"
   ]
  },
  {
   "cell_type": "markdown",
   "metadata": {},
   "source": [
    "\n",
    "\n",
    "Alright, let's solve the equation step by step. We'll use the order of operations, often remembered by the acronym PEMDAS/BODMAS:\n",
    "\n",
    "   - Parentheses/Brackets\n",
    "   - Exponents (ie Powers and Square Roots, etc.)/Orders (ie Powers and Square Roots, etc.)\n",
    "   - MD Multiplication and Division (left-to-right)\n",
    "   - AS Addition and Subtraction (left-to-right)\n",
    "\n",
    "Given the expression:\n",
    "\n",
    "[ 3 + 2 - 2 \\times 4 \\div 2 + 2 ]\n",
    "\n",
    "Let's solve it step by step:\n",
    "\n",
    "    Multiplication and Division:\n",
    "\n",
    "[ 2 \\times 4 = 8 ] [ 8 \\div 2 = 4.0 ]\n",
    "\n",
    "Replacing these values in the expression, we get:\n",
    "\n",
    "[ 3 + 2 - 4.0 + 2 ]\n",
    "\n",
    "    Addition and Subtraction (from left to right):\n",
    "\n",
    "[ 3 + 2 = 5 ] [ 5 - 4.0 = 1.0 ] [ 1.0 + 2 = 3.0 ]\n",
    "\n",
    "So, the final answer is:\n",
    "\n",
    "[ 3.0 ]\n"
   ]
  },
  {
   "cell_type": "code",
   "execution_count": 5,
   "metadata": {},
   "outputs": [
    {
     "name": "stdout",
     "output_type": "stream",
     "text": [
      "3.0\n"
     ]
    }
   ],
   "source": [
    "print(3 + 2 - 2 * 4 / 2 + 2)"
   ]
  },
  {
   "cell_type": "code",
   "execution_count": 172,
   "metadata": {},
   "outputs": [
    {
     "name": "stdout",
     "output_type": "stream",
     "text": [
      "0\n"
     ]
    }
   ],
   "source": [
    "print((6 + 3) - (6 + 3))"
   ]
  },
  {
   "cell_type": "markdown",
   "metadata": {},
   "source": [
    "#  universe_age : int  = 14_000_000_000 \n",
    " - The underscores are used to make the large number more readable; they have no impact on the value itself."
   ]
  },
  {
   "cell_type": "code",
   "execution_count": 170,
   "metadata": {},
   "outputs": [
    {
     "name": "stdout",
     "output_type": "stream",
     "text": [
      "14000000000\n"
     ]
    }
   ],
   "source": [
    "universe_age: int  = 14_000_000_000\n",
    "print(universe_age)"
   ]
  },
  {
   "cell_type": "markdown",
   "metadata": {},
   "source": [
    "# Unzip"
   ]
  },
  {
   "cell_type": "markdown",
   "metadata": {},
   "source": [
    "- Each variable gets assigned a value from the corresponding position in the sequence on the right side."
   ]
  },
  {
   "cell_type": "code",
   "execution_count": 174,
   "metadata": {},
   "outputs": [
    {
     "name": "stdout",
     "output_type": "stream",
     "text": [
      "qasim\n",
      "7\n",
      "3.0\n"
     ]
    }
   ],
   "source": [
    "# Tuple-like structure on the right side: ('qasim', 7, 3.0)\n",
    "# Variables on the left side: a, b, c\n",
    "# Unziping values from right to left.\n",
    "\n",
    "a , b  , c  = 'qasim', 7, 3.0\n",
    "\n",
    "print(a)\n",
    "print(b)\n",
    "print(c)"
   ]
  },
  {
   "cell_type": "markdown",
   "metadata": {},
   "source": [
    "### The result is a tuple containing these three values. The parentheses are optional when creating a tuple, and commas alone are sufficient to define it.\n"
   ]
  },
  {
   "cell_type": "code",
   "execution_count": 175,
   "metadata": {},
   "outputs": [
    {
     "data": {
      "text/plain": [
       "('qasim', 7, 3.0)"
      ]
     },
     "execution_count": 175,
     "metadata": {},
     "output_type": "execute_result"
    }
   ],
   "source": [
    "'qasim', 7, 3.0"
   ]
  },
  {
   "cell_type": "markdown",
   "metadata": {},
   "source": [
    "- Accessing individual elements of the tuple using indexing\n",
    "- Indexing starts from 0"
   ]
  },
  {
   "cell_type": "code",
   "execution_count": 6,
   "metadata": {},
   "outputs": [
    {
     "data": {
      "text/plain": [
       "'qasim'"
      ]
     },
     "metadata": {},
     "output_type": "display_data"
    },
    {
     "data": {
      "text/plain": [
       "7"
      ]
     },
     "metadata": {},
     "output_type": "display_data"
    },
    {
     "data": {
      "text/plain": [
       "3.0"
      ]
     },
     "metadata": {},
     "output_type": "display_data"
    }
   ],
   "source": [
    "data: tuple[str, int, float] = ('qasim', 7, 3.0)\n",
    "display(data[0], data[1], data[2])"
   ]
  },
  {
   "cell_type": "markdown",
   "metadata": {},
   "source": [
    "# Unziping With * \n",
    " - Using the * operator to unpack the elements of the tuple and pass them as separate arguments to print"
   ]
  },
  {
   "cell_type": "code",
   "execution_count": 7,
   "metadata": {},
   "outputs": [
    {
     "data": {
      "text/plain": [
       "'qasim'"
      ]
     },
     "metadata": {},
     "output_type": "display_data"
    },
    {
     "data": {
      "text/plain": [
       "7"
      ]
     },
     "metadata": {},
     "output_type": "display_data"
    },
    {
     "data": {
      "text/plain": [
       "3.0"
      ]
     },
     "metadata": {},
     "output_type": "display_data"
    }
   ],
   "source": [
    "# Creating a tuple named 'data'\n",
    "data : tuple[str, int, float]= ('qasim', 7, 3.0)\n",
    "\n",
    "display(*data)"
   ]
  },
  {
   "cell_type": "markdown",
   "metadata": {},
   "source": [
    "### In Python, when you use the * operator with numbers, it performs multiplication. When used with strings, it performs repetition."
   ]
  },
  {
   "cell_type": "code",
   "execution_count": 182,
   "metadata": {},
   "outputs": [
    {
     "data": {
      "text/plain": [
       "4"
      ]
     },
     "metadata": {},
     "output_type": "display_data"
    },
    {
     "data": {
      "text/plain": [
       "'aaa'"
      ]
     },
     "metadata": {},
     "output_type": "display_data"
    }
   ],
   "source": [
    "display(2 * 2)\n",
    "\n",
    "display(\"a\" * 3)"
   ]
  },
  {
   "cell_type": "markdown",
   "metadata": {},
   "source": [
    "# Comments"
   ]
  },
  {
   "cell_type": "markdown",
   "metadata": {},
   "source": [
    "- Single line comments: Starts with `#`"
   ]
  },
  {
   "cell_type": "code",
   "execution_count": 184,
   "metadata": {},
   "outputs": [
    {
     "name": "stdout",
     "output_type": "stream",
     "text": [
      "Hello, World!\n"
     ]
    }
   ],
   "source": [
    "# This is a single-line comment\n",
    "print(\"Hello, World!\")  # This is an inline comment"
   ]
  },
  {
   "cell_type": "markdown",
   "metadata": {},
   "source": [
    "- Multi line comments:  Python doesn't have explicit multi-line comment syntax, but you can use triple-quoted strings."
   ]
  },
  {
   "cell_type": "code",
   "execution_count": 185,
   "metadata": {},
   "outputs": [
    {
     "name": "stdout",
     "output_type": "stream",
     "text": [
      "Hello, World!\n"
     ]
    }
   ],
   "source": [
    "'''\n",
    "This is a multi-line\n",
    "comment or docstring\n",
    "'''\n",
    "print(\"Hello, World!\")"
   ]
  },
  {
   "cell_type": "markdown",
   "metadata": {},
   "source": [
    "### The import this statement in Python is a way to access \"The Zen of Python,\" which is a collection of aphorisms that capture the philosophy and guiding principles of the Python programming language. It was written by Tim Peters and is included as an Easter egg in the Python interpreter."
   ]
  },
  {
   "cell_type": "code",
   "execution_count": 183,
   "metadata": {},
   "outputs": [
    {
     "name": "stdout",
     "output_type": "stream",
     "text": [
      "The Zen of Python, by Tim Peters\n",
      "\n",
      "Beautiful is better than ugly.\n",
      "Explicit is better than implicit.\n",
      "Simple is better than complex.\n",
      "Complex is better than complicated.\n",
      "Flat is better than nested.\n",
      "Sparse is better than dense.\n",
      "Readability counts.\n",
      "Special cases aren't special enough to break the rules.\n",
      "Although practicality beats purity.\n",
      "Errors should never pass silently.\n",
      "Unless explicitly silenced.\n",
      "In the face of ambiguity, refuse the temptation to guess.\n",
      "There should be one-- and preferably only one --obvious way to do it.\n",
      "Although that way may not be obvious at first unless you're Dutch.\n",
      "Now is better than never.\n",
      "Although never is often better than *right* now.\n",
      "If the implementation is hard to explain, it's a bad idea.\n",
      "If the implementation is easy to explain, it may be a good idea.\n",
      "Namespaces are one honking great idea -- let's do more of those!\n"
     ]
    }
   ],
   "source": [
    "import this"
   ]
  }
 ],
 "metadata": {
  "kernelspec": {
   "display_name": "python12",
   "language": "python",
   "name": "python3"
  },
  "language_info": {
   "codemirror_mode": {
    "name": "ipython",
    "version": 3
   },
   "file_extension": ".py",
   "mimetype": "text/x-python",
   "name": "python",
   "nbconvert_exporter": "python",
   "pygments_lexer": "ipython3",
   "version": "3.12.0"
  }
 },
 "nbformat": 4,
 "nbformat_minor": 2
}
