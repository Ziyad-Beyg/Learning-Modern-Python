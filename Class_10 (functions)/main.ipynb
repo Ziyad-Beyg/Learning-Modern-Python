{
 "cells": [
  {
   "cell_type": "markdown",
   "metadata": {},
   "source": [
    "# <b>FUNCTIONS</b>\n",
    "\n",
    "<hr>\n",
    "\n",
    "## <i>Three components of a function:</i>\n",
    "\n",
    "- Function Definition / Function Signature\n",
    "- Function Body\n",
    "- Function Calling\n",
    "\n",
    "## <i>Types of function:</i>\n",
    "\n",
    "- Pre-defined function: (inbuilt function / provided by language)\n",
    "  - Return Function: (It will return a value, we can assign this function output in any variable)\n",
    "  - Non Return Function: (It will not return a value, we can not assign this function output in any variable)\n",
    "- user defined function: (custom function)\n",
    "  - Return Function: (It will return a value, we can assign this function output in any variable)\n",
    "  - Non Return Function: (It will not return a value, we can not assign this function output in any variable)\n",
    "\n",
    "## <i>Function Syntax:</i>\n",
    "\n",
    "<span title=\"Function Definition / Function Signature\">def function_name(param1:type, param2:type,...)->Return_type:</span> <br>\n",
    "&emsp;<span title=\"Function Body\">print(2+2)</span>\n",
    "\n",
    "<span title=\"Function Calling\">function_name(arg1,arg2)</span>\n",
    "\n",
    "## <i>Pre-Defined Function Examples:</i>\n",
    "\n",
    "- print\n",
    "- len\n",
    "- id\n",
    "- type\n",
    "- dir\n",
    "- chr\n",
    "- ord\n",
    "- exec\n",
    "\n",
    "## <i>User-Defined Function Example:</i>\n",
    "\n",
    "def find_even_num(num: int)-> int: <br>\n",
    "&emsp;if num%2 == 0:<br>\n",
    "&emsp;&emsp;print(\"Number is Even\")<br>\n",
    "&emsp;else:<br>\n",
    "&emsp;&emsp;print(\"Number is Odd\")<br>\n",
    "\n",
    "find_even_num(2)\n"
   ]
  },
  {
   "cell_type": "markdown",
   "metadata": {},
   "source": [
    "`Return / Non-Return Function`\n"
   ]
  },
  {
   "cell_type": "code",
   "execution_count": null,
   "metadata": {},
   "outputs": [
    {
     "name": "stdout",
     "output_type": "stream",
     "text": [
      "Hello World\n",
      "None\n"
     ]
    }
   ],
   "source": [
    "is_return_function = print(\"Hello World\")  # print is a non-return function\n",
    "\n",
    "print(is_return_function)"
   ]
  },
  {
   "cell_type": "code",
   "execution_count": null,
   "metadata": {},
   "outputs": [
    {
     "name": "stdout",
     "output_type": "stream",
     "text": [
      "22\n"
     ]
    }
   ],
   "source": [
    "length_of_name = len(\"Mirza Ziyad Ahmed Baig\")  # len() is a return function\n",
    "\n",
    "print(length_of_name)"
   ]
  },
  {
   "cell_type": "markdown",
   "metadata": {},
   "source": [
    "`Simple Custom Function`\n"
   ]
  },
  {
   "cell_type": "code",
   "execution_count": null,
   "metadata": {},
   "outputs": [
    {
     "name": "stdout",
     "output_type": "stream",
     "text": [
      "Learning Python!!!\n",
      "Hello World!!!\n"
     ]
    }
   ],
   "source": [
    "def piaic() -> None:  # Function Definition\n",
    "    # Function Body starts\n",
    "    print(\"Learning Python!!!\")\n",
    "    print(\"Hello World!!!\")\n",
    "    # Function Body ends\n",
    "\n",
    "\n",
    "piaic()  # Function Calling"
   ]
  },
  {
   "cell_type": "markdown",
   "metadata": {},
   "source": [
    "`Parameters Functions`\n"
   ]
  },
  {
   "cell_type": "code",
   "execution_count": null,
   "metadata": {},
   "outputs": [
    {
     "name": "stdout",
     "output_type": "stream",
     "text": [
      "Python is Cool\n"
     ]
    }
   ],
   "source": [
    "#       param1  param2\n",
    "def piaic(\n",
    "    a: str, b: str\n",
    ") -> None:  # Function parameters (a, b) used to send dynamic values to functions\n",
    "    print(f\"{a} is {b}\")\n",
    "\n",
    "\n",
    "piaic(\"Python\", \"Cool\")  # function arguments (values passed at function calling)\n",
    "#      arg1      arg2"
   ]
  },
  {
   "cell_type": "markdown",
   "metadata": {},
   "source": [
    "`Positional Arguments`\n"
   ]
  },
  {
   "cell_type": "code",
   "execution_count": null,
   "metadata": {},
   "outputs": [
    {
     "data": {
      "text/plain": [
       "2"
      ]
     },
     "execution_count": 14,
     "metadata": {},
     "output_type": "execute_result"
    }
   ],
   "source": [
    "def subraction(num1: int, num2: int) -> int:\n",
    "    return num1 - num2\n",
    "\n",
    "\n",
    "subraction(4, 2)  # Position defines which one goes to num1 and which one to num2"
   ]
  },
  {
   "cell_type": "code",
   "execution_count": null,
   "metadata": {},
   "outputs": [
    {
     "data": {
      "text/plain": [
       "-2"
      ]
     },
     "execution_count": 16,
     "metadata": {},
     "output_type": "execute_result"
    }
   ],
   "source": [
    "def subraction(num1: int, num2: int) -> int:\n",
    "    return num1 - num2\n",
    "\n",
    "\n",
    "subraction(2, 4)  # Position defines which one goes to num1 and which one to num2"
   ]
  },
  {
   "cell_type": "markdown",
   "metadata": {},
   "source": [
    "`Keywords Argument`\n"
   ]
  },
  {
   "cell_type": "code",
   "execution_count": null,
   "metadata": {},
   "outputs": [
    {
     "data": {
      "text/plain": [
       "2"
      ]
     },
     "execution_count": 18,
     "metadata": {},
     "output_type": "execute_result"
    }
   ],
   "source": [
    "def subraction(num1: int, num2: int) -> int:\n",
    "    return num1 - num2\n",
    "\n",
    "\n",
    "subraction(\n",
    "    num2=2, num1=4\n",
    ")  # Position does not defines which one goes to num1 and which one to num2, keywords does."
   ]
  },
  {
   "cell_type": "markdown",
   "metadata": {},
   "source": [
    "`Required Arguments`\n"
   ]
  },
  {
   "cell_type": "code",
   "execution_count": null,
   "metadata": {},
   "outputs": [
    {
     "ename": "TypeError",
     "evalue": "subraction() missing 1 required positional argument: 'num2'",
     "output_type": "error",
     "traceback": [
      "\u001b[1;31m---------------------------------------------------------------------------\u001b[0m",
      "\u001b[1;31mTypeError\u001b[0m                                 Traceback (most recent call last)",
      "Cell \u001b[1;32mIn[19], line 4\u001b[0m\n\u001b[0;32m      1\u001b[0m \u001b[38;5;28;01mdef\u001b[39;00m \u001b[38;5;21msubraction\u001b[39m(num1: \u001b[38;5;28mint\u001b[39m, num2: \u001b[38;5;28mint\u001b[39m) \u001b[38;5;241m-\u001b[39m\u001b[38;5;241m>\u001b[39m \u001b[38;5;28mint\u001b[39m:\n\u001b[0;32m      2\u001b[0m     \u001b[38;5;28;01mreturn\u001b[39;00m num1 \u001b[38;5;241m-\u001b[39m num2\n\u001b[1;32m----> 4\u001b[0m \u001b[43msubraction\u001b[49m\u001b[43m(\u001b[49m\u001b[38;5;241;43m2\u001b[39;49m\u001b[43m)\u001b[49m  \u001b[38;5;66;03m# all arguments are required\u001b[39;00m\n",
      "\u001b[1;31mTypeError\u001b[0m: subraction() missing 1 required positional argument: 'num2'"
     ]
    }
   ],
   "source": [
    "def subraction(num1: int, num2: int) -> int:\n",
    "    return num1 - num2\n",
    "\n",
    "\n",
    "subraction(2)  # all arguments are required"
   ]
  },
  {
   "cell_type": "markdown",
   "metadata": {},
   "source": [
    "`Optional Parameters`\n"
   ]
  },
  {
   "cell_type": "code",
   "execution_count": null,
   "metadata": {},
   "outputs": [
    {
     "data": {
      "text/plain": [
       "-2"
      ]
     },
     "execution_count": 21,
     "metadata": {},
     "output_type": "execute_result"
    }
   ],
   "source": [
    "def subraction(num1: int, num2: int = 4) -> int:\n",
    "    return num1 - num2\n",
    "\n",
    "\n",
    "subraction(\n",
    "    2\n",
    ")  # num2 argument is optional, if provided num2 will take provided value otherwise it will take 4 as it's value."
   ]
  },
  {
   "cell_type": "markdown",
   "metadata": {},
   "source": [
    "# <b>LAMBDA FUNCTIONS</b>\n",
    "\n",
    "<hr>\n",
    "\n",
    "- one line function\n",
    "- without name (Anonymous Functions)\n",
    "- only use in this line (if not returned in a variable, wil be created at a specific line and will expire at that line after running)\n",
    "\n",
    "## <i>Lambda Function Syntax:</i>\n",
    "\n",
    "`lambda param1,param2 : function_body`\n",
    "\n",
    "## <i>Three Components In Lambda Function Syntax:</i>\n",
    "\n",
    "- lambda_keyword\n",
    "- no_of_parameters\n",
    "- auto_returning_funtion_body ( after \":\")\n",
    "\n",
    "https://stackoverflow.com/questions/33833881/is-it-possible-to-type-hint-a-lambda-function\n"
   ]
  },
  {
   "cell_type": "code",
   "execution_count": 28,
   "metadata": {},
   "outputs": [
    {
     "name": "stdout",
     "output_type": "stream",
     "text": [
      "4\n"
     ]
    }
   ],
   "source": [
    "from typing import Callable\n",
    "\n",
    "func: Callable[[int, int], int] = lambda num1, num2: num1 + num2\n",
    "\n",
    "print(func(2, 2))"
   ]
  },
  {
   "cell_type": "code",
   "execution_count": null,
   "metadata": {},
   "outputs": [
    {
     "name": "stdout",
     "output_type": "stream",
     "text": [
      "[1, 4, 9, 16, 25, 36]\n"
     ]
    }
   ],
   "source": [
    "numbers: list[int] = [1, 2, 3, 4, 5, 6]\n",
    "\n",
    "numbers_square: list[int] = list(map(lambda num: num**2, numbers))\n",
    "\n",
    "print(numbers_square)"
   ]
  },
  {
   "cell_type": "code",
   "execution_count": null,
   "metadata": {},
   "outputs": [
    {
     "name": "stdout",
     "output_type": "stream",
     "text": [
      "[2, 4, 6]\n"
     ]
    }
   ],
   "source": [
    "numbers: list[int] = [1, 2, 3, 4, 5, 6]\n",
    "\n",
    "even_nums: list[int] = list(filter(lambda num: num % 2 == 0, numbers))\n",
    "\n",
    "print(even_nums)"
   ]
  },
  {
   "cell_type": "code",
   "execution_count": 36,
   "metadata": {},
   "outputs": [
    {
     "name": "stdout",
     "output_type": "stream",
     "text": [
      "[1, 3, 5]\n"
     ]
    }
   ],
   "source": [
    "numbers: list[int] = [1, 2, 3, 4, 5, 6]\n",
    "\n",
    "odd_nums: list[int] = list(filter(lambda num: num % 2 != 0, numbers))\n",
    "\n",
    "print(odd_nums)"
   ]
  },
  {
   "cell_type": "code",
   "execution_count": 40,
   "metadata": {},
   "outputs": [
    {
     "data": {
      "text/plain": [
       "[1, 3, 5, 7, 9, 11, 13, 15, 17, 19, 21, 23, 25, 27, 29]"
      ]
     },
     "metadata": {},
     "output_type": "display_data"
    }
   ],
   "source": [
    "odd_nums: list[int] = list(filter(lambda num: num % 2 != 0, range(1, 30)))\n",
    "\n",
    "display(odd_nums)"
   ]
  },
  {
   "cell_type": "markdown",
   "metadata": {},
   "source": [
    "# <b>GENERATOR FUNCTIONS</b>\n",
    "\n",
    "<hr>\n",
    "\n",
    "## <i>Three components of a Generator Function:</i>\n",
    "\n",
    "- Iterate on element one by one\n",
    "- Stop after each iteration\n",
    "- Remember old iteration value (last iterate value)\n",
    "- Next iterate\n",
    "  - Go farward from last iterate value using `next()`\n",
    "\n",
    "## <i>Examples of Generator Function:</i>\n",
    "\n",
    "- map()\n",
    "- filter()\n",
    "- range()\n"
   ]
  },
  {
   "cell_type": "code",
   "execution_count": null,
   "metadata": {},
   "outputs": [
    {
     "name": "stdout",
     "output_type": "stream",
     "text": [
      "<generator object custom_range_fn at 0x00000192A63F3790>\n",
      "1\n",
      "HELLO WORLD WITH PYTHON\n",
      "2\n",
      "HELLO WORLD WITH PYTHON\n",
      "3\n",
      "HELLO WORLD WITH PYTHON\n",
      "4\n",
      "HELLO WORLD WITH PYTHON\n",
      "5\n"
     ]
    }
   ],
   "source": [
    "from collections.abc import Iterator\n",
    "\n",
    "\n",
    "# CUSTOM GENERATOR FUNCTION\n",
    "def custom_range_fn(start: int, end: int, step: int = 1) -> Iterator[int]:\n",
    "    for i in range(start, end + 1, step):\n",
    "        yield (i)  # This will display single iteration at a time with next()\n",
    "\n",
    "\n",
    "my_range: Iterator[int] = custom_range_fn(1, 5)\n",
    "# contains values from '1' to '5' including '5' unlike original range function that excludes the end value\n",
    "\n",
    "print(my_range)\n",
    "print(next(my_range))\n",
    "print(\"HELLO WORLD WITH PYTHON\")\n",
    "print(next(my_range))\n",
    "print(\"HELLO WORLD WITH PYTHON\")\n",
    "print(next(my_range))\n",
    "print(\"HELLO WORLD WITH PYTHON\")\n",
    "print(next(my_range))\n",
    "print(\"HELLO WORLD WITH PYTHON\")\n",
    "print(next(my_range))"
   ]
  },
  {
   "cell_type": "code",
   "execution_count": null,
   "metadata": {},
   "outputs": [
    {
     "name": "stdout",
     "output_type": "stream",
     "text": [
      "1\n",
      "3\n",
      "5\n",
      "7\n",
      "9\n",
      "HELLO WORLD\n",
      "11\n",
      "13\n",
      "15\n",
      "17\n",
      "19\n"
     ]
    }
   ],
   "source": [
    "from collections.abc import Iterator\n",
    "\n",
    "odd_nums: Iterator[int] = filter(\n",
    "    lambda num: num % 2 != 0, range(1, 30)\n",
    ")  # filter is a generator function\n",
    "\n",
    "print(next(odd_nums))\n",
    "print(next(odd_nums))\n",
    "print(next(odd_nums))\n",
    "print(next(odd_nums))\n",
    "print(next(odd_nums))\n",
    "print(\"HELLO WORLD\")\n",
    "print(next(odd_nums))\n",
    "print(next(odd_nums))\n",
    "print(next(odd_nums))\n",
    "print(next(odd_nums))\n",
    "print(next(odd_nums))"
   ]
  },
  {
   "cell_type": "markdown",
   "metadata": {},
   "source": [
    "`Yield Multiple Values`\n",
    "\n",
    "https://stackoverflow.com/questions/74774919/proper-typing-for-a-interesting-yield-function\n"
   ]
  },
  {
   "cell_type": "code",
   "execution_count": null,
   "metadata": {},
   "outputs": [
    {
     "name": "stdout",
     "output_type": "stream",
     "text": [
      "<generator object yield_func at 0x00000192A64DD080>\n",
      "{'id': {}}\n",
      "{'id': {'age': 14}}\n"
     ]
    }
   ],
   "source": [
    "from collections.abc import Iterator\n",
    "\n",
    "MyDictT = dict[str, object]  # for example\n",
    "\n",
    "\n",
    "def yield_func() -> Iterator[MyDictT]:\n",
    "    a: MyDictT = {\"id\": {}}\n",
    "    b: MyDictT = {\"id\": {\"age\": 14}}\n",
    "\n",
    "    yield a\n",
    "    yield b\n",
    "\n",
    "\n",
    "a: Iterator[dict] = yield_func()\n",
    "print(a)\n",
    "print(next(a))\n",
    "print(next(a))"
   ]
  },
  {
   "cell_type": "code",
   "execution_count": 67,
   "metadata": {},
   "outputs": [
    {
     "data": {
      "text/plain": [
       "['__class__',\n",
       " '__del__',\n",
       " '__delattr__',\n",
       " '__dir__',\n",
       " '__doc__',\n",
       " '__eq__',\n",
       " '__format__',\n",
       " '__ge__',\n",
       " '__getattribute__',\n",
       " '__getstate__',\n",
       " '__gt__',\n",
       " '__hash__',\n",
       " '__init__',\n",
       " '__init_subclass__',\n",
       " '__iter__',\n",
       " '__le__',\n",
       " '__lt__',\n",
       " '__name__',\n",
       " '__ne__',\n",
       " '__new__',\n",
       " '__next__',\n",
       " '__qualname__',\n",
       " '__reduce__',\n",
       " '__reduce_ex__',\n",
       " '__repr__',\n",
       " '__setattr__',\n",
       " '__sizeof__',\n",
       " '__str__',\n",
       " '__subclasshook__',\n",
       " 'close',\n",
       " 'gi_code',\n",
       " 'gi_frame',\n",
       " 'gi_running',\n",
       " 'gi_suspended',\n",
       " 'gi_yieldfrom',\n",
       " 'send',\n",
       " 'throw']"
      ]
     },
     "metadata": {},
     "output_type": "display_data"
    }
   ],
   "source": [
    "display(dir(a))"
   ]
  },
  {
   "cell_type": "markdown",
   "metadata": {},
   "source": [
    "# <b>UNLIMITED POSITIONAL ARGUMENT FUNCTIONS: \"*args\"</b>\n",
    "\n",
    "<hr>\n",
    "\n",
    "## <i>Components of Unlimited Positional Argument Function:</i>\n",
    "\n",
    "- Recieve unlimited arguments with only one parameter in function with a \"\\*variable_name\"\n",
    "- All the arguments are recieved in a `Tuple`\n"
   ]
  },
  {
   "cell_type": "code",
   "execution_count": 73,
   "metadata": {},
   "outputs": [
    {
     "name": "stdout",
     "output_type": "stream",
     "text": [
      "All Nums Include: (1, 3, 5, 7, 8, 3, 1, 5, 325, 456, 234, 6324, 452, 34, 4, 3, 3, 2)\n",
      "Type of All Nums: <class 'tuple'>\n",
      "Sum of all nums: 7870\n"
     ]
    }
   ],
   "source": [
    "# Sum Unlimited Numbers Function\n",
    "\n",
    "def sum_all_num(*nums: int) -> int:\n",
    "    print(f\"All Nums Include: {nums}\")\n",
    "    print(f\"Type of All Nums: {type(nums)}\")\n",
    "\n",
    "    total: int = 0\n",
    "\n",
    "    for i in nums:\n",
    "        total += i\n",
    "\n",
    "    return total\n",
    "\n",
    "\n",
    "sum_func: int = sum_all_num(\n",
    "    1, 3, 5, 7, 8, 3, 1, 5, 325, 456, 234, 6324, 452, 34, 4, 3, 3,2\n",
    ")\n",
    "\n",
    "print(f\"Sum of all nums: {sum_func}\")"
   ]
  },
  {
   "cell_type": "code",
   "execution_count": 1,
   "metadata": {},
   "outputs": [
    {
     "name": "stdout",
     "output_type": "stream",
     "text": [
      "('ziyad', 'hammad', 'salman', 'mavia')\n",
      "Hello ziyad\n",
      "Hello hammad\n",
      "Hello salman\n",
      "Hello mavia\n"
     ]
    }
   ],
   "source": [
    "def greet_everyone(*usernames: str) -> None:\n",
    "    print(usernames)\n",
    "    for name in usernames:\n",
    "        print(f'Hello {name}')\n",
    "\n",
    "greet_everyone(\"ziyad\", \"hammad\", 'salman', \"mavia\")"
   ]
  },
  {
   "cell_type": "markdown",
   "metadata": {},
   "source": [
    "# <b>UNLIMITED KEYWORDS ARGUMENT FUNCTIONS: \"**kargs\"</b>\n",
    "\n",
    "<hr>\n",
    "\n",
    "## <i>Components of Unlimited Keyword Argument Function:</i>\n",
    "\n",
    "- Recieve unlimited arguments with only one parameter in function with a \"**variable_name\"\n",
    "- All the arguments are recieved in a `Dictionary`"
   ]
  },
  {
   "cell_type": "code",
   "execution_count": 7,
   "metadata": {},
   "outputs": [
    {
     "name": "stdout",
     "output_type": "stream",
     "text": [
      "<class 'dict'>\n",
      "{'name': 'ziyad', 'age': '24', 'gender': 'male'}\n",
      "ziyad\n",
      "24\n",
      "male\n"
     ]
    }
   ],
   "source": [
    "def get_user_entites(**user_entities: str) -> None:\n",
    "    print(type(user_entities))\n",
    "    print(user_entities)\n",
    "    print(user_entities[\"name\"])\n",
    "    print(user_entities[\"age\"])\n",
    "    print(user_entities[\"gender\"])\n",
    "\n",
    "\n",
    "get_user_entites(name=\"ziyad\", age=\"24\", gender=\"male\")"
   ]
  },
  {
   "cell_type": "code",
   "execution_count": 8,
   "metadata": {},
   "outputs": [
    {
     "name": "stdout",
     "output_type": "stream",
     "text": [
      "<class 'dict'>\n",
      "{'name': 'ziyad', 'age': 24, 'is_male': True}\n",
      "ziyad\n",
      "24\n",
      "True\n"
     ]
    }
   ],
   "source": [
    "from typing import Union\n",
    "\n",
    "my_kargs = Union[int, str, bool]\n",
    "\n",
    "\n",
    "def get_data(**data: my_kargs) -> None:\n",
    "    print(type(data))\n",
    "    print((data))\n",
    "    print((data['name']))\n",
    "    print((data['age']))\n",
    "    print((data['is_male']))\n",
    "\n",
    "\n",
    "get_data(name=\"ziyad\", age=24, is_male=True)"
   ]
  },
  {
   "cell_type": "markdown",
   "metadata": {},
   "source": [
    "# <b>COMBINING *args AND **kargs IN A FUNCTION</b>\n",
    "\n",
    "<hr>"
   ]
  },
  {
   "cell_type": "code",
   "execution_count": 9,
   "metadata": {},
   "outputs": [
    {
     "name": "stdout",
     "output_type": "stream",
     "text": [
      "NUM1: 1, TYPE: <class 'int'>\n",
      "NUM2: 2, TYPE: <class 'int'>\n",
      "NAMES: ('ziyad', 'hammad', 'salman'), TYPE: <class 'tuple'>\n",
      "USER: {'name': 'saif', 'age': 23, 'is_male': True}, , TYPE: <class 'dict'>\n"
     ]
    }
   ],
   "source": [
    "from typing import Union\n",
    "\n",
    "my_kargs = Union[int, str, bool]\n",
    "\n",
    "\n",
    "def combined_func(num1: int, num2: int, *names: str, **user: my_kargs) -> None:\n",
    "    print(f\"NUM1: {num1}, TYPE: {type(num1)}\")\n",
    "    print(f\"NUM2: {num2}, TYPE: {type(num2)}\")\n",
    "    print(f\"NAMES: {names}, TYPE: {type(names)}\")\n",
    "    print(f\"USER: {user}, , TYPE: {type(user)}\")\n",
    "\n",
    "combined_func(1,2,\"ziyad\",\"hammad\", \"salman\", name='saif', age=23, is_male=True)"
   ]
  },
  {
   "cell_type": "markdown",
   "metadata": {},
   "source": [
    "# <b>DECORATOR FUNCTIONS: \"@function_name\"</b>\n",
    "\n",
    "<hr>\n",
    "\n",
    "## <i>Components of Decorator Function:</i>\n",
    "\n",
    "- Decorator Function is assigned with \"@function_name\"\n",
    "- It is associated with a function to increase its functionality\n",
    "- whenever a function associated with decorator function is called, first decorator is called and it contains a wrapper function for extra functionalities and in that wrapper function our main function is called.\n",
    "\n",
    "## <i>Syntax of Decorator Function:</i>\n",
    "\n",
    "def my_decorator(func): <br>\n",
    "&emsp;def wrapper():<br>\n",
    "&emsp;&emsp;print(\"SOME LOGIC BEFORE SUM FUNCTION\")<br>\n",
    "&emsp;&emsp;func() `#greet_decorator()`<br> \n",
    "&emsp;&emsp;print(\"SOME LOGIC AFTER SUM FUNCTION\")<br>\n",
    "&emsp;return wrapper <br>\n",
    "\n",
    "\n",
    "@my_decorator <br>\n",
    "def greet_decorator() :<br>\n",
    "&emsp;greet_decorator_body<br>\n",
    "\n",
    "\n",
    "greet_decorator() `#it will run my_decorator`<br>"
   ]
  },
  {
   "cell_type": "markdown",
   "metadata": {},
   "source": [
    "`DECORATOR FUNCTION WITHOUT PARAMETERS`"
   ]
  },
  {
   "cell_type": "code",
   "execution_count": 13,
   "metadata": {},
   "outputs": [
    {
     "name": "stdout",
     "output_type": "stream",
     "text": [
      "SOME LOGIC BEFORE SUM FUNCTION\n",
      "HELLO DECORATOR FUNC\n",
      "SOME LOGIC AFTER SUM FUNCTION\n"
     ]
    }
   ],
   "source": [
    "from typing import Callable\n",
    "\n",
    "\n",
    "def my_decorator(func: Callable[[], None]) -> Callable[[], None]:\n",
    "    def wrapper() -> None:\n",
    "        print(\"SOME LOGIC BEFORE SUM FUNCTION\")\n",
    "        func()\n",
    "        print(\"SOME LOGIC AFTER SUM FUNCTION\")\n",
    "\n",
    "    return wrapper\n",
    "\n",
    "\n",
    "@my_decorator\n",
    "def greet_decorator() -> None:\n",
    "    print(f\"HELLO DECORATOR FUNC\")\n",
    "\n",
    "\n",
    "greet_decorator()"
   ]
  },
  {
   "cell_type": "markdown",
   "metadata": {},
   "source": [
    "`DECORATOR FUNCTION WITH PARAMETERS`"
   ]
  },
  {
   "cell_type": "code",
   "execution_count": null,
   "metadata": {},
   "outputs": [
    {
     "name": "stdout",
     "output_type": "stream",
     "text": [
      "SOME LOGIC BEFORE SUM FUNCTION\n",
      "2 + 3 = 5\n",
      "SOME LOGIC AFTER SUM FUNCTION\n"
     ]
    }
   ],
   "source": [
    "from typing import Callable\n",
    "\n",
    "\n",
    "def my_decorator(func: Callable[[int, int], None]) -> Callable[[int, int], None]:\n",
    "    def wrapper(num1: int, num2: int) -> None:\n",
    "        print(\"SOME LOGIC BEFORE SUM FUNCTION\")\n",
    "        func(num1, num2)\n",
    "        print(\"SOME LOGIC AFTER SUM FUNCTION\")\n",
    "\n",
    "    return wrapper\n",
    "\n",
    "\n",
    "@my_decorator\n",
    "def sum_two_nums(num1: int, num2: int) -> None:\n",
    "    print(f\"{num1} + {num2} = {num1 + num2}\")\n",
    "\n",
    "\n",
    "sum_two_nums(2, 3)"
   ]
  },
  {
   "cell_type": "markdown",
   "metadata": {},
   "source": [
    "# <b>RECURSIVE FUNCTIONS:</b>\n",
    "\n",
    "<hr>\n",
    "\n",
    "## <i>Components of Recursive Function:</i>\n",
    "\n",
    "- A Function that calls itself.\n",
    "- It works as a loop.\n",
    "- Recursion means infinite so it has to be stop by putting some condition."
   ]
  },
  {
   "cell_type": "code",
   "execution_count": 23,
   "metadata": {},
   "outputs": [
    {
     "name": "stdout",
     "output_type": "stream",
     "text": [
      "Factorial of 5 is: 120\n"
     ]
    }
   ],
   "source": [
    "def factorial_func(num: int) -> int:\n",
    "    \"\"\"This is a recursive function\n",
    "    to find the factorial of an integer\"\"\"\n",
    "\n",
    "    if num == 1:\n",
    "        return 1\n",
    "    elif num == 0 or num < 0:\n",
    "        return 0\n",
    "    else:\n",
    "        return num * factorial_func(num - 1)\n",
    "\n",
    "\n",
    "num = 5\n",
    "\n",
    "print(f\"Factorial of {num} is: {factorial_func(num)}\")"
   ]
  },
  {
   "cell_type": "code",
   "execution_count": 25,
   "metadata": {},
   "outputs": [
    {
     "name": "stdout",
     "output_type": "stream",
     "text": [
      "Factorial of 5 is: 120\n"
     ]
    }
   ],
   "source": [
    "print(f\"Factorial of {num} is: {5*4*3*2*1}\")"
   ]
  }
 ],
 "metadata": {
  "kernelspec": {
   "display_name": "python12",
   "language": "python",
   "name": "python3"
  },
  "language_info": {
   "codemirror_mode": {
    "name": "ipython",
    "version": 3
   },
   "file_extension": ".py",
   "mimetype": "text/x-python",
   "name": "python",
   "nbconvert_exporter": "python",
   "pygments_lexer": "ipython3",
   "version": "3.12.0"
  }
 },
 "nbformat": 4,
 "nbformat_minor": 2
}
