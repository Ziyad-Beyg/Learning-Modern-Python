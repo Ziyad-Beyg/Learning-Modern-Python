{
 "cells": [
  {
   "cell_type": "markdown",
   "metadata": {},
   "source": [
    "# Dictionary\n",
    "\n",
    "- key : value (items)\n",
    "\n",
    "  - key replacement of indexes\n",
    "  - value item\n",
    "\n",
    "- dict_variable[key]\n",
    "  - dict_variable[new_key] = new_value\n",
    "    - add new value\n",
    "    - update value\n"
   ]
  },
  {
   "cell_type": "markdown",
   "metadata": {},
   "source": [
    "### Dictionary is similar to `List` however instead of indexes it has `Keys` & `Values`. value refer to the data and with the help of key that data is retrieved from a dictionary.\n"
   ]
  },
  {
   "cell_type": "code",
   "execution_count": 7,
   "metadata": {},
   "outputs": [
    {
     "name": "stdout",
     "output_type": "stream",
     "text": [
      "{'age': '23', 'education': 'graduation', 'name': 'ziyad'}\n"
     ]
    }
   ],
   "source": [
    "from typing import Dict\n",
    "import pprint\n",
    "\n",
    "data: Dict[str, str] = {\"name\": \"ziyad\", \"age\": \"23\", \"education\": \"graduation\"}\n",
    "\n",
    "pprint.pprint(data)"
   ]
  },
  {
   "cell_type": "markdown",
   "metadata": {},
   "source": [
    "## single item is retrieved by calling the exact key from the dictionary.\n"
   ]
  },
  {
   "cell_type": "code",
   "execution_count": 8,
   "metadata": {},
   "outputs": [
    {
     "name": "stdout",
     "output_type": "stream",
     "text": [
      "23\n",
      "ziyad\n",
      "graduation\n"
     ]
    }
   ],
   "source": [
    "from typing import Dict\n",
    "import pprint\n",
    "\n",
    "data: Dict[str, str] = {\"name\": \"ziyad\", \"age\": \"23\", \"education\": \"graduation\"}\n",
    "\n",
    "print(data[\"age\"])\n",
    "print(data[\"name\"])\n",
    "print(data[\"education\"])"
   ]
  },
  {
   "cell_type": "markdown",
   "metadata": {},
   "source": [
    "## A Dictionary can contain any type of data as a value, but only hashable datatype for the key.\n",
    "\n",
    "`In Python, any immutable object (such as an integer, boolean, string, tuple) is hashable, meaning its value does not change during its lifetime.`\n"
   ]
  },
  {
   "cell_type": "code",
   "execution_count": 21,
   "metadata": {},
   "outputs": [
    {
     "name": "stdout",
     "output_type": "stream",
     "text": [
      "False\n",
      "'graduation'\n",
      "'ziyad'\n",
      "'graduation'\n",
      "{1: 'graduation', 'name': 'ziyad', (1, 2, 3): False}\n"
     ]
    }
   ],
   "source": [
    "from typing import Dict, Union\n",
    "import pprint\n",
    "\n",
    "Key = Union[int, str, bool, tuple]\n",
    "Value = Union[int, str, bool, list, set, tuple, dict]\n",
    "\n",
    "data: Dict[Key, Value] = {\n",
    "    \"name\": \"ziyad\",\n",
    "    1: 23,\n",
    "    True: \"graduation\",\n",
    "    (1, 2, 3): False,\n",
    "}\n",
    "\n",
    "pprint.pprint(data[(1, 2, 3)])\n",
    "pprint.pprint(data[True])\n",
    "pprint.pprint(data[\"name\"])\n",
    "pprint.pprint(data[1])\n",
    "pprint.pprint(data)"
   ]
  },
  {
   "cell_type": "markdown",
   "metadata": {},
   "source": [
    "## In a dictionary the Keys should always be unique\n",
    "\n",
    "the output of the code mentioned below is not as expected, the reason behind that is the keys of the dictionary are not unique\n",
    "\n",
    "In python `True == 1` thats why when `True` value is set to 'graduation', then `1` value is also overwritten as 'graduation'\n"
   ]
  },
  {
   "cell_type": "code",
   "execution_count": 22,
   "metadata": {},
   "outputs": [
    {
     "name": "stdout",
     "output_type": "stream",
     "text": [
      "False\n",
      "'graduation'\n",
      "'ziyad'\n",
      "'graduation'\n",
      "{1: 'graduation', 'name': 'ziyad', (1, 2, 3): False}\n"
     ]
    }
   ],
   "source": [
    "from typing import Dict, Union\n",
    "import pprint\n",
    "\n",
    "Key = Union[int, str, bool, tuple]\n",
    "Value = Union[int, str, bool, list, set, tuple, dict]\n",
    "\n",
    "data: Dict[Key, Value] = {\n",
    "    \"name\": \"ziyad\",\n",
    "    1: 23,\n",
    "    True: \"graduation\",\n",
    "    (1, 2, 3): False,\n",
    "}\n",
    "\n",
    "pprint.pprint(data[(1, 2, 3)])\n",
    "pprint.pprint(data[True])\n",
    "pprint.pprint(data[\"name\"])\n",
    "pprint.pprint(data[1])\n",
    "pprint.pprint(data)"
   ]
  },
  {
   "cell_type": "markdown",
   "metadata": {},
   "source": [
    "## In dictionary Keys should always be hashable\n"
   ]
  },
  {
   "cell_type": "code",
   "execution_count": 23,
   "metadata": {},
   "outputs": [
    {
     "ename": "TypeError",
     "evalue": "unhashable type: 'list'",
     "output_type": "error",
     "traceback": [
      "\u001b[1;31m---------------------------------------------------------------------------\u001b[0m",
      "\u001b[1;31mTypeError\u001b[0m                                 Traceback (most recent call last)",
      "Cell \u001b[1;32mIn[23], line 7\u001b[0m\n\u001b[0;32m      4\u001b[0m Key \u001b[38;5;241m=\u001b[39m Union[Any]\n\u001b[0;32m      5\u001b[0m Value \u001b[38;5;241m=\u001b[39m Union[\u001b[38;5;28mint\u001b[39m, \u001b[38;5;28mstr\u001b[39m, \u001b[38;5;28mbool\u001b[39m, \u001b[38;5;28mlist\u001b[39m, \u001b[38;5;28mset\u001b[39m, \u001b[38;5;28mtuple\u001b[39m, \u001b[38;5;28mdict\u001b[39m]\n\u001b[1;32m----> 7\u001b[0m data: Dict[Key, Value] \u001b[38;5;241m=\u001b[39m {\n\u001b[0;32m      8\u001b[0m     \u001b[38;5;124m\"\u001b[39m\u001b[38;5;124mname\u001b[39m\u001b[38;5;124m\"\u001b[39m: \u001b[38;5;124m\"\u001b[39m\u001b[38;5;124mziyad\u001b[39m\u001b[38;5;124m\"\u001b[39m,\n\u001b[0;32m      9\u001b[0m     \u001b[38;5;241m1\u001b[39m: \u001b[38;5;241m23\u001b[39m,\n\u001b[0;32m     10\u001b[0m     \u001b[38;5;28;01mTrue\u001b[39;00m: \u001b[38;5;124m\"\u001b[39m\u001b[38;5;124mgraduation\u001b[39m\u001b[38;5;124m\"\u001b[39m,\n\u001b[0;32m     11\u001b[0m     [\u001b[38;5;241m1\u001b[39m, \u001b[38;5;241m2\u001b[39m, \u001b[38;5;241m3\u001b[39m]: \u001b[38;5;28;01mFalse\u001b[39;00m,\n\u001b[0;32m     12\u001b[0m }\n\u001b[0;32m     15\u001b[0m pprint\u001b[38;5;241m.\u001b[39mpprint(data)\n",
      "\u001b[1;31mTypeError\u001b[0m: unhashable type: 'list'"
     ]
    }
   ],
   "source": [
    "from typing import Dict, Union, Any\n",
    "import pprint\n",
    "\n",
    "Key = Union[Any]\n",
    "Value = Union[int, str, bool, list, set, tuple, dict]\n",
    "\n",
    "data: Dict[Key, Value] = {\n",
    "    \"name\": \"ziyad\",\n",
    "    1: 23,\n",
    "    True: \"graduation\",\n",
    "    [1, 2, 3]: False,\n",
    "}\n",
    "\n",
    "\n",
    "pprint.pprint(data)"
   ]
  },
  {
   "cell_type": "markdown",
   "metadata": {},
   "source": [
    "## Nested Dictionary\n"
   ]
  },
  {
   "cell_type": "code",
   "execution_count": 56,
   "metadata": {},
   "outputs": [
    {
     "name": "stdout",
     "output_type": "stream",
     "text": [
      "(\"Data => {1: 'a', 'b': 2, 3: ['a', 'b', 'c'], 'c': {1, 2, 4, 5, 6}, 4: ('a', \"\n",
      " \"1, 'b', 2), 'd': {'abc': 123, 789: 'xyz'}}\")\n",
      "Nested Dictionary => {'abc': 123, 789: 'xyz'}\n",
      "Nested Dictionary Item => xyz\n"
     ]
    }
   ],
   "source": [
    "from typing import Dict, Union\n",
    "import pprint\n",
    "\n",
    "Key = Union[int, str]\n",
    "Value = Union[int, str, bool, list, tuple, dict, set]\n",
    "\n",
    "data: Dict[Key, Value] = {\n",
    "    1: \"a\",\n",
    "    \"b\": 2,\n",
    "    3: [\"a\", \"b\", \"c\"],\n",
    "    \"c\": {1, 2, 4, 5, 6},\n",
    "    4: (\"a\", 1, \"b\", 2),\n",
    "    \"d\": {\"abc\": 123, 789: \"xyz\"},\n",
    "}\n",
    "\n",
    "pprint.pprint(f\"Data => {data}\")\n",
    "print(f\"Nested Dictionary => {data[\"d\"]}\")\n",
    "print(f\"Nested Dictionary Item => {data[\"d\"][789]}\")"
   ]
  },
  {
   "cell_type": "markdown",
   "metadata": {},
   "source": [
    "## Adding New Items in a Dictionary\n"
   ]
  },
  {
   "cell_type": "code",
   "execution_count": 70,
   "metadata": {},
   "outputs": [
    {
     "name": "stdout",
     "output_type": "stream",
     "text": [
      "{}\n",
      "{'name': 'Ziyad', 'age': 23, 'education': 'Graduation'}\n"
     ]
    }
   ],
   "source": [
    "from typing import Dict, Union\n",
    "\n",
    "Key = Union[int, str]\n",
    "Value = Union[int, str, bool, list, tuple, dict, set]\n",
    "\n",
    "dictionary_data: Dict[Key, Value] = {}\n",
    "print(dictionary_data)\n",
    "\n",
    "dictionary_data[\"name\"] = \"Ziyad\"\n",
    "dictionary_data[\"age\"] = 23\n",
    "dictionary_data[\"education\"] = \"Graduation\"\n",
    "\n",
    "print(dictionary_data)"
   ]
  },
  {
   "cell_type": "markdown",
   "metadata": {},
   "source": [
    "## Update a value in Dictionary\n"
   ]
  },
  {
   "cell_type": "code",
   "execution_count": 69,
   "metadata": {},
   "outputs": [
    {
     "name": "stdout",
     "output_type": "stream",
     "text": [
      "Dictionary => {'name': 'Ziyad', 'age': 23, 'education': 'Graduation'}\n",
      "Updated Dictionary => {'name': 'Ziyad Baig', 'age': 24, 'education': 'Graduation'}\n"
     ]
    }
   ],
   "source": [
    "from typing import Dict, Union\n",
    "\n",
    "Key = Union[int, str]\n",
    "Value = Union[int, str, bool, list, tuple, dict, set]\n",
    "\n",
    "dictionary_data: Dict[Key, Value] = {\n",
    "    \"name\": \"Ziyad\",\n",
    "    \"age\": 23,\n",
    "    \"education\": \"Graduation\",\n",
    "}\n",
    "print(f\"Dictionary => {dictionary_data}\")\n",
    "\n",
    "dictionary_data[\"name\"] = \"Ziyad Baig\"\n",
    "dictionary_data[\"age\"] = 24\n",
    "\n",
    "print(f\"Updated Dictionary => {dictionary_data}\")"
   ]
  },
  {
   "cell_type": "markdown",
   "metadata": {},
   "source": [
    "## Retrieving an unavaible item in a Dictionary\n"
   ]
  },
  {
   "cell_type": "code",
   "execution_count": 68,
   "metadata": {},
   "outputs": [
    {
     "ename": "KeyError",
     "evalue": "'salary'",
     "output_type": "error",
     "traceback": [
      "\u001b[1;31m---------------------------------------------------------------------------\u001b[0m",
      "\u001b[1;31mKeyError\u001b[0m                                  Traceback (most recent call last)",
      "Cell \u001b[1;32mIn[68], line 8\u001b[0m\n\u001b[0;32m      4\u001b[0m Value \u001b[38;5;241m=\u001b[39m Union[\u001b[38;5;28mint\u001b[39m, \u001b[38;5;28mstr\u001b[39m, \u001b[38;5;28mbool\u001b[39m, \u001b[38;5;28mlist\u001b[39m, \u001b[38;5;28mtuple\u001b[39m, \u001b[38;5;28mdict\u001b[39m, \u001b[38;5;28mset\u001b[39m]\n\u001b[0;32m      6\u001b[0m dictionary_data : Dict[Key, Value] \u001b[38;5;241m=\u001b[39m {\u001b[38;5;124m\"\u001b[39m\u001b[38;5;124mname\u001b[39m\u001b[38;5;124m\"\u001b[39m: \u001b[38;5;124m\"\u001b[39m\u001b[38;5;124mZiyad\u001b[39m\u001b[38;5;124m\"\u001b[39m, \u001b[38;5;124m\"\u001b[39m\u001b[38;5;124mage\u001b[39m\u001b[38;5;124m\"\u001b[39m: \u001b[38;5;241m23\u001b[39m, \u001b[38;5;124m\"\u001b[39m\u001b[38;5;124meducation\u001b[39m\u001b[38;5;124m\"\u001b[39m: \u001b[38;5;124m\"\u001b[39m\u001b[38;5;124mGraduation\u001b[39m\u001b[38;5;124m\"\u001b[39m}\n\u001b[1;32m----> 8\u001b[0m \u001b[38;5;28mprint\u001b[39m(\u001b[38;5;124mf\u001b[39m\u001b[38;5;124m\"\u001b[39m\u001b[38;5;124mDictionary => \u001b[39m\u001b[38;5;132;01m{\u001b[39;00m\u001b[43mdictionary_data\u001b[49m\u001b[43m[\u001b[49m\u001b[38;5;124;43m\"\u001b[39;49m\u001b[38;5;124;43msalary\u001b[39;49m\u001b[38;5;124;43m\"\u001b[39;49m\u001b[43m]\u001b[49m\u001b[38;5;132;01m}\u001b[39;00m\u001b[38;5;124m\"\u001b[39m) \u001b[38;5;66;03m# Error \"salary\" doest not exist in dictionary\u001b[39;00m\n",
      "\u001b[1;31mKeyError\u001b[0m: 'salary'"
     ]
    }
   ],
   "source": [
    "from typing import Dict, Union\n",
    "\n",
    "Key = Union[int, str]\n",
    "Value = Union[int, str, bool, list, tuple, dict, set]\n",
    "\n",
    "dictionary_data : Dict[Key, Value] = {\"name\": \"Ziyad\", \"age\": 23, \"education\": \"Graduation\"}\n",
    "\n",
    "print(f\"Dictionary => {dictionary_data[\"salary\"]}\") # Error \"salary\" doest not exist in dictionary"
   ]
  },
  {
   "cell_type": "markdown",
   "metadata": {},
   "source": [
    "# `Dictionary` Methods\n"
   ]
  },
  {
   "cell_type": "code",
   "execution_count": 71,
   "metadata": {},
   "outputs": [
    {
     "data": {
      "text/plain": [
       "['clear',\n",
       " 'copy',\n",
       " 'fromkeys',\n",
       " 'get',\n",
       " 'items',\n",
       " 'keys',\n",
       " 'pop',\n",
       " 'popitem',\n",
       " 'setdefault',\n",
       " 'update',\n",
       " 'values']"
      ]
     },
     "execution_count": 71,
     "metadata": {},
     "output_type": "execute_result"
    }
   ],
   "source": [
    "from typing import Dict, Union\n",
    "\n",
    "Key = Union[int, str]\n",
    "Value = Union[int, str, bool, list, tuple, dict, set]\n",
    "\n",
    "dictionary_data: Dict[Key, Value] = {\n",
    "    \"name\": \"Ziyad\",\n",
    "    \"age\": 23,\n",
    "    \"education\": \"Graduation\",\n",
    "}\n",
    "\n",
    "[i for i in dir(dictionary_data) if \"__\" not in i]"
   ]
  },
  {
   "cell_type": "markdown",
   "metadata": {},
   "source": [
    "## `.clear()` Method\n",
    "\n",
    "Removes all the elements from the dictionary and makes it empty\n"
   ]
  },
  {
   "cell_type": "code",
   "execution_count": 74,
   "metadata": {},
   "outputs": [
    {
     "name": "stdout",
     "output_type": "stream",
     "text": [
      "Before .clear() => {'brand': 'Ford', 'model': 'Mustang', 'year': 1964}\n",
      "After .clear() => {}\n"
     ]
    }
   ],
   "source": [
    "from typing import Dict\n",
    "\n",
    "car: Dict[str, str | int] = {\"brand\": \"Ford\", \"model\": \"Mustang\", \"year\": 1964}\n",
    "print(f\"Before .clear() => {car}\")\n",
    "\n",
    "car.clear()\n",
    "print(f\"After .clear() => {car}\")"
   ]
  },
  {
   "cell_type": "markdown",
   "metadata": {},
   "source": [
    "## `del` Method\n",
    "It deletes the dictionary from memory"
   ]
  },
  {
   "cell_type": "code",
   "execution_count": 2,
   "metadata": {},
   "outputs": [
    {
     "name": "stdout",
     "output_type": "stream",
     "text": [
      "Before Delete => {'brand': 'Ford', 'model': 'Mustang', 'year': 1964}\n"
     ]
    },
    {
     "ename": "NameError",
     "evalue": "name 'car' is not defined",
     "output_type": "error",
     "traceback": [
      "\u001b[1;31m---------------------------------------------------------------------------\u001b[0m",
      "\u001b[1;31mNameError\u001b[0m                                 Traceback (most recent call last)",
      "Cell \u001b[1;32mIn[2], line 8\u001b[0m\n\u001b[0;32m      4\u001b[0m \u001b[38;5;28mprint\u001b[39m(\u001b[38;5;124mf\u001b[39m\u001b[38;5;124m\"\u001b[39m\u001b[38;5;124mBefore Delete => \u001b[39m\u001b[38;5;132;01m{\u001b[39;00mcar\u001b[38;5;132;01m}\u001b[39;00m\u001b[38;5;124m\"\u001b[39m)\n\u001b[0;32m      6\u001b[0m \u001b[38;5;28;01mdel\u001b[39;00m car \u001b[38;5;66;03m# deletes the dictionary from memory\u001b[39;00m\n\u001b[1;32m----> 8\u001b[0m \u001b[38;5;28mprint\u001b[39m(\u001b[38;5;124mf\u001b[39m\u001b[38;5;124m\"\u001b[39m\u001b[38;5;124mAfter Delete => \u001b[39m\u001b[38;5;132;01m{\u001b[39;00m\u001b[43mcar\u001b[49m\u001b[38;5;132;01m}\u001b[39;00m\u001b[38;5;124m\"\u001b[39m) \u001b[38;5;66;03m# Error because no variable named \"car\" existed\u001b[39;00m\n",
      "\u001b[1;31mNameError\u001b[0m: name 'car' is not defined"
     ]
    }
   ],
   "source": [
    "from typing import Dict\n",
    "\n",
    "car: Dict[str, str | int] = {\"brand\": \"Ford\", \"model\": \"Mustang\", \"year\": 1964}\n",
    "print(f\"Before Delete => {car}\")\n",
    "\n",
    "del car # deletes the dictionary from memory\n",
    "\n",
    "print(f\"After Delete => {car}\") # Error because no variable named \"car\" existed"
   ]
  },
  {
   "cell_type": "markdown",
   "metadata": {},
   "source": [
    "## Deleting A Dictionary Item"
   ]
  },
  {
   "cell_type": "code",
   "execution_count": 3,
   "metadata": {},
   "outputs": [
    {
     "name": "stdout",
     "output_type": "stream",
     "text": [
      "Before Delete => {'brand': 'Ford', 'model': 'Mustang', 'year': 1964}\n",
      "After Delete => {'model': 'Mustang', 'year': 1964}\n"
     ]
    }
   ],
   "source": [
    "from typing import Dict\n",
    "\n",
    "car: Dict[str, str | int] = {\"brand\": \"Ford\", \"model\": \"Mustang\", \"year\": 1964}\n",
    "print(f\"Before Delete => {car}\")\n",
    "\n",
    "del car[\"brand\"]  # deletes a dictionary item from memory\n",
    "\n",
    "print(f\"After Delete => {car}\")  # No Error "
   ]
  },
  {
   "cell_type": "markdown",
   "metadata": {},
   "source": [
    "## `.copy()` Method\n",
    "\n",
    "Returns a deep copy of the dictionary\n"
   ]
  },
  {
   "cell_type": "code",
   "execution_count": 81,
   "metadata": {},
   "outputs": [
    {
     "name": "stdout",
     "output_type": "stream",
     "text": [
      "Car => {'brand': 'Ford', 'model': 'Mustang', 'year': 1964}\n",
      "Copied Car => {'brand': 'Ford', 'model': 'Mustang', 'year': 1964}\n",
      "\n",
      "Car => {'brand': 'Ford', 'model': 'Mustang GT', 'year': 1969}\n",
      "Copied Car => {'brand': 'Ford', 'model': 'Mustang', 'year': 1964}\n"
     ]
    }
   ],
   "source": [
    "from typing import Dict\n",
    "\n",
    "car: Dict[str, str | int] = {\"brand\": \"Ford\", \"model\": \"Mustang\", \"year\": 1964}\n",
    "print(f\"Car => {car}\")\n",
    "\n",
    "copied_car = car.copy()  # performs a deep copy\n",
    "print(f\"Copied Car => {copied_car}\\n\")\n",
    "\n",
    "car[\"model\"] = \"Mustang GT\"\n",
    "car[\"year\"] = 1969\n",
    "\n",
    "print(f\"Car => {car}\")\n",
    "print(f\"Copied Car => {copied_car}\")"
   ]
  },
  {
   "cell_type": "markdown",
   "metadata": {},
   "source": [
    "## `.fromkeys()` Method\n",
    "\n",
    "Convert a `Tuple` or `List` into dictionary by putting their elements as keys\n"
   ]
  },
  {
   "cell_type": "code",
   "execution_count": 90,
   "metadata": {},
   "outputs": [
    {
     "name": "stdout",
     "output_type": "stream",
     "text": [
      "dictionary from tuple => {'key1': 0, 'key2': 0, 'key3': 0}\n",
      "dictionary from list => {1: None, 2: None, 3: None}\n"
     ]
    }
   ],
   "source": [
    "from typing import Tuple, Dict, Optional, Union\n",
    "\n",
    "tuple_data: Tuple[str] = (\"key1\", \"key2\", \"key3\")\n",
    "list_data: list[int] = [1, 2, 3]\n",
    "\n",
    "Key = Union[str, int]\n",
    "Value = Optional[int]\n",
    "#                                                                   ⬐ this is optional, if no value given it will be None\n",
    "dictionary_from_tuple: Dict[Key, Value] = dict.fromkeys(tuple_data, 0)\n",
    "dictionary_from_list: Dict[Key, Value] = dict.fromkeys(list_data)\n",
    "\n",
    "print(f\"dictionary from tuple => {dictionary_from_tuple}\")\n",
    "print(f\"dictionary from list => {dictionary_from_list}\")"
   ]
  },
  {
   "cell_type": "markdown",
   "metadata": {},
   "source": [
    "## `.get()` Method\n",
    "\n",
    "Returns the value of the specified key and instead of throwing error, it shows a message if the specified key does not exist\n"
   ]
  },
  {
   "cell_type": "code",
   "execution_count": 94,
   "metadata": {},
   "outputs": [
    {
     "name": "stdout",
     "output_type": "stream",
     "text": [
      "Dictionary => {'name': 'Ziyad', 'age': 23, 'education': 'Graduation'}\n",
      "Message => Item with specified Key \"salary\" doesn't exist\n"
     ]
    }
   ],
   "source": [
    "from typing import Dict, Union\n",
    "\n",
    "Key = Union[int, str]\n",
    "Value = Union[int, str, bool, list, tuple, dict, set]\n",
    "\n",
    "dictionary_data : Dict[Key, Value] = {\"name\": \"Ziyad\", \"age\": 23, \"education\": \"Graduation\"}\n",
    "\n",
    "print(f\"Dictionary => {dictionary_data}\")\n",
    "print(f\"Message => {dictionary_data.get(\"salary\", \"Item with specified Key \\\"salary\\\" doesn't exist\")}\")"
   ]
  },
  {
   "cell_type": "markdown",
   "metadata": {},
   "source": [
    "## `.items()` Method\n",
    "\n",
    "Returns a list containing a tuple for each key value pair\n"
   ]
  },
  {
   "cell_type": "code",
   "execution_count": 98,
   "metadata": {},
   "outputs": [
    {
     "name": "stdout",
     "output_type": "stream",
     "text": [
      "dict_items([('name', 'Ziyad'), ('age', 23), ('education', 'Graduation')])\n"
     ]
    }
   ],
   "source": [
    "from typing import Dict, Union\n",
    "\n",
    "Key = Union[int, str]\n",
    "Value = Union[int, str, bool, list, tuple, dict, set]\n",
    "\n",
    "dictionary_data: Dict[Key, Value] = {\n",
    "    \"name\": \"Ziyad\",\n",
    "    \"age\": 23,\n",
    "    \"education\": \"Graduation\",\n",
    "}\n",
    "\n",
    "print(dictionary_data.items())"
   ]
  },
  {
   "cell_type": "markdown",
   "metadata": {},
   "source": [
    "## `.keys()` Method\n",
    "\n",
    "Returns a list containing the dictionary's keys\n"
   ]
  },
  {
   "cell_type": "code",
   "execution_count": 100,
   "metadata": {},
   "outputs": [
    {
     "name": "stdout",
     "output_type": "stream",
     "text": [
      "dict_keys(['name', 'age', 'education'])\n"
     ]
    }
   ],
   "source": [
    "from typing import Dict, Union\n",
    "\n",
    "Key = Union[int, str]\n",
    "Value = Union[int, str, bool, list, tuple, dict, set]\n",
    "\n",
    "dictionary_data: Dict[Key, Value] = {\n",
    "    \"name\": \"Ziyad\",\n",
    "    \"age\": 23,\n",
    "    \"education\": \"Graduation\",\n",
    "}\n",
    "\n",
    "print(dictionary_data.keys())"
   ]
  },
  {
   "cell_type": "markdown",
   "metadata": {},
   "source": [
    "## `.pop()` Method\n",
    "\n",
    "Removes the element with the specified key\n"
   ]
  },
  {
   "cell_type": "code",
   "execution_count": 112,
   "metadata": {},
   "outputs": [
    {
     "name": "stdout",
     "output_type": "stream",
     "text": [
      "Car before .pop() => {'brand': 'Ford', 'model': 'Mustang', 'year': 1964}\n",
      "Popped value => 1964\n",
      "Car after .pop() => {'brand': 'Ford', 'model': 'Mustang'}\n"
     ]
    }
   ],
   "source": [
    "from typing import Dict\n",
    "\n",
    "car: Dict[str, str | int] = {\"brand\": \"Ford\", \"model\": \"Mustang\", \"year\": 1964}\n",
    "print(f\"Car before .pop() => {car}\")\n",
    "\n",
    "popped_item = car.pop(\"year\")  # removes an item and returns value\n",
    "\n",
    "print(f\"Popped value => {popped_item}\")\n",
    "print(f\"Car after .pop() => {car}\")"
   ]
  },
  {
   "cell_type": "markdown",
   "metadata": {},
   "source": [
    "## `.popitem()` Method\n",
    "\n",
    "Removes the last inserted key-value pair\n"
   ]
  },
  {
   "cell_type": "code",
   "execution_count": 114,
   "metadata": {},
   "outputs": [
    {
     "name": "stdout",
     "output_type": "stream",
     "text": [
      "Car before .popitem() => {'brand': 'Ford', 'model': 'Mustang', 'year': 1964}\n",
      "Popped item => ('year', 1964)\n",
      "Car after .popitem() => {'brand': 'Ford', 'model': 'Mustang'}\n"
     ]
    }
   ],
   "source": [
    "from typing import Dict\n",
    "\n",
    "car: Dict[str, str | int] = {\"brand\": \"Ford\", \"model\": \"Mustang\", \"year\": 1964}\n",
    "print(f\"Car before .popitem() => {car}\")\n",
    "\n",
    "popped_item = car.popitem()  # removes last item and returns tuple of key, value pair\n",
    "\n",
    "print(f\"Popped item => {popped_item}\")\n",
    "print(f\"Car after .popitem() => {car}\")"
   ]
  },
  {
   "cell_type": "markdown",
   "metadata": {},
   "source": [
    "## `.setdefault()` Method\n",
    "\n",
    "Returns the value of the specified key. If the key does not exist: insert the key, with the specified value\n"
   ]
  },
  {
   "cell_type": "code",
   "execution_count": 5,
   "metadata": {},
   "outputs": [
    {
     "name": "stdout",
     "output_type": "stream",
     "text": [
      "Dictionary before .setdefault() => {'name': 'Ziyad', 'age': 23, 'education': 'Graduation'}\n",
      "New Item added => salary : $100/hr\n",
      "Dictionary after .setDefault() => {'name': 'Ziyad', 'age': 23, 'education': 'Graduation', 'salary': '$100/hr'}\n"
     ]
    }
   ],
   "source": [
    "from typing import Dict, Union\n",
    "\n",
    "Key = Union[int, str]\n",
    "Value = Union[int, str, bool, list, tuple, dict, set]\n",
    "\n",
    "dictionary_data : Dict[Key, Value] = {\"name\": \"Ziyad\", \"age\": 23, \"education\": \"Graduation\"}\n",
    "\n",
    "print(f\"Dictionary before .setdefault() => {dictionary_data}\")\n",
    "print(f\"New Item added => salary : {dictionary_data.setdefault(\"salary\", \"$100/hr\")}\") # get value but if not exist add it with given value\n",
    "print(f\"Dictionary after .setDefault() => {dictionary_data}\")"
   ]
  },
  {
   "cell_type": "markdown",
   "metadata": {},
   "source": [
    "## `.update()` Method\n",
    "\n",
    "Updates the dictionary with the specified key-value pairs\n"
   ]
  },
  {
   "cell_type": "code",
   "execution_count": 129,
   "metadata": {},
   "outputs": [
    {
     "name": "stdout",
     "output_type": "stream",
     "text": [
      "Dictionary before .update() => {'name': 'Ziyad', 'age': 23, 'education': 'Graduation'}\n",
      "Dictionary after .update() => {'name': 'Ziyad', 'age': 24, 'education': 'Graduation'}\n"
     ]
    }
   ],
   "source": [
    "from typing import Dict, Union\n",
    "\n",
    "Key = Union[int, str]\n",
    "Value = Union[int, str, bool, list, tuple, dict, set]\n",
    "\n",
    "dictionary_data: Dict[Key, Value] = {\n",
    "    \"name\": \"Ziyad\",\n",
    "    \"age\": 23,\n",
    "    \"education\": \"Graduation\",\n",
    "}\n",
    "\n",
    "print(f\"Dictionary before .update() => {dictionary_data}\")\n",
    "dictionary_data.update({\"age\": 24})  # Updated age\n",
    "print(f\"Dictionary after .update() => {dictionary_data}\")"
   ]
  },
  {
   "cell_type": "markdown",
   "metadata": {},
   "source": [
    "## `.values()` Method\n",
    "\n",
    "Returns a list of all the values in the dictionary\n"
   ]
  },
  {
   "cell_type": "code",
   "execution_count": 102,
   "metadata": {},
   "outputs": [
    {
     "name": "stdout",
     "output_type": "stream",
     "text": [
      "dict_values(['Ziyad', 23, 'Graduation'])\n"
     ]
    }
   ],
   "source": [
    "from typing import Dict, Union\n",
    "\n",
    "Key = Union[int, str]\n",
    "Value = Union[int, str, bool, list, tuple, dict, set]\n",
    "\n",
    "dictionary_data: Dict[Key, Value] = {\n",
    "    \"name\": \"Ziyad\",\n",
    "    \"age\": 23,\n",
    "    \"education\": \"Graduation\",\n",
    "}\n",
    "\n",
    "print(dictionary_data.values())"
   ]
  },
  {
   "cell_type": "markdown",
   "metadata": {},
   "source": [
    "# Shuffle In Python"
   ]
  },
  {
   "cell_type": "code",
   "execution_count": 169,
   "metadata": {},
   "outputs": [
    {
     "name": "stdout",
     "output_type": "stream",
     "text": [
      "Before Shuffle => a:10, b:20\n",
      "After Shuffle => a:20, b:10\n"
     ]
    }
   ],
   "source": [
    "a: int = 10\n",
    "b: int = 20\n",
    "\n",
    "print(f\"Before Shuffle => a:{a}, b:{b}\")\n",
    "\n",
    "a, b = b, a\n",
    "\n",
    "print(f\"After Shuffle => a:{a}, b:{b}\")"
   ]
  },
  {
   "cell_type": "code",
   "execution_count": 170,
   "metadata": {},
   "outputs": [
    {
     "name": "stdout",
     "output_type": "stream",
     "text": [
      "{'name': 'Ziyad', 'age': 23, 'education': 'Graduation'}\n",
      "\n",
      "KEY: 'Ziyad', VALUE: 'name'\n",
      "KEY: '23', VALUE: 'age'\n",
      "KEY: 'Graduation', VALUE: 'education'\n"
     ]
    }
   ],
   "source": [
    "from typing import Dict, Union\n",
    "\n",
    "Key = Union[int, str]\n",
    "Value = Union[int, str, bool, list, tuple, dict, set]\n",
    "\n",
    "dictionary_data: Dict[Key, Value] = {\n",
    "    \"name\": \"Ziyad\",\n",
    "    \"age\": 23,\n",
    "    \"education\": \"Graduation\",\n",
    "}\n",
    "\n",
    "print(f\"{dictionary_data}\\n\")\n",
    "\n",
    "for value, key in dictionary_data.items():\n",
    "    print(f\"KEY: '{key}', VALUE: '{value}'\")"
   ]
  },
  {
   "cell_type": "markdown",
   "metadata": {},
   "source": [
    "# Shuffling in Dictionary Comprehensive"
   ]
  },
  {
   "cell_type": "code",
   "execution_count": 171,
   "metadata": {},
   "outputs": [
    {
     "name": "stdout",
     "output_type": "stream",
     "text": [
      "{'name': 'Ziyad', 'age': 23, 'education': 'Graduation'}\n",
      "\n"
     ]
    },
    {
     "data": {
      "text/plain": [
       "{'Ziyad': 'name', 23: 'age', 'Graduation': 'education'}"
      ]
     },
     "execution_count": 171,
     "metadata": {},
     "output_type": "execute_result"
    }
   ],
   "source": [
    "from typing import Dict, Union\n",
    "\n",
    "Key = Union[int, str]\n",
    "Value = Union[int, str, bool, list, tuple, dict, set]\n",
    "\n",
    "dictionary_data: Dict[Key, Value] = {\n",
    "    \"name\": \"Ziyad\",\n",
    "    \"age\": 23,\n",
    "    \"education\": \"Graduation\",\n",
    "}\n",
    "\n",
    "print(f\"{dictionary_data}\\n\")\n",
    "\n",
    "{value: key for key, value in dictionary_data.items()}"
   ]
  },
  {
   "cell_type": "markdown",
   "metadata": {},
   "source": [
    "# Set DataType\n",
    "\n",
    "- ## `set` is similar to a `list` instead it always consist of unique elements, different in syntax and it is not called with index .\n"
   ]
  },
  {
   "cell_type": "code",
   "execution_count": 38,
   "metadata": {},
   "outputs": [
    {
     "name": "stdout",
     "output_type": "stream",
     "text": [
      "List => [1, 1, 2, 2, 3, 3, 4, 4, 5, 5, 6, 6, 7, 7, 8, 8, 9, 9]\n",
      "List Type => <class 'list'>\n",
      "Set => {1, 2, 3, 4, 5, 6, 7, 8, 9}\n",
      "Set Type => <class 'set'>\n"
     ]
    }
   ],
   "source": [
    "# List Datatype\n",
    "list_data: list[int] = [1, 1, 2, 2, 3, 3, 4, 4, 5, 5, 6, 6, 7, 7, 8, 8, 9, 9]\n",
    "print(f\"List => {list_data}\")\n",
    "print(f\"List Type => {type(list_data)}\")\n",
    "\n",
    "# Set Datatype\n",
    "set_data: set[int] = {1, 1, 2, 2, 3, 3, 4, 4, 5, 5, 6, 6, 7, 7, 8, 8, 9, 9}\n",
    "print(f\"Set => {set_data}\")  # return unique elements\n",
    "print(f\"Set Type => {type(set_data)}\")"
   ]
  },
  {
   "cell_type": "markdown",
   "metadata": {},
   "source": [
    "- ## Can not get a particular index from `set`\n"
   ]
  },
  {
   "cell_type": "code",
   "execution_count": 35,
   "metadata": {},
   "outputs": [
    {
     "name": "stdout",
     "output_type": "stream",
     "text": [
      "List => [1, 1, 2, 2, 3, 3, 4, 4, 5, 5, 6, 6, 7, 7, 8, 8, 9, 9]\n",
      "List Index => 1\n"
     ]
    },
    {
     "ename": "TypeError",
     "evalue": "'set' object is not subscriptable",
     "output_type": "error",
     "traceback": [
      "\u001b[1;31m---------------------------------------------------------------------------\u001b[0m",
      "\u001b[1;31mTypeError\u001b[0m                                 Traceback (most recent call last)",
      "Cell \u001b[1;32mIn[35], line 7\u001b[0m\n\u001b[0;32m      3\u001b[0m \u001b[38;5;28mprint\u001b[39m(\u001b[38;5;124mf\u001b[39m\u001b[38;5;124m\"\u001b[39m\u001b[38;5;124mList Index => \u001b[39m\u001b[38;5;132;01m{\u001b[39;00mlist_data[\u001b[38;5;241m0\u001b[39m]\u001b[38;5;132;01m}\u001b[39;00m\u001b[38;5;124m\"\u001b[39m)\n\u001b[0;32m      6\u001b[0m set_data: \u001b[38;5;28mset\u001b[39m \u001b[38;5;241m=\u001b[39m {\u001b[38;5;241m1\u001b[39m, \u001b[38;5;241m1\u001b[39m, \u001b[38;5;241m2\u001b[39m, \u001b[38;5;241m2\u001b[39m, \u001b[38;5;241m3\u001b[39m, \u001b[38;5;241m3\u001b[39m, \u001b[38;5;241m4\u001b[39m, \u001b[38;5;241m4\u001b[39m, \u001b[38;5;241m5\u001b[39m, \u001b[38;5;241m5\u001b[39m, \u001b[38;5;241m6\u001b[39m, \u001b[38;5;241m6\u001b[39m, \u001b[38;5;241m7\u001b[39m, \u001b[38;5;241m7\u001b[39m, \u001b[38;5;241m8\u001b[39m, \u001b[38;5;241m8\u001b[39m, \u001b[38;5;241m9\u001b[39m, \u001b[38;5;241m9\u001b[39m}\n\u001b[1;32m----> 7\u001b[0m \u001b[38;5;28mprint\u001b[39m(\u001b[38;5;124mf\u001b[39m\u001b[38;5;124m\"\u001b[39m\u001b[38;5;124mSet Index => \u001b[39m\u001b[38;5;132;01m{\u001b[39;00m\u001b[43mset_data\u001b[49m\u001b[43m[\u001b[49m\u001b[38;5;241;43m0\u001b[39;49m\u001b[43m]\u001b[49m\u001b[38;5;132;01m}\u001b[39;00m\u001b[38;5;124m\"\u001b[39m)\n",
      "\u001b[1;31mTypeError\u001b[0m: 'set' object is not subscriptable"
     ]
    }
   ],
   "source": [
    "list_data: list[int] = [1, 1, 2, 2, 3, 3, 4, 4, 5, 5, 6, 6, 7, 7, 8, 8, 9, 9]\n",
    "print(f\"List => {list_data}\")\n",
    "print(f\"List Index => {list_data[0]}\")\n",
    "\n",
    "\n",
    "set_data: set[int] = {1, 1, 2, 2, 3, 3, 4, 4, 5, 5, 6, 6, 7, 7, 8, 8, 9, 9}\n",
    "print(f\"Set Index => {set_data[0]}\")"
   ]
  },
  {
   "cell_type": "markdown",
   "metadata": {},
   "source": [
    "- ## `set` should be parsed into `list` then it's particular index can be obtained\n"
   ]
  },
  {
   "cell_type": "code",
   "execution_count": 41,
   "metadata": {},
   "outputs": [
    {
     "name": "stdout",
     "output_type": "stream",
     "text": [
      "<class 'list'>\n",
      "[1, 2, 3, 4, 5, 6, 7, 8, 9]\n",
      "1\n"
     ]
    }
   ],
   "source": [
    "set_data: set[int] = {1, 1, 2, 2, 3, 3, 4, 4, 5, 5, 6, 6, 7, 7, 8, 8, 9, 9}\n",
    "\n",
    "list_data: list[int] = list(set_data)\n",
    "\n",
    "print(type(list_data))\n",
    "print(list_data)\n",
    "print(list_data[0])"
   ]
  },
  {
   "cell_type": "markdown",
   "metadata": {},
   "source": [
    "# `Set` Methods\n"
   ]
  },
  {
   "cell_type": "code",
   "execution_count": 40,
   "metadata": {},
   "outputs": [
    {
     "data": {
      "text/plain": [
       "['add',\n",
       " 'clear',\n",
       " 'copy',\n",
       " 'difference',\n",
       " 'difference_update',\n",
       " 'discard',\n",
       " 'intersection',\n",
       " 'intersection_update',\n",
       " 'isdisjoint',\n",
       " 'issubset',\n",
       " 'issuperset',\n",
       " 'pop',\n",
       " 'remove',\n",
       " 'symmetric_difference',\n",
       " 'symmetric_difference_update',\n",
       " 'union',\n",
       " 'update']"
      ]
     },
     "execution_count": 40,
     "metadata": {},
     "output_type": "execute_result"
    }
   ],
   "source": [
    "set_data: set[int] = {1, 1, 2, 2, 3, 3, 4, 4, 5, 5, 6, 6, 7, 7, 8, 8, 9, 9}\n",
    "[i for i in dir(set_data) if \"__\" not in i]"
   ]
  },
  {
   "cell_type": "markdown",
   "metadata": {},
   "source": [
    "## `.add()` Method\n",
    "Adds an element to the set only if element already does not exist"
   ]
  },
  {
   "cell_type": "code",
   "execution_count": 174,
   "metadata": {},
   "outputs": [
    {
     "name": "stdout",
     "output_type": "stream",
     "text": [
      "Fruits Set before .add() => {'cherry', 'banana', 'apple'}\n",
      "Fruits Set after .add() => {'cherry', 'banana', 'apple', 'orange'}\n"
     ]
    }
   ],
   "source": [
    "fruits: set[str] = {\"apple\", \"banana\", \"cherry\"}\n",
    "\n",
    "print(f\"Fruits Set before .add() => {fruits}\")\n",
    "\n",
    "fruits.add(\"orange\")\n",
    "fruits.add(\"banana\")\n",
    "\n",
    "print(f\"Fruits Set after .add() => {fruits}\")"
   ]
  },
  {
   "cell_type": "markdown",
   "metadata": {},
   "source": [
    "## `.clear()` Method\n",
    "Removes all the elements from the set, makes it empty"
   ]
  },
  {
   "cell_type": "code",
   "execution_count": 176,
   "metadata": {},
   "outputs": [
    {
     "name": "stdout",
     "output_type": "stream",
     "text": [
      "Fruits Set before .clear() => {'cherry', 'banana', 'apple'}\n",
      "Fruits Set after .clear() => set()\n"
     ]
    }
   ],
   "source": [
    "fruits: set[str] = {\"apple\", \"banana\", \"cherry\"}\n",
    "\n",
    "print(f\"Fruits Set before .clear() => {fruits}\")\n",
    "\n",
    "fruits.clear()\n",
    "\n",
    "print(f\"Fruits Set after .clear() => {fruits}\")"
   ]
  },
  {
   "cell_type": "markdown",
   "metadata": {},
   "source": [
    "## `.copy()` Method\n",
    "Returns a copy of the set"
   ]
  },
  {
   "cell_type": "code",
   "execution_count": 177,
   "metadata": {},
   "outputs": [
    {
     "name": "stdout",
     "output_type": "stream",
     "text": [
      "Fruits Set => {'cherry', 'banana', 'apple'}\n",
      "Copied Fruits Set => {'cherry', 'banana', 'apple'}\n",
      "Fruits Set after .add() => {'cherry', 'banana', 'apple', 'orange'}\n"
     ]
    }
   ],
   "source": [
    "fruits: set[str] = {\"apple\", \"banana\", \"cherry\"}\n",
    "\n",
    "copied_fruits: set[str] = fruits.copy()\n",
    "\n",
    "print(f\"Fruits Set => {fruits}\")\n",
    "print(f\"Copied Fruits Set => {copied_fruits}\")\n",
    "\n",
    "fruits.add(\"orange\")\n",
    "fruits.add(\"banana\")\n",
    "\n",
    "print(f\"Fruits Set after .add() => {fruits}\")"
   ]
  },
  {
   "cell_type": "markdown",
   "metadata": {},
   "source": [
    "## `.difference()` Method\n"
   ]
  },
  {
   "cell_type": "markdown",
   "metadata": {},
   "source": [
    "- Return a set that contains the items that only exist in set `fruits1`, and not in set `fruits2`:"
   ]
  },
  {
   "cell_type": "code",
   "execution_count": 197,
   "metadata": {},
   "outputs": [
    {
     "name": "stdout",
     "output_type": "stream",
     "text": [
      "fruits1 => {'cherry', 'banana', 'apple'}\n",
      "fruits2  => {'microsoft', 'google', 'apple'}\n",
      "\n",
      "Items that existed only in fruits1 and not in fruits2 => {'cherry', 'banana'}\n"
     ]
    }
   ],
   "source": [
    "fruits1: set[str] = {\"apple\", \"banana\", \"cherry\"}\n",
    "fruits2: set[str] = {\"google\", \"microsoft\", \"apple\"}\n",
    "\n",
    "print(f\"fruits1 => {fruits1}\")\n",
    "print(f\"fruits2  => {fruits2}\")\n",
    "\n",
    "fruits_difference = fruits1.difference(fruits2)\n",
    "\n",
    "print(f\"\\nItems that existed only in fruits1 and not in fruits2 => {fruits_difference}\")"
   ]
  },
  {
   "cell_type": "markdown",
   "metadata": {},
   "source": [
    "- Return a set that contains the items that only exist in set `fruits2`, and not in set `fruits1`:"
   ]
  },
  {
   "cell_type": "code",
   "execution_count": 195,
   "metadata": {},
   "outputs": [
    {
     "name": "stdout",
     "output_type": "stream",
     "text": [
      "fruits1 => {'cherry', 'banana', 'apple'}\n",
      "fruits2  => {'microsoft', 'google', 'apple'}\n",
      "\n",
      "Items that existed only in fruits2 and not in fruits1 => {'microsoft', 'google'}\n"
     ]
    }
   ],
   "source": [
    "fruits1: set[str] = {\"apple\", \"banana\", \"cherry\"}\n",
    "fruits2: set[str] = {\"google\", \"microsoft\", \"apple\"}\n",
    "\n",
    "print(f\"fruits1 => {fruits1}\")\n",
    "print(f\"fruits2  => {fruits2}\")\n",
    "\n",
    "fruits_difference = fruits2.difference(fruits1)\n",
    "\n",
    "print(f\"\\nItems that existed only in fruits2 and not in fruits1 => {fruits_difference}\")"
   ]
  },
  {
   "cell_type": "markdown",
   "metadata": {},
   "source": [
    "## `.difference_update()` Method"
   ]
  },
  {
   "cell_type": "markdown",
   "metadata": {},
   "source": [
    "- Remove the items from `fruits1` that exist in both sets"
   ]
  },
  {
   "cell_type": "code",
   "execution_count": 192,
   "metadata": {},
   "outputs": [
    {
     "name": "stdout",
     "output_type": "stream",
     "text": [
      "fruits1 => {'cherry', 'banana', 'apple'}\n",
      "fruits2  => {'microsoft', 'google', 'apple'}\n",
      "\n",
      "Removing same items from 'Fruits1' that existed in both sets\n",
      "fruits1 => {'cherry', 'banana'}\n",
      "fruits2  => {'microsoft', 'google', 'apple'}\n"
     ]
    }
   ],
   "source": [
    "fruits1: set[str] = {\"apple\", \"banana\", \"cherry\"}\n",
    "fruits2: set[str] = {\"google\", \"microsoft\", \"apple\"}\n",
    "\n",
    "print(f\"fruits1 => {fruits1}\")\n",
    "print(f\"fruits2  => {fruits2}\")\n",
    "\n",
    "fruits1.difference_update(fruits2)\n",
    "\n",
    "print(\"\\nRemoving same items from 'Fruits1' that existed in both sets\")\n",
    "print(f\"fruits1 => {fruits1}\")\n",
    "print(f\"fruits2  => {fruits2}\")"
   ]
  },
  {
   "cell_type": "markdown",
   "metadata": {},
   "source": [
    "- Remove the items from `fruits2` that exist in both sets"
   ]
  },
  {
   "cell_type": "code",
   "execution_count": 191,
   "metadata": {},
   "outputs": [
    {
     "name": "stdout",
     "output_type": "stream",
     "text": [
      "fruits1 => {'cherry', 'banana', 'apple'}\n",
      "fruits2  => {'microsoft', 'google', 'apple'}\n",
      "\n",
      "Removing same items from 'Fruits2' that existed in both sets\n",
      "fruits1 => {'cherry', 'banana', 'apple'}\n",
      "fruits2  => {'microsoft', 'google'}\n"
     ]
    }
   ],
   "source": [
    "fruits1: set[str] = {\"apple\", \"banana\", \"cherry\"}\n",
    "fruits2: set[str] = {\"google\", \"microsoft\", \"apple\"}\n",
    "\n",
    "print(f\"fruits1 => {fruits1}\")\n",
    "print(f\"fruits2  => {fruits2}\")\n",
    "\n",
    "fruits2.difference_update(fruits1)\n",
    "\n",
    "print(\"\\nRemoving same items from 'Fruits2' that existed in both sets\")\n",
    "print(f\"fruits1 => {fruits1}\")\n",
    "print(f\"fruits2  => {fruits2}\")"
   ]
  },
  {
   "cell_type": "markdown",
   "metadata": {},
   "source": [
    "## `.discard()` Method\n",
    "Remove the specified item if available"
   ]
  },
  {
   "cell_type": "code",
   "execution_count": 203,
   "metadata": {},
   "outputs": [
    {
     "name": "stdout",
     "output_type": "stream",
     "text": [
      "fruits before .discard() => {'cherry', 'banana', 'apple'}\n",
      "fruits after .discard() => {'cherry', 'apple'}\n"
     ]
    }
   ],
   "source": [
    "fruits: set[str] = {\"apple\", \"banana\", \"cherry\"}\n",
    "\n",
    "print(f\"fruits before .discard() => {fruits}\")\n",
    "fruits.discard(\"banana\")\n",
    "print(f\"fruits after .discard() => {fruits}\")"
   ]
  },
  {
   "cell_type": "markdown",
   "metadata": {},
   "source": [
    "## `.intersection()` Method\n",
    "Return a set that contains the items that exist in both set `fruits1`, and set `fruits2`"
   ]
  },
  {
   "cell_type": "code",
   "execution_count": 214,
   "metadata": {},
   "outputs": [
    {
     "name": "stdout",
     "output_type": "stream",
     "text": [
      "fruits1 => {'cherry', 'banana', 'apple'}\n",
      "fruits2  => {'microsoft', 'google', 'apple'}\n",
      "\n",
      "Items that exist in both `fruits1` and `fruits2` => {'apple'}\n"
     ]
    }
   ],
   "source": [
    "fruits1: set[str] = {\"apple\", \"banana\", \"cherry\"}\n",
    "fruits2: set[str] = {\"google\", \"microsoft\", \"apple\"}\n",
    "\n",
    "print(f\"fruits1 => {fruits1}\")\n",
    "print(f\"fruits2  => {fruits2}\")\n",
    "\n",
    "print(\n",
    "    f\"\\nItems that exist in both `fruits1` and `fruits2` => {fruits1.intersection(fruits2)}\"\n",
    ")"
   ]
  },
  {
   "cell_type": "markdown",
   "metadata": {},
   "source": [
    "## `.intersection_update()` Method"
   ]
  },
  {
   "cell_type": "markdown",
   "metadata": {},
   "source": [
    "- Remove the items from `fruits1` that are not present in both `fruits1` and `fruits2`"
   ]
  },
  {
   "cell_type": "code",
   "execution_count": 221,
   "metadata": {},
   "outputs": [
    {
     "name": "stdout",
     "output_type": "stream",
     "text": [
      "fruits1 => {'cherry', 'banana', 'apple'}\n",
      "fruits2  => {'microsoft', 'google', 'apple'}\n",
      "\n",
      "Remove the items from `fruits1` that are not present in both `fruits1` and `fruits2`\n",
      "fruits1 => {'apple'}\n",
      "fruits2  => {'microsoft', 'google', 'apple'}\n"
     ]
    }
   ],
   "source": [
    "fruits1: set[str] = {\"apple\", \"banana\", \"cherry\"}\n",
    "fruits2: set[str] = {\"google\", \"microsoft\", \"apple\"}\n",
    "\n",
    "print(f\"fruits1 => {fruits1}\")\n",
    "print(f\"fruits2  => {fruits2}\")\n",
    "\n",
    "fruits1.intersection_update(fruits2)\n",
    "\n",
    "print(\n",
    "    \"\\nRemove the items from `fruits1` that are not present in both `fruits1` and `fruits2`\"\n",
    ")\n",
    "print(f\"fruits1 => {fruits1}\")\n",
    "print(f\"fruits2  => {fruits2}\")"
   ]
  },
  {
   "cell_type": "markdown",
   "metadata": {},
   "source": [
    "- Remove the items from `fruits2` that are not present in both `fruits1` and `fruits2`"
   ]
  },
  {
   "cell_type": "code",
   "execution_count": 219,
   "metadata": {},
   "outputs": [
    {
     "name": "stdout",
     "output_type": "stream",
     "text": [
      "fruits1 => {'cherry', 'banana', 'apple'}\n",
      "fruits2  => {'microsoft', 'google', 'apple'}\n",
      "\n",
      "Remove the items from `fruits2` that are not present in both `fruits1` and `fruits2`\n",
      "fruits1 => {'cherry', 'banana', 'apple'}\n",
      "fruits2  => {'apple'}\n"
     ]
    }
   ],
   "source": [
    "fruits1: set[str] = {\"apple\", \"banana\", \"cherry\"}\n",
    "fruits2: set[str] = {\"google\", \"microsoft\", \"apple\"}\n",
    "\n",
    "print(f\"fruits1 => {fruits1}\")\n",
    "print(f\"fruits2  => {fruits2}\")\n",
    "\n",
    "fruits2.intersection_update(fruits1)\n",
    "\n",
    "print(\n",
    "    \"\\nRemove the items from `fruits2` that are not present in both `fruits1` and `fruits2`\"\n",
    ")\n",
    "print(f\"fruits1 => {fruits1}\")\n",
    "print(f\"fruits2  => {fruits2}\")"
   ]
  },
  {
   "cell_type": "markdown",
   "metadata": {},
   "source": [
    "## `.isdisjoint()` Method\n"
   ]
  },
  {
   "cell_type": "markdown",
   "metadata": {},
   "source": [
    "- Return True if no items in set `fruits1` is present in set `fruits2`"
   ]
  },
  {
   "cell_type": "code",
   "execution_count": 225,
   "metadata": {},
   "outputs": [
    {
     "name": "stdout",
     "output_type": "stream",
     "text": [
      "fruits1 => {'cherry', 'banana', 'apple'}\n",
      "fruits2  => {'microsoft', 'google', 'apple'}\n",
      "No item in 'fruits1' is present in 'fruits2' => False\n"
     ]
    }
   ],
   "source": [
    "fruits1: set[str] = {\"apple\", \"banana\", \"cherry\"}\n",
    "fruits2: set[str] = {\"google\", \"microsoft\", \"apple\"}\n",
    "\n",
    "print(f\"fruits1 => {fruits1}\")\n",
    "print(f\"fruits2  => {fruits2}\")\n",
    "\n",
    "print(f\"No item in 'fruits1' is present in 'fruits2' => {fruits1.isdisjoint(fruits2)}\")"
   ]
  },
  {
   "cell_type": "markdown",
   "metadata": {},
   "source": [
    "- Return True if no items in set `fruits1` is present in set `fruits2`"
   ]
  },
  {
   "cell_type": "code",
   "execution_count": 226,
   "metadata": {},
   "outputs": [
    {
     "name": "stdout",
     "output_type": "stream",
     "text": [
      "fruits1 => {'cherry', 'banana', 'apple'}\n",
      "fruits2  => {'microsoft', 'google', 'ibm'}\n",
      "No item in 'fruits1' is present in 'fruits2' => True\n"
     ]
    }
   ],
   "source": [
    "fruits1: set[str] = {\"apple\", \"banana\", \"cherry\"}\n",
    "fruits2: set[str] = {\"google\", \"microsoft\", \"ibm\"}\n",
    "\n",
    "print(f\"fruits1 => {fruits1}\")\n",
    "print(f\"fruits2  => {fruits2}\")\n",
    "\n",
    "print(f\"No item in 'fruits1' is present in 'fruits2' => {fruits1.isdisjoint(fruits2)}\")"
   ]
  },
  {
   "cell_type": "markdown",
   "metadata": {},
   "source": [
    "## `.issubset()` Method\n"
   ]
  },
  {
   "cell_type": "markdown",
   "metadata": {},
   "source": [
    "- Return True if all items in set x are present in set y:"
   ]
  },
  {
   "cell_type": "code",
   "execution_count": null,
   "metadata": {},
   "outputs": [],
   "source": []
  },
  {
   "cell_type": "markdown",
   "metadata": {},
   "source": [
    "## `.issuperset()` Method\n",
    "- Returns whether this set contains another set or not.\n",
    "- Returns whether all items in other, specified set(s) is present in this set"
   ]
  },
  {
   "cell_type": "code",
   "execution_count": null,
   "metadata": {},
   "outputs": [],
   "source": []
  },
  {
   "cell_type": "markdown",
   "metadata": {},
   "source": [
    "## `.pop()` Method\n",
    "Removes an element from the set"
   ]
  },
  {
   "cell_type": "code",
   "execution_count": null,
   "metadata": {},
   "outputs": [],
   "source": []
  },
  {
   "cell_type": "markdown",
   "metadata": {},
   "source": [
    "## `.remove()` Method\n",
    "Removes the specified element"
   ]
  },
  {
   "cell_type": "code",
   "execution_count": null,
   "metadata": {},
   "outputs": [],
   "source": []
  },
  {
   "cell_type": "markdown",
   "metadata": {},
   "source": [
    "## `.symmetric_difference()` Method\n",
    "Returns a set with the symmetric differences of two sets"
   ]
  },
  {
   "cell_type": "code",
   "execution_count": null,
   "metadata": {},
   "outputs": [],
   "source": []
  },
  {
   "cell_type": "markdown",
   "metadata": {},
   "source": [
    "## `.symmetric_difference_update()` Method\n",
    "Inserts the symmetric differences from this set and another"
   ]
  },
  {
   "cell_type": "code",
   "execution_count": null,
   "metadata": {},
   "outputs": [],
   "source": []
  },
  {
   "cell_type": "markdown",
   "metadata": {},
   "source": [
    "## `.union()` Method\n",
    "Return a set containing the union of sets"
   ]
  },
  {
   "cell_type": "code",
   "execution_count": null,
   "metadata": {},
   "outputs": [],
   "source": []
  },
  {
   "cell_type": "markdown",
   "metadata": {},
   "source": [
    "## `.update()` Method\n",
    "Update the set with the union of this set and others\n"
   ]
  },
  {
   "cell_type": "code",
   "execution_count": null,
   "metadata": {},
   "outputs": [],
   "source": []
  }
 ],
 "metadata": {
  "kernelspec": {
   "display_name": "python12",
   "language": "python",
   "name": "python3"
  },
  "language_info": {
   "codemirror_mode": {
    "name": "ipython",
    "version": 3
   },
   "file_extension": ".py",
   "mimetype": "text/x-python",
   "name": "python",
   "nbconvert_exporter": "python",
   "pygments_lexer": "ipython3",
   "version": "3.12.0"
  }
 },
 "nbformat": 4,
 "nbformat_minor": 2
}
