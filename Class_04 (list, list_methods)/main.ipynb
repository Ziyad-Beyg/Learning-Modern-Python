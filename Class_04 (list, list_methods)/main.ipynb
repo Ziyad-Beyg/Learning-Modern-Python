{
 "cells": [
  {
   "cell_type": "markdown",
   "metadata": {},
   "source": [
    "# List\n",
    "\n",
    "- dynamic length\n",
    "- heterogenous data types (Multiple type)\n",
    "\n",
    "1. index\n",
    "   - positive 0 to n-1\n",
    "   - negative -1 to length\n",
    "1. slicing\n",
    "   - variable names[start:end:step]\n",
    "   - start : int = include\n",
    "   - end : int = n-1\n",
    "   - step : int = sequance\n"
   ]
  },
  {
   "cell_type": "code",
   "execution_count": 1,
   "metadata": {},
   "outputs": [
    {
     "name": "stdout",
     "output_type": "stream",
     "text": [
      "Qasim\n",
      "Qasim\n",
      "Sir Zia\n"
     ]
    }
   ],
   "source": [
    "# ->                    0        1         2\n",
    "names : list[str] = [\"Qasim\",\"Sir Zia\",\"Sir Inam\"] \n",
    "# <-                   -3       -2        -1\n",
    "\n",
    "print(names[0]) # Qasim\n",
    "print(names[-3]) # Qasim\n",
    "\n",
    "print(names[-2]) # Sir Zia"
   ]
  },
  {
   "cell_type": "markdown",
   "metadata": {},
   "source": [
    "# Any => This means that the names list can contain elements of any type.\n"
   ]
  },
  {
   "cell_type": "markdown",
   "metadata": {},
   "source": [
    "- the names list contains a mix of strings, an integer, and a boolean.\n"
   ]
  },
  {
   "cell_type": "code",
   "execution_count": 4,
   "metadata": {},
   "outputs": [
    {
     "name": "stdout",
     "output_type": "stream",
     "text": [
      "20\n",
      "Qasim\n",
      "True\n",
      "20\n",
      "Sir Zia\n"
     ]
    }
   ],
   "source": [
    "from typing import Any \n",
    "\n",
    "# ->                    0        1          2        3   4\n",
    "names : list[Any] = [\"Qasim\",\"Sir Zia\", \"Sir Inam\", 20, True]\n",
    "# <-                   -5       -4         -3       -2   -1\n",
    "\n",
    "print(names[-2])\n",
    "\n",
    "print(names[0])\n",
    "\n",
    "print(names[-1])\n",
    "\n",
    "print(names[3])\n",
    "\n",
    "print(names[-4])"
   ]
  },
  {
   "cell_type": "code",
   "execution_count": 6,
   "metadata": {},
   "outputs": [
    {
     "name": "stdout",
     "output_type": "stream",
     "text": [
      "<class 'list'>\n",
      "<class 'str'>\n",
      "Founder of PIAIC SIR ZIA\n"
     ]
    }
   ],
   "source": [
    "# ->                    0        1          2\n",
    "names : list[str] = [\"Qasim\",\"Sir Zia\", \"Sir Inam\"]\n",
    "# <-                   -3       -2         -1\n",
    "\n",
    "print(type(names)) \n",
    "print(type(names[-2]))\n",
    "\n",
    "print(f'Founder of PIAIC {names[-2].upper()}')"
   ]
  },
  {
   "cell_type": "markdown",
   "metadata": {},
   "source": [
    "# list()\n",
    "\n",
    "### The list() function iterates over the string and creates a list where each character is a separate element.\n"
   ]
  },
  {
   "cell_type": "code",
   "execution_count": 7,
   "metadata": {},
   "outputs": [
    {
     "data": {
      "text/plain": [
       "['a', 'b', 'c', 'd', 'e', 'f']"
      ]
     },
     "execution_count": 7,
     "metadata": {},
     "output_type": "execute_result"
    }
   ],
   "source": [
    "list('abcdef')"
   ]
  },
  {
   "cell_type": "code",
   "execution_count": 8,
   "metadata": {},
   "outputs": [
    {
     "name": "stdout",
     "output_type": "stream",
     "text": [
      "['A', 'B', 'C', 'D', 'E', 'F', 'G', 'H', 'I', 'J', 'K', 'L', 'M', 'N', 'O', 'P', 'Q', 'R', 'S', 'T', 'U', 'V', 'W', 'X', 'Y', 'Z']\n"
     ]
    }
   ],
   "source": [
    "characters : list[str] = list(\"ABCDEFGHIJKLMNOPQRSTUVWXYZ\")\n",
    "print(characters)"
   ]
  },
  {
   "cell_type": "markdown",
   "metadata": {},
   "source": [
    "# Slicing\n"
   ]
  },
  {
   "cell_type": "markdown",
   "metadata": {},
   "source": [
    "- characters[ 0 : 2 ] => This is a slice that starts from index 0 (inclusive) and goes up to index 2 (exclusive). It includes elements at index 0 and 1 but not the element at index 2.\n"
   ]
  },
  {
   "cell_type": "code",
   "execution_count": 10,
   "metadata": {},
   "outputs": [
    {
     "name": "stdout",
     "output_type": "stream",
     "text": [
      "['A', 'B']\n"
     ]
    }
   ],
   "source": [
    "# ->                       0    1    2    3    4    5    6    7    8    9    10   11\n",
    "characters : list[str] = ['A', 'B', 'C', 'D', 'E', 'F', 'G', 'H', 'I', 'J', 'K', 'L']\n",
    "# <-                      -12  -11  -10  -9   -8   -7   -6   -5   -4   -3   -2   -1  \n",
    "\n",
    "# default slicing go from left to right\n",
    "print(characters[0:2]) # 0 = include : index 2-1 = 1"
   ]
  },
  {
   "cell_type": "markdown",
   "metadata": {},
   "source": [
    "- characters[ : 2] => This is a slice that starts from the beginning (index 0) and goes up to index 2 (exclusive). It includes elements at index 0 and 1 but not the element at index 2.\n"
   ]
  },
  {
   "cell_type": "code",
   "execution_count": 11,
   "metadata": {},
   "outputs": [
    {
     "name": "stdout",
     "output_type": "stream",
     "text": [
      "['A', 'B']\n"
     ]
    }
   ],
   "source": [
    "# ->                       0    1    2    3    4    5    6    7    8    9    10   11\n",
    "characters : list[str] = ['A', 'B', 'C', 'D', 'E', 'F', 'G', 'H', 'I', 'J', 'K', 'L']\n",
    "# <-                      -12  -11  -10  -9   -8   -7   -6   -5   -4   -3   -2   -1  \n",
    "\n",
    "# default slicing go from left to right\n",
    "print(characters[:2]) # not pass any number = all"
   ]
  },
  {
   "cell_type": "markdown",
   "metadata": {},
   "source": [
    "- characters[ 0 : 3 : 1] => This is a slice that starts from index 0, goes up to index 3 (exclusive), and takes steps of size 1. The default step is 1, so you could also write it as characters[ 0 : 3 ].\n"
   ]
  },
  {
   "cell_type": "code",
   "execution_count": 13,
   "metadata": {},
   "outputs": [
    {
     "name": "stdout",
     "output_type": "stream",
     "text": [
      "['A', 'B', 'C']\n"
     ]
    }
   ],
   "source": [
    "# ->                       0    1    2    3    4    5    6    7    8    9    10   11\n",
    "characters : list[str] = ['A', 'B', 'C', 'D', 'E', 'F', 'G', 'H', 'I', 'J', 'K', 'L']\n",
    "# <-                      -12  -11  -10  -9   -8   -7   -6   -5   -4   -3   -2   -1  \n",
    "\n",
    "# default slicing go from left to right\n",
    "print(characters[0:3:1]) "
   ]
  },
  {
   "cell_type": "markdown",
   "metadata": {},
   "source": [
    "- characters[ -11 : -8 ] => This is a slice that starts from index -11 and goes up to index -8 (exclusive). It includes elements at indices -11, -10, and -9.\n"
   ]
  },
  {
   "cell_type": "code",
   "execution_count": 14,
   "metadata": {},
   "outputs": [
    {
     "name": "stdout",
     "output_type": "stream",
     "text": [
      "['B', 'C', 'D']\n"
     ]
    }
   ],
   "source": [
    "# ->                       0    1    2    3    4    5    6    7    8    9    10   11\n",
    "characters : list[str] = ['A', 'B', 'C', 'D', 'E', 'F', 'G', 'H', 'I', 'J', 'K', 'L']\n",
    "# <-                      -12  -11  -10  -9   -8   -7   -6   -5   -4   -3   -2   -1                   \n",
    "\n",
    "# default slicing go from left to right\n",
    "print(characters[-11:-8])"
   ]
  },
  {
   "cell_type": "markdown",
   "metadata": {},
   "source": [
    "- characters[ 0 : 4 : ] => This is a slice that starts from index 0, goes up to index 4 (exclusive), and takes steps of size 1. The default step is 1, so you could also write it as characters[ 0 : 4 ].\n"
   ]
  },
  {
   "cell_type": "code",
   "execution_count": 15,
   "metadata": {},
   "outputs": [
    {
     "name": "stdout",
     "output_type": "stream",
     "text": [
      "['A', 'B', 'C', 'D']\n"
     ]
    }
   ],
   "source": [
    "# ->                       0    1    2    3    4    5    6    7    8    9    10   11\n",
    "characters : list[str] = ['A', 'B', 'C', 'D', 'E', 'F', 'G', 'H', 'I', 'J', 'K', 'L']\n",
    "# <-                      -12  -11  -10  -9   -8   -7   -6   -5   -4   -3   -2   -1  \n",
    "\n",
    "# default slicing go from left to right\n",
    "print(characters[0:4:]) "
   ]
  },
  {
   "cell_type": "markdown",
   "metadata": {},
   "source": [
    "- characters[ : : ] => This is a slice that includes the entire list with no start, end, or step specified. It effectively creates a copy of the entire characters list.\n"
   ]
  },
  {
   "cell_type": "code",
   "execution_count": 17,
   "metadata": {},
   "outputs": [
    {
     "data": {
      "text/plain": [
       "['A',\n",
       " 'B',\n",
       " 'C',\n",
       " 'D',\n",
       " 'E',\n",
       " 'F',\n",
       " 'G',\n",
       " 'H',\n",
       " 'I',\n",
       " 'J',\n",
       " 'K',\n",
       " 'L',\n",
       " 'M',\n",
       " 'N',\n",
       " 'O',\n",
       " 'P',\n",
       " 'Q',\n",
       " 'R',\n",
       " 'S',\n",
       " 'T',\n",
       " 'U',\n",
       " 'V',\n",
       " 'W',\n",
       " 'X',\n",
       " 'Y',\n",
       " 'Z']"
      ]
     },
     "metadata": {},
     "output_type": "display_data"
    }
   ],
   "source": [
    "characters : list[str] = ['A', 'B', 'C', 'D', 'E', 'F', 'G', 'H', 'I', 'J', 'K', 'L', 'M', 'N', 'O', 'P', 'Q', 'R', 'S', 'T', 'U', 'V', 'W', 'X', 'Y', 'Z']\n",
    "\n",
    "display(characters[::])"
   ]
  },
  {
   "cell_type": "markdown",
   "metadata": {},
   "source": [
    "## Return Function\n"
   ]
  },
  {
   "cell_type": "code",
   "execution_count": 7,
   "metadata": {},
   "outputs": [
    {
     "data": {
      "text/plain": [
       "'Hello'"
      ]
     },
     "metadata": {},
     "output_type": "display_data"
    },
    {
     "data": {
      "text/plain": [
       "2967567515152"
      ]
     },
     "metadata": {},
     "output_type": "display_data"
    }
   ],
   "source": [
    "a : str = \"Hello\"\n",
    "b : int = id(a) # It will return a memory address\n",
    "\n",
    "display(a)\n",
    "display(b)"
   ]
  },
  {
   "cell_type": "markdown",
   "metadata": {},
   "source": [
    "## Non Return Function\n"
   ]
  },
  {
   "cell_type": "code",
   "execution_count": 9,
   "metadata": {},
   "outputs": [
    {
     "name": "stdout",
     "output_type": "stream",
     "text": [
      "I am a non returning function!\n"
     ]
    },
    {
     "data": {
      "text/plain": [
       "None"
      ]
     },
     "metadata": {},
     "output_type": "display_data"
    }
   ],
   "source": [
    "a = print(\"I am a non returning function!\")\n",
    "\n",
    "display(a)"
   ]
  },
  {
   "cell_type": "markdown",
   "metadata": {},
   "source": [
    "# HELP\n",
    "\n",
    "`If you want any help regarding python's function, method or object you can use the help function. \n",
    "It will return information regarding that object||function||method.\n",
    "`\n"
   ]
  },
  {
   "cell_type": "markdown",
   "metadata": {},
   "source": [
    "- help(object||function||method)\n",
    "- object||function||method?\n",
    "- object||function||method??\n",
    "- ?object||function||method\n",
    "- ??object||function||method\n",
    "\n",
    "`All of the above expressions returns a breif description of the functin, method or object you mentioned.`\n"
   ]
  },
  {
   "cell_type": "code",
   "execution_count": 10,
   "metadata": {},
   "outputs": [
    {
     "name": "stdout",
     "output_type": "stream",
     "text": [
      "Help on built-in function print in module builtins:\n",
      "\n",
      "print(*args, sep=' ', end='\\n', file=None, flush=False)\n",
      "    Prints the values to a stream, or to sys.stdout by default.\n",
      "\n",
      "    sep\n",
      "      string inserted between values, default a space.\n",
      "    end\n",
      "      string appended after the last value, default a newline.\n",
      "    file\n",
      "      a file-like object (stream); defaults to the current sys.stdout.\n",
      "    flush\n",
      "      whether to forcibly flush the stream.\n",
      "\n"
     ]
    }
   ],
   "source": [
    "help(print)"
   ]
  },
  {
   "cell_type": "code",
   "execution_count": 16,
   "metadata": {},
   "outputs": [
    {
     "name": "stdout",
     "output_type": "stream",
     "text": [
      "\u001b[1;31mInit signature:\u001b[0m \u001b[0mrange\u001b[0m\u001b[1;33m(\u001b[0m\u001b[0mself\u001b[0m\u001b[1;33m,\u001b[0m \u001b[1;33m/\u001b[0m\u001b[1;33m,\u001b[0m \u001b[1;33m*\u001b[0m\u001b[0margs\u001b[0m\u001b[1;33m,\u001b[0m \u001b[1;33m**\u001b[0m\u001b[0mkwargs\u001b[0m\u001b[1;33m)\u001b[0m\u001b[1;33m\u001b[0m\u001b[1;33m\u001b[0m\u001b[0m\n",
      "\u001b[1;31mDocstring:\u001b[0m     \n",
      "range(stop) -> range object\n",
      "range(start, stop[, step]) -> range object\n",
      "\n",
      "Return an object that produces a sequence of integers from start (inclusive)\n",
      "to stop (exclusive) by step.  range(i, j) produces i, i+1, i+2, ..., j-1.\n",
      "start defaults to 0, and stop is omitted!  range(4) produces 0, 1, 2, 3.\n",
      "These are exactly the valid indices for a list of 4 elements.\n",
      "When step is given, it specifies the increment (or decrement).\n",
      "\u001b[1;31mType:\u001b[0m           type\n",
      "\u001b[1;31mSubclasses:\u001b[0m     "
     ]
    }
   ],
   "source": [
    "range?"
   ]
  },
  {
   "cell_type": "code",
   "execution_count": 12,
   "metadata": {},
   "outputs": [
    {
     "name": "stdout",
     "output_type": "stream",
     "text": [
      "\u001b[1;31mSignature:\u001b[0m \u001b[0mid\u001b[0m\u001b[1;33m(\u001b[0m\u001b[0mobj\u001b[0m\u001b[1;33m,\u001b[0m \u001b[1;33m/\u001b[0m\u001b[1;33m)\u001b[0m\u001b[1;33m\u001b[0m\u001b[1;33m\u001b[0m\u001b[0m\n",
      "\u001b[1;31mDocstring:\u001b[0m\n",
      "Return the identity of an object.\n",
      "\n",
      "This is guaranteed to be unique among simultaneously existing objects.\n",
      "(CPython uses the object's memory address.)\n",
      "\u001b[1;31mType:\u001b[0m      builtin_function_or_method"
     ]
    }
   ],
   "source": [
    "id??"
   ]
  },
  {
   "cell_type": "code",
   "execution_count": 13,
   "metadata": {},
   "outputs": [
    {
     "name": "stdout",
     "output_type": "stream",
     "text": [
      "\u001b[1;31mSignature:\u001b[0m\n",
      "\u001b[0mdisplay\u001b[0m\u001b[1;33m(\u001b[0m\u001b[1;33m\n",
      "\u001b[0m    \u001b[1;33m*\u001b[0m\u001b[0mobjs\u001b[0m\u001b[1;33m,\u001b[0m\u001b[1;33m\n",
      "\u001b[0m    \u001b[0minclude\u001b[0m\u001b[1;33m=\u001b[0m\u001b[1;32mNone\u001b[0m\u001b[1;33m,\u001b[0m\u001b[1;33m\n",
      "\u001b[0m    \u001b[0mexclude\u001b[0m\u001b[1;33m=\u001b[0m\u001b[1;32mNone\u001b[0m\u001b[1;33m,\u001b[0m\u001b[1;33m\n",
      "\u001b[0m    \u001b[0mmetadata\u001b[0m\u001b[1;33m=\u001b[0m\u001b[1;32mNone\u001b[0m\u001b[1;33m,\u001b[0m\u001b[1;33m\n",
      "\u001b[0m    \u001b[0mtransient\u001b[0m\u001b[1;33m=\u001b[0m\u001b[1;32mNone\u001b[0m\u001b[1;33m,\u001b[0m\u001b[1;33m\n",
      "\u001b[0m    \u001b[0mdisplay_id\u001b[0m\u001b[1;33m=\u001b[0m\u001b[1;32mNone\u001b[0m\u001b[1;33m,\u001b[0m\u001b[1;33m\n",
      "\u001b[0m    \u001b[0mraw\u001b[0m\u001b[1;33m=\u001b[0m\u001b[1;32mFalse\u001b[0m\u001b[1;33m,\u001b[0m\u001b[1;33m\n",
      "\u001b[0m    \u001b[0mclear\u001b[0m\u001b[1;33m=\u001b[0m\u001b[1;32mFalse\u001b[0m\u001b[1;33m,\u001b[0m\u001b[1;33m\n",
      "\u001b[0m    \u001b[1;33m**\u001b[0m\u001b[0mkwargs\u001b[0m\u001b[1;33m,\u001b[0m\u001b[1;33m\n",
      "\u001b[0m\u001b[1;33m)\u001b[0m\u001b[1;33m\u001b[0m\u001b[1;33m\u001b[0m\u001b[0m\n",
      "\u001b[1;31mDocstring:\u001b[0m\n",
      "Display a Python object in all frontends.\n",
      "\n",
      "By default all representations will be computed and sent to the frontends.\n",
      "Frontends can decide which representation is used and how.\n",
      "\n",
      "In terminal IPython this will be similar to using :func:`print`, for use in richer\n",
      "frontends see Jupyter notebook examples with rich display logic.\n",
      "\n",
      "Parameters\n",
      "----------\n",
      "*objs : object\n",
      "    The Python objects to display.\n",
      "raw : bool, optional\n",
      "    Are the objects to be displayed already mimetype-keyed dicts of raw display data,\n",
      "    or Python objects that need to be formatted before display? [default: False]\n",
      "include : list, tuple or set, optional\n",
      "    A list of format type strings (MIME types) to include in the\n",
      "    format data dict. If this is set *only* the format types included\n",
      "    in this list will be computed.\n",
      "exclude : list, tuple or set, optional\n",
      "    A list of format type strings (MIME types) to exclude in the format\n",
      "    data dict. If this is set all format types will be computed,\n",
      "    except for those included in this argument.\n",
      "metadata : dict, optional\n",
      "    A dictionary of metadata to associate with the output.\n",
      "    mime-type keys in this dictionary will be associated with the individual\n",
      "    representation formats, if they exist.\n",
      "transient : dict, optional\n",
      "    A dictionary of transient data to associate with the output.\n",
      "    Data in this dict should not be persisted to files (e.g. notebooks).\n",
      "display_id : str, bool optional\n",
      "    Set an id for the display.\n",
      "    This id can be used for updating this display area later via update_display.\n",
      "    If given as `True`, generate a new `display_id`\n",
      "clear : bool, optional\n",
      "    Should the output area be cleared before displaying anything? If True,\n",
      "    this will wait for additional output before clearing. [default: False]\n",
      "**kwargs : additional keyword-args, optional\n",
      "    Additional keyword-arguments are passed through to the display publisher.\n",
      "\n",
      "Returns\n",
      "-------\n",
      "handle: DisplayHandle\n",
      "    Returns a handle on updatable displays for use with :func:`update_display`,\n",
      "    if `display_id` is given. Returns :any:`None` if no `display_id` is given\n",
      "    (default).\n",
      "\n",
      "Examples\n",
      "--------\n",
      ">>> class Json(object):\n",
      "...     def __init__(self, json):\n",
      "...         self.json = json\n",
      "...     def _repr_pretty_(self, pp, cycle):\n",
      "...         import json\n",
      "...         pp.text(json.dumps(self.json, indent=2))\n",
      "...     def __repr__(self):\n",
      "...         return str(self.json)\n",
      "...\n",
      "\n",
      ">>> d = Json({1:2, 3: {4:5}})\n",
      "\n",
      ">>> print(d)\n",
      "{1: 2, 3: {4: 5}}\n",
      "\n",
      ">>> display(d)\n",
      "{\n",
      "  \"1\": 2,\n",
      "  \"3\": {\n",
      "    \"4\": 5\n",
      "  }\n",
      "}\n",
      "\n",
      ">>> def int_formatter(integer, pp, cycle):\n",
      "...     pp.text('I'*integer)\n",
      "\n",
      ">>> plain = get_ipython().display_formatter.formatters['text/plain']\n",
      ">>> plain.for_type(int, int_formatter)\n",
      "<function _repr_pprint at 0x...>\n",
      ">>> display(7-5)\n",
      "II\n",
      "\n",
      ">>> del plain.type_printers[int]\n",
      ">>> display(7-5)\n",
      "2\n",
      "\n",
      "See Also\n",
      "--------\n",
      ":func:`update_display`\n",
      "\n",
      "Notes\n",
      "-----\n",
      "In Python, objects can declare their textual representation using the\n",
      "`__repr__` method. IPython expands on this idea and allows objects to declare\n",
      "other, rich representations including:\n",
      "\n",
      "  - HTML\n",
      "  - JSON\n",
      "  - PNG\n",
      "  - JPEG\n",
      "  - SVG\n",
      "  - LaTeX\n",
      "\n",
      "A single object can declare some or all of these representations; all are\n",
      "handled by IPython's display system.\n",
      "\n",
      "The main idea of the first approach is that you have to implement special\n",
      "display methods when you define your class, one for each representation you\n",
      "want to use. Here is a list of the names of the special methods and the\n",
      "values they must return:\n",
      "\n",
      "  - `_repr_html_`: return raw HTML as a string, or a tuple (see below).\n",
      "  - `_repr_json_`: return a JSONable dict, or a tuple (see below).\n",
      "  - `_repr_jpeg_`: return raw JPEG data, or a tuple (see below).\n",
      "  - `_repr_png_`: return raw PNG data, or a tuple (see below).\n",
      "  - `_repr_svg_`: return raw SVG data as a string, or a tuple (see below).\n",
      "  - `_repr_latex_`: return LaTeX commands in a string surrounded by \"$\",\n",
      "                    or a tuple (see below).\n",
      "  - `_repr_mimebundle_`: return a full mimebundle containing the mapping\n",
      "                         from all mimetypes to data.\n",
      "                         Use this for any mime-type not listed above.\n",
      "\n",
      "The above functions may also return the object's metadata alonside the\n",
      "data.  If the metadata is available, the functions will return a tuple\n",
      "containing the data and metadata, in that order.  If there is no metadata\n",
      "available, then the functions will return the data only.\n",
      "\n",
      "When you are directly writing your own classes, you can adapt them for\n",
      "display in IPython by following the above approach. But in practice, you\n",
      "often need to work with existing classes that you can't easily modify.\n",
      "\n",
      "You can refer to the documentation on integrating with the display system in\n",
      "order to register custom formatters for already existing types\n",
      "(:ref:`integrating_rich_display`).\n",
      "\n",
      ".. versionadded:: 5.4 display available without import\n",
      ".. versionadded:: 6.1 display available without import\n",
      "\n",
      "Since IPython 5.4 and 6.1 :func:`display` is automatically made available to\n",
      "the user without import. If you are using display in a document that might\n",
      "be used in a pure python context or with older version of IPython, use the\n",
      "following import at the top of your file::\n",
      "\n",
      "    from IPython.display import display\n",
      "\u001b[1;31mFile:\u001b[0m      c:\\users\\3 bros computerz\\anaconda3\\envs\\python12\\lib\\site-packages\\ipython\\core\\display_functions.py\n",
      "\u001b[1;31mType:\u001b[0m      function"
     ]
    }
   ],
   "source": [
    "?display"
   ]
  },
  {
   "cell_type": "code",
   "execution_count": 14,
   "metadata": {},
   "outputs": [
    {
     "name": "stdout",
     "output_type": "stream",
     "text": [
      "\u001b[1;31mDocstring:\u001b[0m\n",
      "Show attributes of an object.\n",
      "\n",
      "If called without an argument, return the names in the current scope.\n",
      "Else, return an alphabetized list of names comprising (some of) the attributes\n",
      "of the given object, and of attributes reachable from it.\n",
      "If the object supplies a method named __dir__, it will be used; otherwise\n",
      "the default dir() logic is used and returns:\n",
      "  for a module object: the module's attributes.\n",
      "  for a class object:  its attributes, and recursively the attributes\n",
      "    of its bases.\n",
      "  for any other object: its attributes, its class's attributes, and\n",
      "    recursively the attributes of its class's base classes.\n",
      "\u001b[1;31mType:\u001b[0m      builtin_function_or_method"
     ]
    }
   ],
   "source": [
    "??dir"
   ]
  },
  {
   "cell_type": "markdown",
   "metadata": {},
   "source": [
    "### Python is Mutable\n"
   ]
  },
  {
   "cell_type": "markdown",
   "metadata": {},
   "source": [
    "- Index Updation\n"
   ]
  },
  {
   "cell_type": "code",
   "execution_count": 75,
   "metadata": {},
   "outputs": [
    {
     "name": "stdout",
     "output_type": "stream",
     "text": [
      "names before updation => ['Qasim', 'Zia', 'Noman']\n",
      "names after updation => ['Muhammad Qasim', 'Zia', 'Noman']\n"
     ]
    }
   ],
   "source": [
    "names : list[str] = [\"Qasim\", \"Zia\", \"Noman\"]\n",
    "\n",
    "print(f\"names before updation => {names}\")\n",
    "\n",
    "names[0] = \"Muhammad Qasim\"  # Mutable\n",
    "\n",
    "print(f\"names after updation => {names}\")"
   ]
  },
  {
   "cell_type": "markdown",
   "metadata": {},
   "source": [
    "- Index Deletion\n"
   ]
  },
  {
   "cell_type": "code",
   "execution_count": 74,
   "metadata": {},
   "outputs": [
    {
     "name": "stdout",
     "output_type": "stream",
     "text": [
      "names before deletion => ['Qasim', 'Zia', 'Noman', 20, True]\n",
      "names after deletion => ['Qasim', 'Zia', 'Noman', True]\n"
     ]
    }
   ],
   "source": [
    "from typing import Any\n",
    "\n",
    "names : list[Any] = [\"Qasim\", \"Zia\", \"Noman\", 20, True]\n",
    "\n",
    "print(f\"names before deletion => {names}\")\n",
    "\n",
    "del names[3] # It does not return any value.\n",
    "\n",
    "print(f\"names after deletion => {names}\")"
   ]
  },
  {
   "cell_type": "markdown",
   "metadata": {},
   "source": [
    "## `del` method => it deletes the whole object from the memory.\n"
   ]
  },
  {
   "cell_type": "code",
   "execution_count": 76,
   "metadata": {},
   "outputs": [
    {
     "name": "stdout",
     "output_type": "stream",
     "text": [
      "names before deletion => ['Qasim', 'Zia', 'Noman']\n"
     ]
    },
    {
     "ename": "NameError",
     "evalue": "name 'names' is not defined",
     "output_type": "error",
     "traceback": [
      "\u001b[1;31m---------------------------------------------------------------------------\u001b[0m",
      "\u001b[1;31mNameError\u001b[0m                                 Traceback (most recent call last)",
      "Cell \u001b[1;32mIn[76], line 7\u001b[0m\n\u001b[0;32m      3\u001b[0m \u001b[38;5;28mprint\u001b[39m(\u001b[38;5;124mf\u001b[39m\u001b[38;5;124m\"\u001b[39m\u001b[38;5;124mnames before deletion => \u001b[39m\u001b[38;5;132;01m{\u001b[39;00mnames\u001b[38;5;132;01m}\u001b[39;00m\u001b[38;5;124m\"\u001b[39m)\n\u001b[0;32m      5\u001b[0m \u001b[38;5;28;01mdel\u001b[39;00m names\n\u001b[1;32m----> 7\u001b[0m \u001b[38;5;28mprint\u001b[39m(\u001b[38;5;124mf\u001b[39m\u001b[38;5;124m\"\u001b[39m\u001b[38;5;124mnames after deletion => \u001b[39m\u001b[38;5;132;01m{\u001b[39;00m\u001b[43mnames\u001b[49m\u001b[38;5;132;01m}\u001b[39;00m\u001b[38;5;124m\"\u001b[39m) \u001b[38;5;66;03m# because names is not defined\u001b[39;00m\n",
      "\u001b[1;31mNameError\u001b[0m: name 'names' is not defined"
     ]
    }
   ],
   "source": [
    "names : list[str] = [\"Qasim\", \"Zia\", \"Noman\"]\n",
    "\n",
    "print(f\"names before deletion => {names}\")\n",
    "\n",
    "del names\n",
    "\n",
    "print(f\"names after deletion => {names}\") # because names is not defined"
   ]
  },
  {
   "cell_type": "markdown",
   "metadata": {},
   "source": [
    "- Deleting multiple value from a list using list slicing with `del` method\n"
   ]
  },
  {
   "cell_type": "code",
   "execution_count": 73,
   "metadata": {},
   "outputs": [
    {
     "name": "stdout",
     "output_type": "stream",
     "text": [
      "names before deletion => ['Qasim', 'Zia', 'Noman']\n",
      "names after deletion => ['Noman']\n"
     ]
    }
   ],
   "source": [
    "names : list[str] = [\"Qasim\", \"Zia\", \"Noman\"]\n",
    "\n",
    "print(f\"names before deletion => {names}\")\n",
    "\n",
    "del names[0:2]\n",
    "\n",
    "print(f\"names after deletion => {names}\")"
   ]
  },
  {
   "cell_type": "markdown",
   "metadata": {},
   "source": [
    "* Deleting a single value from list using index with `del` method."
   ]
  },
  {
   "cell_type": "code",
   "execution_count": 72,
   "metadata": {},
   "outputs": [
    {
     "name": "stdout",
     "output_type": "stream",
     "text": [
      "names before deletion => ['Qasim', 'Zia', 'Noman']\n",
      "names after deletion => ['Qasim', 'Zia']\n"
     ]
    }
   ],
   "source": [
    "names : list[str] = [\"Qasim\", \"Zia\", \"Noman\"]\n",
    "\n",
    "print(f\"names before deletion => {names}\")\n",
    "\n",
    "del names[2]\n",
    "\n",
    "print(f\"names after deletion => {names}\")"
   ]
  },
  {
   "cell_type": "markdown",
   "metadata": {},
   "source": [
    "# List Methods\n"
   ]
  },
  {
   "cell_type": "code",
   "execution_count": 17,
   "metadata": {},
   "outputs": [
    {
     "data": {
      "text/plain": [
       "['append',\n",
       " 'clear',\n",
       " 'copy',\n",
       " 'count',\n",
       " 'extend',\n",
       " 'index',\n",
       " 'insert',\n",
       " 'pop',\n",
       " 'remove',\n",
       " 'reverse',\n",
       " 'sort']"
      ]
     },
     "execution_count": 17,
     "metadata": {},
     "output_type": "execute_result"
    }
   ],
   "source": [
    "names : list[str] = [\"Qasim\", \"Zia\", \"Noman\"]\n",
    "\n",
    "[i for i in dir(names) if \"__\" not in i]"
   ]
  },
  {
   "cell_type": "markdown",
   "metadata": {},
   "source": [
    "# `append()` => `Adds the value at the last index of the list`\n"
   ]
  },
  {
   "cell_type": "code",
   "execution_count": 49,
   "metadata": {},
   "outputs": [
    {
     "name": "stdout",
     "output_type": "stream",
     "text": [
      "names before append => ['Qasim', 'Zia', 'Noman']\n",
      "names after append => ['Qasim', 'Zia', 'Noman', 'Sir Inam']\n"
     ]
    }
   ],
   "source": [
    "names : list[str] = [\"Qasim\", \"Zia\", \"Noman\"]\n",
    "\n",
    "print(f\"names before append => {names}\")\n",
    "\n",
    "names.append(\"Sir Inam\")\n",
    "\n",
    "print(f\"names after append => {names}\")"
   ]
  },
  {
   "cell_type": "code",
   "execution_count": 45,
   "metadata": {},
   "outputs": [
    {
     "name": "stdout",
     "output_type": "stream",
     "text": [
      "['Qasim', 'Zia']\n",
      "['Qasim', 'Zia', ['Inam', 'Noman']]\n"
     ]
    }
   ],
   "source": [
    "names : list[str] = [\"Qasim\", \"Zia\"]\n",
    "\n",
    "print(f\"names before append => {names}\")\n",
    "\n",
    "more_names : list[str]  = [\"Inam\", \"Noman\"] \n",
    "\n",
    "names.append(more_names) # will add this list at the last index of names list\n",
    "\n",
    "print(f\"names after append => {names}\")"
   ]
  },
  {
   "cell_type": "markdown",
   "metadata": {},
   "source": [
    "# `clear()` => `like \"del\" it also does the deletion but it only deletes the value not the object from the memory `\n"
   ]
  },
  {
   "cell_type": "code",
   "execution_count": 20,
   "metadata": {},
   "outputs": [
    {
     "name": "stdout",
     "output_type": "stream",
     "text": [
      "['Qasim', 'Zia', 'Noman']\n",
      "[]\n"
     ]
    }
   ],
   "source": [
    "names : list[str] = [\"Qasim\", \"Zia\", \"Noman\"]\n",
    "\n",
    "print(names)\n",
    "\n",
    "names.clear()\n",
    "\n",
    "print(names)"
   ]
  },
  {
   "cell_type": "markdown",
   "metadata": {},
   "source": [
    "# `copy()` => `it helps in copy with values(Deep Copy) rather than copy with reference(Shallow Copy)`\n",
    "\n",
    "### `Deep Copy`\n"
   ]
  },
  {
   "cell_type": "code",
   "execution_count": 38,
   "metadata": {},
   "outputs": [
    {
     "name": "stdout",
     "output_type": "stream",
     "text": [
      "names => ['Qasim', 'Zia', 'Noman']\n",
      "Copied Names => ['Qasim', 'Zia', 'Noman']\n",
      "\n",
      "names => ['Qasim', 'Zia', 'Noman']\n",
      "Copied Names after updation => ['Qasim', 'Sir Zia', 'Noman']\n"
     ]
    }
   ],
   "source": [
    "names : list[str] = [\"Qasim\", \"Zia\", \"Noman\"]\n",
    "\n",
    "copied_names: list[str] = names.copy() # Deep Copy\n",
    "\n",
    "print(f\"names => {names}\")\n",
    "print(f\"Copied Names => {copied_names}\\n\")\n",
    "\n",
    "copied_names[1] = \"Sir Zia\"\n",
    "\n",
    "print(f\"names => {names}\")\n",
    "print(f\"Copied Names after updation => {copied_names}\")"
   ]
  },
  {
   "cell_type": "markdown",
   "metadata": {},
   "source": [
    "### `Shallow Copy`\n"
   ]
  },
  {
   "cell_type": "code",
   "execution_count": 39,
   "metadata": {},
   "outputs": [
    {
     "name": "stdout",
     "output_type": "stream",
     "text": [
      "names => ['Qasim', 'Zia', 'Noman']\n",
      "Copied Names => ['Qasim', 'Zia', 'Noman']\n",
      "\n",
      "names after updation => ['Qasim', 'Sir Zia', 'Noman']\n",
      "Copied Names after updation => ['Qasim', 'Sir Zia', 'Noman']\n"
     ]
    }
   ],
   "source": [
    "names : list[str] = [\"Qasim\", \"Zia\", \"Noman\"]\n",
    "\n",
    "copied_names: list[str] = names # Shallow Copy\n",
    "\n",
    "print(f\"names => {names}\")\n",
    "print(f\"Copied Names => {copied_names}\\n\")\n",
    "\n",
    "copied_names[1] = \"Sir Zia\"\n",
    "\n",
    "print(f\"names after updation => {names}\")\n",
    "print(f\"Copied Names after updation => {copied_names}\")"
   ]
  },
  {
   "cell_type": "markdown",
   "metadata": {},
   "source": [
    "# `count()` => `It will count the number of times a value is mentioned in the list.`\n"
   ]
  },
  {
   "cell_type": "code",
   "execution_count": 43,
   "metadata": {},
   "outputs": [
    {
     "name": "stdout",
     "output_type": "stream",
     "text": [
      "['a', 'b', 'b', 'c', 'c', 'c']\n",
      "Count of a => 1\n",
      "Count of b => 2\n",
      "Count of c => 3\n"
     ]
    }
   ],
   "source": [
    "alphabets : list[int] = ['a', 'b', 'b', 'c', 'c', 'c']\n",
    "\n",
    "print(alphabets)\n",
    "print(f\"Count of a => {alphabets.count(\"a\")}\")\n",
    "print(f\"Count of b => {alphabets.count(\"b\")}\")\n",
    "print(f\"Count of c => {alphabets.count(\"c\")}\")"
   ]
  },
  {
   "cell_type": "markdown",
   "metadata": {},
   "source": [
    "# `extend()` => `it works same as \"append()\" but unlike \"append()\" it will go through every index and combine the second list values in the fist list as a single list`\n"
   ]
  },
  {
   "cell_type": "code",
   "execution_count": 50,
   "metadata": {},
   "outputs": [
    {
     "name": "stdout",
     "output_type": "stream",
     "text": [
      "names before extend => ['Qasim', 'Zia']\n",
      "names after extend => ['Qasim', 'Zia', 'Inam', 'Noman']\n"
     ]
    }
   ],
   "source": [
    "names : list[str] = [\"Qasim\", \"Zia\"]\n",
    "\n",
    "print(f\"names before extend => {names}\")\n",
    "\n",
    "more_names : list[str]  = [\"Inam\", \"Noman\"] \n",
    "\n",
    "names.extend(more_names) \n",
    "\n",
    "print(f\"names after extend => {names}\")"
   ]
  },
  {
   "cell_type": "markdown",
   "metadata": {},
   "source": [
    "# `index()` => `It will give the index of the first string that matches with the list value`\n"
   ]
  },
  {
   "cell_type": "code",
   "execution_count": 52,
   "metadata": {},
   "outputs": [
    {
     "name": "stdout",
     "output_type": "stream",
     "text": [
      "Index of 'Zia' is 1\n"
     ]
    }
   ],
   "source": [
    "names : list[str] = [\"Qasim\", \"Zia\", \"Noman\"]\n",
    "\n",
    "print(f\"Index of 'Zia' is {names.index(\"Zia\")}\")"
   ]
  },
  {
   "cell_type": "markdown",
   "metadata": {},
   "source": [
    "## It will search for the value after 2nd index and return it's index"
   ]
  },
  {
   "cell_type": "code",
   "execution_count": 79,
   "metadata": {},
   "outputs": [
    {
     "name": "stdout",
     "output_type": "stream",
     "text": [
      "Index of 'Zia' after 2nd index value is 4\n"
     ]
    }
   ],
   "source": [
    "names : list[str] = [\"Qasim\", \"Zia\", \"Noman\", \"Inam\", \"Zia\", \"Basheer\"]\n",
    "\n",
    "print(f\"Index of 'Zia' after 2nd index value is {names.index(\"Zia\", 2)}\") # will search for the value after 2nd index"
   ]
  },
  {
   "cell_type": "markdown",
   "metadata": {},
   "source": [
    "# `insert()` => `it will add the given values at a specific index of the list`\n"
   ]
  },
  {
   "cell_type": "code",
   "execution_count": 65,
   "metadata": {},
   "outputs": [
    {
     "name": "stdout",
     "output_type": "stream",
     "text": [
      "['Qasim', 'Zia', 'Noman']\n",
      "['Qasim', ['Inam', 'Basheer'], 'Zia', 'Noman']\n"
     ]
    }
   ],
   "source": [
    "names : list[str] = [\"Qasim\", \"Zia\", \"Noman\"]\n",
    "\n",
    "print(names)\n",
    "\n",
    "more_names : list[str] = [\"Inam\", \"Basheer\"]\n",
    "\n",
    "names.insert(1, more_names)\n",
    "\n",
    "print(names)"
   ]
  },
  {
   "cell_type": "code",
   "execution_count": 80,
   "metadata": {},
   "outputs": [
    {
     "name": "stdout",
     "output_type": "stream",
     "text": [
      "['Qasim', 'Zia', 'Noman']\n",
      "['Qasim', 'Basheer', 'Inam', 'Zia', 'Noman']\n"
     ]
    }
   ],
   "source": [
    "names : list[str] = [\"Qasim\", \"Zia\", \"Noman\"]\n",
    "\n",
    "print(names)\n",
    "\n",
    "more_names : list[str] = [\"Inam\", \"Basheer\"]\n",
    "\n",
    "[names.insert(1, i) for i in more_names] \n",
    "# names = ['Qasim', 'Basheer', 'Inam', 'Zia', 'Noman'] because first \"Inam\" is added ata index 1, and then \"Basheer\" is added at index 1. thats why \"Basheer\" is ahead of \"Inam\".\n",
    "print(names)"
   ]
  },
  {
   "cell_type": "code",
   "execution_count": 68,
   "metadata": {},
   "outputs": [
    {
     "name": "stdout",
     "output_type": "stream",
     "text": [
      "['Qasim', 'Zia', 'Noman']\n",
      "['Qasim', 'Inam', 'Basheer', 'Zia', 'Noman']\n"
     ]
    }
   ],
   "source": [
    "names : list[str] = [\"Qasim\", \"Zia\", \"Noman\"]\n",
    "\n",
    "print(names)\n",
    "\n",
    "more_names : list[str] = [\"Inam\", \"Basheer\"]\n",
    "\n",
    "[names.insert(index + 1, value) for index, value in enumerate(more_names)] # iterate through each index and get the value along with index using the enumerate() method, and dynamically inserting first value at index 1 and then second value value at index 2.\n",
    "\n",
    "print(names)"
   ]
  },
  {
   "cell_type": "markdown",
   "metadata": {},
   "source": [
    "# `pop()` => `It will remove and return the last values of the list`"
   ]
  },
  {
   "cell_type": "code",
   "execution_count": 86,
   "metadata": {},
   "outputs": [
    {
     "data": {
      "text/plain": [
       "\"names before pop() => ['Qasim', 'Zia', 'Noman', 'Inam', 'Zia', 'Basheer']\""
      ]
     },
     "metadata": {},
     "output_type": "display_data"
    },
    {
     "data": {
      "text/plain": [
       "\"names after pop() => ['Qasim', 'Zia', 'Noman', 'Inam', 'Zia']\""
      ]
     },
     "metadata": {},
     "output_type": "display_data"
    },
    {
     "data": {
      "text/plain": [
       "'Poped name => Basheer'"
      ]
     },
     "metadata": {},
     "output_type": "display_data"
    }
   ],
   "source": [
    "names : list[str] = [\"Qasim\", \"Zia\", \"Noman\", \"Inam\", \"Zia\", \"Basheer\"]\n",
    "\n",
    "display(f\"names before pop() => {names}\")\n",
    "\n",
    "poped_name : str = names.pop()\n",
    "\n",
    "display(f\"names after pop() => {names}\") # display => pretty printing\n",
    "display(f\"Poped name => {poped_name}\")"
   ]
  },
  {
   "cell_type": "markdown",
   "metadata": {},
   "source": [
    "# `remove()` => `we provide it with a string argument and it will match it with list values and remove the first matched value`"
   ]
  },
  {
   "cell_type": "code",
   "execution_count": 89,
   "metadata": {},
   "outputs": [
    {
     "name": "stdout",
     "output_type": "stream",
     "text": [
      "names berfore remove() => ['Qasim', 'Zia', 'Noman', 'Inam', 'Zia', 'Basheer']\n",
      "names berfore remove() => ['Qasim', 'Noman', 'Inam', 'Zia', 'Basheer']\n"
     ]
    }
   ],
   "source": [
    "names : list[str] = [\"Qasim\", \"Zia\", \"Noman\", \"Inam\", \"Zia\", \"Basheer\"]\n",
    "\n",
    "print(f\"names berfore remove() => {names}\")\n",
    "\n",
    "names.remove(\"Zia\")\n",
    "\n",
    "print(f\"names berfore remove() => {names}\")"
   ]
  },
  {
   "cell_type": "markdown",
   "metadata": {},
   "source": [
    "# `reverse()` => `it will just reverse the order of the list, it will reverse the list in memory`"
   ]
  },
  {
   "cell_type": "code",
   "execution_count": 90,
   "metadata": {},
   "outputs": [
    {
     "name": "stdout",
     "output_type": "stream",
     "text": [
      "names before reverse => ['Qasim', 'Zia', 'Noman', 'Inam', 'Zia', 'Basheer']\n",
      "names after reverse => ['Basheer', 'Zia', 'Inam', 'Noman', 'Zia', 'Qasim']\n"
     ]
    }
   ],
   "source": [
    "names : list[str] = [\"Qasim\", \"Zia\", \"Noman\", \"Inam\", \"Zia\", \"Basheer\"]\n",
    "\n",
    "print(f\"names before reverse => {names}\")\n",
    "\n",
    "names.reverse() # in-memory reverse\n",
    "\n",
    "print(f\"names after reverse => {names}\")"
   ]
  },
  {
   "cell_type": "markdown",
   "metadata": {},
   "source": [
    "# `sort()` => `it will sort the given list acordingly`"
   ]
  },
  {
   "cell_type": "markdown",
   "metadata": {},
   "source": [
    "## `sorting in ascending order`"
   ]
  },
  {
   "cell_type": "code",
   "execution_count": 91,
   "metadata": {},
   "outputs": [
    {
     "name": "stdout",
     "output_type": "stream",
     "text": [
      "numbers before sorting => [6, 5, 9, 2, 0, 12, 124, 3, 91, 34, 1]\n",
      "numbers after sorting => [0, 1, 2, 3, 5, 6, 9, 12, 34, 91, 124]\n"
     ]
    }
   ],
   "source": [
    "numbers : list[int] = [6, 5, 9, 2, 0, 12, 124, 3, 91, 34, 1]\n",
    "\n",
    "print(f\"numbers before sorting => {numbers}\")\n",
    "\n",
    "numbers.sort()\n",
    "\n",
    "print(f\"numbers after sorting => {numbers}\")\n"
   ]
  },
  {
   "cell_type": "code",
   "execution_count": 94,
   "metadata": {},
   "outputs": [
    {
     "name": "stdout",
     "output_type": "stream",
     "text": [
      "alphabets before sorting => ['z', 'd', 'o', 'q', 'a', 'y', 'u', 'p', 'b', 'c', 'g', 'k', 'x']\n",
      "alphabets after sorting => ['a', 'b', 'c', 'd', 'g', 'k', 'o', 'p', 'q', 'u', 'x', 'y', 'z']\n"
     ]
    }
   ],
   "source": [
    "alphabets : list[str] = ['z', 'd', 'o', 'q', 'a', 'y', 'u', 'p', 'b', 'c', 'g', 'k', 'x']\n",
    "\n",
    "print(f\"alphabets before sorting => {alphabets}\")\n",
    "\n",
    "alphabets.sort() # will convert the str into ascii code and then sort accordingly\n",
    "\n",
    "print(f\"alphabets after sorting => {alphabets}\")"
   ]
  },
  {
   "cell_type": "markdown",
   "metadata": {},
   "source": [
    "## `sorting in descending order`"
   ]
  },
  {
   "cell_type": "code",
   "execution_count": 95,
   "metadata": {},
   "outputs": [
    {
     "name": "stdout",
     "output_type": "stream",
     "text": [
      "numbers before sorting => [6, 5, 9, 2, 0, 12, 124, 3, 91, 34, 1]\n",
      "numbers after sorting => [124, 91, 34, 12, 9, 6, 5, 3, 2, 1, 0]\n"
     ]
    }
   ],
   "source": [
    "numbers : list[int] = [6, 5, 9, 2, 0, 12, 124, 3, 91, 34, 1]\n",
    "\n",
    "print(f\"numbers before sorting => {numbers}\")\n",
    "\n",
    "numbers.sort(reverse=True)\n",
    "\n",
    "print(f\"numbers after sorting => {numbers}\")"
   ]
  },
  {
   "cell_type": "code",
   "execution_count": 96,
   "metadata": {},
   "outputs": [
    {
     "name": "stdout",
     "output_type": "stream",
     "text": [
      "alphabets before sorting => ['z', 'd', 'o', 'q', 'a', 'y', 'u', 'p', 'b', 'c', 'g', 'k', 'x']\n",
      "alphabets after sorting => ['z', 'y', 'x', 'u', 'q', 'p', 'o', 'k', 'g', 'd', 'c', 'b', 'a']\n"
     ]
    }
   ],
   "source": [
    "alphabets : list[str] = ['z', 'd', 'o', 'q', 'a', 'y', 'u', 'p', 'b', 'c', 'g', 'k', 'x']\n",
    "\n",
    "print(f\"alphabets before sorting => {alphabets}\")\n",
    "\n",
    "alphabets.sort(reverse=True) # will convert the str into ascii code and then sort accordingly\n",
    "\n",
    "print(f\"alphabets after sorting => {alphabets}\")"
   ]
  }
 ],
 "metadata": {
  "kernelspec": {
   "display_name": "python12",
   "language": "python",
   "name": "python3"
  },
  "language_info": {
   "codemirror_mode": {
    "name": "ipython",
    "version": 3
   },
   "file_extension": ".py",
   "mimetype": "text/x-python",
   "name": "python",
   "nbconvert_exporter": "python",
   "pygments_lexer": "ipython3",
   "version": "3.12.0"
  }
 },
 "nbformat": 4,
 "nbformat_minor": 2
}
