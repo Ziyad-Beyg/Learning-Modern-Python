{
 "cells": [
  {
   "cell_type": "markdown",
   "metadata": {},
   "source": [
    "\n",
    "# List\n",
    "\n",
    "* dynamic length\n",
    "* heterogenous data types (Multiple type)\n",
    "1. index\n",
    "    * positive 0 to n-1\n",
    "    * negative -1 to length\n",
    "1. slicing\n",
    "    * variable names[start:end:step]\n",
    "    * start : int = include\n",
    "    * end : int = n-1\n",
    "    * step : int = sequance\n",
    "\n"
   ]
  },
  {
   "cell_type": "code",
   "execution_count": 1,
   "metadata": {},
   "outputs": [
    {
     "name": "stdout",
     "output_type": "stream",
     "text": [
      "Qasim\n",
      "Qasim\n",
      "Sir Zia\n"
     ]
    }
   ],
   "source": [
    "# ->                    0        1         2\n",
    "names : list[str] = [\"Qasim\",\"Sir Zia\",\"Sir Inam\"] \n",
    "# <-                   -3       -2        -1\n",
    "\n",
    "print(names[0]) # Qasim\n",
    "print(names[-3]) # Qasim\n",
    "\n",
    "print(names[-2]) # Sir Zia"
   ]
  },
  {
   "cell_type": "markdown",
   "metadata": {},
   "source": [
    "# Any => This means that the names list can contain elements of any type."
   ]
  },
  {
   "cell_type": "markdown",
   "metadata": {},
   "source": [
    "-  the names list contains a mix of strings, an integer, and a boolean. "
   ]
  },
  {
   "cell_type": "code",
   "execution_count": 4,
   "metadata": {},
   "outputs": [
    {
     "name": "stdout",
     "output_type": "stream",
     "text": [
      "20\n",
      "Qasim\n",
      "True\n",
      "20\n",
      "Sir Zia\n"
     ]
    }
   ],
   "source": [
    "from typing import Any \n",
    "\n",
    "# ->                    0        1          2        3   4\n",
    "names : list[Any] = [\"Qasim\",\"Sir Zia\", \"Sir Inam\", 20, True]\n",
    "# <-                   -5       -4         -3       -2   -1\n",
    "\n",
    "print(names[-2])\n",
    "\n",
    "print(names[0])\n",
    "\n",
    "print(names[-1])\n",
    "\n",
    "print(names[3])\n",
    "\n",
    "print(names[-4])"
   ]
  },
  {
   "cell_type": "code",
   "execution_count": 6,
   "metadata": {},
   "outputs": [
    {
     "name": "stdout",
     "output_type": "stream",
     "text": [
      "<class 'list'>\n",
      "<class 'str'>\n",
      "Founder of PIAIC SIR ZIA\n"
     ]
    }
   ],
   "source": [
    "# ->                    0        1          2\n",
    "names : list[str] = [\"Qasim\",\"Sir Zia\", \"Sir Inam\"]\n",
    "# <-                   -3       -2         -1\n",
    "\n",
    "print(type(names)) \n",
    "print(type(names[-2]))\n",
    "\n",
    "print(f'Founder of PIAIC {names[-2].upper()}')"
   ]
  },
  {
   "cell_type": "markdown",
   "metadata": {},
   "source": [
    "# list()\n",
    "\n",
    "### The list() function iterates over the string and creates a list where each character is a separate element."
   ]
  },
  {
   "cell_type": "code",
   "execution_count": 7,
   "metadata": {},
   "outputs": [
    {
     "data": {
      "text/plain": [
       "['a', 'b', 'c', 'd', 'e', 'f']"
      ]
     },
     "execution_count": 7,
     "metadata": {},
     "output_type": "execute_result"
    }
   ],
   "source": [
    "list('abcdef')"
   ]
  },
  {
   "cell_type": "code",
   "execution_count": 8,
   "metadata": {},
   "outputs": [
    {
     "name": "stdout",
     "output_type": "stream",
     "text": [
      "['A', 'B', 'C', 'D', 'E', 'F', 'G', 'H', 'I', 'J', 'K', 'L', 'M', 'N', 'O', 'P', 'Q', 'R', 'S', 'T', 'U', 'V', 'W', 'X', 'Y', 'Z']\n"
     ]
    }
   ],
   "source": [
    "characters : list[str] = list(\"ABCDEFGHIJKLMNOPQRSTUVWXYZ\")\n",
    "print(characters)"
   ]
  },
  {
   "cell_type": "markdown",
   "metadata": {},
   "source": [
    "# Slicing"
   ]
  },
  {
   "cell_type": "markdown",
   "metadata": {},
   "source": [
    "- characters[ 0 : 2 ] => This is a slice that starts from index 0 (inclusive) and goes up to index 2 (exclusive). It includes elements at index 0 and 1 but not the element at index 2.\n"
   ]
  },
  {
   "cell_type": "code",
   "execution_count": 10,
   "metadata": {},
   "outputs": [
    {
     "name": "stdout",
     "output_type": "stream",
     "text": [
      "['A', 'B']\n"
     ]
    }
   ],
   "source": [
    "# ->                       0    1    2    3    4    5    6    7    8    9    10   11\n",
    "characters : list[str] = ['A', 'B', 'C', 'D', 'E', 'F', 'G', 'H', 'I', 'J', 'K', 'L']\n",
    "# <-                      -12  -11  -10  -9   -8   -7   -6   -5   -4   -3   -2   -1  \n",
    "\n",
    "# default slicing go from left to right\n",
    "print(characters[0:2]) # 0 = include : index 2-1 = 1"
   ]
  },
  {
   "cell_type": "markdown",
   "metadata": {},
   "source": [
    "- characters[ : 2] => This is a slice that starts from the beginning (index 0) and goes up to index 2 (exclusive). It includes elements at index 0 and 1 but not the element at index 2."
   ]
  },
  {
   "cell_type": "code",
   "execution_count": 11,
   "metadata": {},
   "outputs": [
    {
     "name": "stdout",
     "output_type": "stream",
     "text": [
      "['A', 'B']\n"
     ]
    }
   ],
   "source": [
    "# ->                       0    1    2    3    4    5    6    7    8    9    10   11\n",
    "characters : list[str] = ['A', 'B', 'C', 'D', 'E', 'F', 'G', 'H', 'I', 'J', 'K', 'L']\n",
    "# <-                      -12  -11  -10  -9   -8   -7   -6   -5   -4   -3   -2   -1  \n",
    "\n",
    "# default slicing go from left to right\n",
    "print(characters[:2]) # not pass any number = all"
   ]
  },
  {
   "cell_type": "markdown",
   "metadata": {},
   "source": [
    "- characters[ 0 : 3 : 1] => This is a slice that starts from index 0, goes up to index 3 (exclusive), and takes steps of size 1. The default step is 1, so you could also write it as characters[ 0 : 3 ]."
   ]
  },
  {
   "cell_type": "code",
   "execution_count": 13,
   "metadata": {},
   "outputs": [
    {
     "name": "stdout",
     "output_type": "stream",
     "text": [
      "['A', 'B', 'C']\n"
     ]
    }
   ],
   "source": [
    "# ->                       0    1    2    3    4    5    6    7    8    9    10   11\n",
    "characters : list[str] = ['A', 'B', 'C', 'D', 'E', 'F', 'G', 'H', 'I', 'J', 'K', 'L']\n",
    "# <-                      -12  -11  -10  -9   -8   -7   -6   -5   -4   -3   -2   -1  \n",
    "\n",
    "# default slicing go from left to right\n",
    "print(characters[0:3:1]) "
   ]
  },
  {
   "cell_type": "markdown",
   "metadata": {},
   "source": [
    "- characters[ -11 : -8 ] => This is a slice that starts from index -11 and goes up to index -8 (exclusive). It includes elements at indices -11, -10, and -9."
   ]
  },
  {
   "cell_type": "code",
   "execution_count": 14,
   "metadata": {},
   "outputs": [
    {
     "name": "stdout",
     "output_type": "stream",
     "text": [
      "['B', 'C', 'D']\n"
     ]
    }
   ],
   "source": [
    "# ->                       0    1    2    3    4    5    6    7    8    9    10   11\n",
    "characters : list[str] = ['A', 'B', 'C', 'D', 'E', 'F', 'G', 'H', 'I', 'J', 'K', 'L']\n",
    "# <-                      -12  -11  -10  -9   -8   -7   -6   -5   -4   -3   -2   -1                   \n",
    "\n",
    "# default slicing go from left to right\n",
    "print(characters[-11:-8])"
   ]
  },
  {
   "cell_type": "markdown",
   "metadata": {},
   "source": [
    "- characters[ 0 : 4 : ] => This is a slice that starts from index 0, goes up to index 4 (exclusive), and takes steps of size 1. The default step is 1, so you could also write it as characters[ 0 : 4 ]."
   ]
  },
  {
   "cell_type": "code",
   "execution_count": 15,
   "metadata": {},
   "outputs": [
    {
     "name": "stdout",
     "output_type": "stream",
     "text": [
      "['A', 'B', 'C', 'D']\n"
     ]
    }
   ],
   "source": [
    "# ->                       0    1    2    3    4    5    6    7    8    9    10   11\n",
    "characters : list[str] = ['A', 'B', 'C', 'D', 'E', 'F', 'G', 'H', 'I', 'J', 'K', 'L']\n",
    "# <-                      -12  -11  -10  -9   -8   -7   -6   -5   -4   -3   -2   -1  \n",
    "\n",
    "# default slicing go from left to right\n",
    "print(characters[0:4:]) "
   ]
  },
  {
   "cell_type": "markdown",
   "metadata": {},
   "source": [
    "- characters[ : : ] => This is a slice that includes the entire list with no start, end, or step specified. It effectively creates a copy of the entire characters list."
   ]
  },
  {
   "cell_type": "code",
   "execution_count": 17,
   "metadata": {},
   "outputs": [
    {
     "data": {
      "text/plain": [
       "['A',\n",
       " 'B',\n",
       " 'C',\n",
       " 'D',\n",
       " 'E',\n",
       " 'F',\n",
       " 'G',\n",
       " 'H',\n",
       " 'I',\n",
       " 'J',\n",
       " 'K',\n",
       " 'L',\n",
       " 'M',\n",
       " 'N',\n",
       " 'O',\n",
       " 'P',\n",
       " 'Q',\n",
       " 'R',\n",
       " 'S',\n",
       " 'T',\n",
       " 'U',\n",
       " 'V',\n",
       " 'W',\n",
       " 'X',\n",
       " 'Y',\n",
       " 'Z']"
      ]
     },
     "metadata": {},
     "output_type": "display_data"
    }
   ],
   "source": [
    "characters : list[str] = ['A', 'B', 'C', 'D', 'E', 'F', 'G', 'H', 'I', 'J', 'K', 'L', 'M', 'N', 'O', 'P', 'Q', 'R', 'S', 'T', 'U', 'V', 'W', 'X', 'Y', 'Z']\n",
    "\n",
    "display(characters[::])"
   ]
  },
  {
   "cell_type": "code",
   "execution_count": null,
   "metadata": {},
   "outputs": [],
   "source": []
  }
 ],
 "metadata": {
  "kernelspec": {
   "display_name": "python12",
   "language": "python",
   "name": "python3"
  },
  "language_info": {
   "codemirror_mode": {
    "name": "ipython",
    "version": 3
   },
   "file_extension": ".py",
   "mimetype": "text/x-python",
   "name": "python",
   "nbconvert_exporter": "python",
   "pygments_lexer": "ipython3",
   "version": "3.12.0"
  }
 },
 "nbformat": 4,
 "nbformat_minor": 2
}
